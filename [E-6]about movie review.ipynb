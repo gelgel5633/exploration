{
 "cells": [
  {
   "cell_type": "markdown",
   "id": "75541611",
   "metadata": {},
   "source": [
    "# 데이터 준비와 확인"
   ]
  },
  {
   "cell_type": "code",
   "execution_count": 1,
   "id": "81410faa",
   "metadata": {},
   "outputs": [
    {
     "data": {
      "text/html": [
       "<div>\n",
       "<style scoped>\n",
       "    .dataframe tbody tr th:only-of-type {\n",
       "        vertical-align: middle;\n",
       "    }\n",
       "\n",
       "    .dataframe tbody tr th {\n",
       "        vertical-align: top;\n",
       "    }\n",
       "\n",
       "    .dataframe thead th {\n",
       "        text-align: right;\n",
       "    }\n",
       "</style>\n",
       "<table border=\"1\" class=\"dataframe\">\n",
       "  <thead>\n",
       "    <tr style=\"text-align: right;\">\n",
       "      <th></th>\n",
       "      <th>id</th>\n",
       "      <th>document</th>\n",
       "      <th>label</th>\n",
       "    </tr>\n",
       "  </thead>\n",
       "  <tbody>\n",
       "    <tr>\n",
       "      <th>0</th>\n",
       "      <td>9976970</td>\n",
       "      <td>아 더빙.. 진짜 짜증나네요 목소리</td>\n",
       "      <td>0</td>\n",
       "    </tr>\n",
       "    <tr>\n",
       "      <th>1</th>\n",
       "      <td>3819312</td>\n",
       "      <td>흠...포스터보고 초딩영화줄....오버연기조차 가볍지 않구나</td>\n",
       "      <td>1</td>\n",
       "    </tr>\n",
       "    <tr>\n",
       "      <th>2</th>\n",
       "      <td>10265843</td>\n",
       "      <td>너무재밓었다그래서보는것을추천한다</td>\n",
       "      <td>0</td>\n",
       "    </tr>\n",
       "    <tr>\n",
       "      <th>3</th>\n",
       "      <td>9045019</td>\n",
       "      <td>교도소 이야기구먼 ..솔직히 재미는 없다..평점 조정</td>\n",
       "      <td>0</td>\n",
       "    </tr>\n",
       "    <tr>\n",
       "      <th>4</th>\n",
       "      <td>6483659</td>\n",
       "      <td>사이몬페그의 익살스런 연기가 돋보였던 영화!스파이더맨에서 늙어보이기만 했던 커스틴 ...</td>\n",
       "      <td>1</td>\n",
       "    </tr>\n",
       "  </tbody>\n",
       "</table>\n",
       "</div>"
      ],
      "text/plain": [
       "         id                                           document  label\n",
       "0   9976970                                아 더빙.. 진짜 짜증나네요 목소리      0\n",
       "1   3819312                  흠...포스터보고 초딩영화줄....오버연기조차 가볍지 않구나      1\n",
       "2  10265843                                  너무재밓었다그래서보는것을추천한다      0\n",
       "3   9045019                      교도소 이야기구먼 ..솔직히 재미는 없다..평점 조정      0\n",
       "4   6483659  사이몬페그의 익살스런 연기가 돋보였던 영화!스파이더맨에서 늙어보이기만 했던 커스틴 ...      1"
      ]
     },
     "execution_count": 1,
     "metadata": {},
     "output_type": "execute_result"
    }
   ],
   "source": [
    "import pandas as pd\n",
    "\n",
    "#데이터읽기\n",
    "train_data = pd.read_table('~/aiffel/sentiment_classification/data/ratings_train.txt')\n",
    "test_data = pd.read_table('~/aiffel/sentiment_classification/data/ratings_test.txt')\n",
    "\n",
    "train_data.head()"
   ]
  },
  {
   "cell_type": "markdown",
   "id": "5ef85667",
   "metadata": {},
   "source": [
    "# 데이터로더 구성"
   ]
  },
  {
   "cell_type": "code",
   "execution_count": 2,
   "id": "b0d4a8e5",
   "metadata": {},
   "outputs": [],
   "source": [
    "from konlpy.tag import Mecab\n",
    "import numpy as np\n",
    "from collections import Counter\n",
    "import tensorflow as tf\n",
    "from tensorflow import keras\n",
    "from tensorflow.keras.preprocessing.text import Tokenizer\n",
    "from tensorflow.keras.preprocessing.sequence import pad_sequences\n",
    "import urllib.request\n",
    "%matplotlib inline\n",
    "import matplotlib.pyplot as plt\n",
    "import re\n",
    "\n",
    "tokenizer = Mecab()\n",
    "stopwords = ['의','가','이','은','들','는','좀','잘','걍','과','도','를','으로','자','에','와','한','하다']\n",
    "\n",
    "def load_data(train_data, test_data, num_words=10000):\n",
    "    train_data.drop_duplicates(subset=['document'], inplace=True)\n",
    "    train_data = train_data.dropna(how = 'any') \n",
    "    test_data.drop_duplicates(subset=['document'], inplace=True)\n",
    "    test_data = test_data.dropna(how = 'any')\n",
    "    \n",
    "    X_train = []\n",
    "    for sentence in train_data['document']:\n",
    "        temp_X = tokenizer.morphs(sentence) # 토큰화\n",
    "        temp_X = [word for word in temp_X if not word in stopwords] # 불용어 제거\n",
    "        X_train.append(temp_X)\n",
    "\n",
    "    X_test = []\n",
    "    for sentence in test_data['document']:\n",
    "        temp_X = tokenizer.morphs(sentence) # 토큰화\n",
    "        temp_X = [word for word in temp_X if not word in stopwords] # 불용어 제거\n",
    "        X_test.append(temp_X)\n",
    "\n",
    "    words = np.concatenate(X_train).tolist()\n",
    "    counter = Counter(words)\n",
    "    counter = counter.most_common(10000-4)\n",
    "    vocab = ['<PAD>', '<BOS>', '<UNK>', '<UNUSED>'] + [key for key, _ in counter]\n",
    "    word_to_index = {word:index for index, word in enumerate(vocab)}\n",
    "\n",
    "    def wordlist_to_indexlist(wordlist):\n",
    "        return [word_to_index[word] if word in word_to_index else word_to_index['<UNK>'] for word in wordlist]\n",
    "\n",
    "    X_train = list(map(wordlist_to_indexlist, X_train))\n",
    "    X_test = list(map(wordlist_to_indexlist, X_test))\n",
    "\n",
    "    return X_train, np.array(list(train_data['label'])), X_test, np.array(list(test_data['label'])), word_to_index\n",
    "    \n",
    "X_train, y_train, X_test, y_test, word_to_index = load_data(train_data, test_data) "
   ]
  },
  {
   "cell_type": "code",
   "execution_count": 3,
   "id": "d712d2f5",
   "metadata": {},
   "outputs": [],
   "source": [
    "#딕셔너리에서 뽑아낸 키와 밸류 값의 위치를 바꿈\n",
    "index_to_word = {index:word for word, index in word_to_index.items()}"
   ]
  },
  {
   "cell_type": "code",
   "execution_count": 4,
   "id": "c6afcb9e",
   "metadata": {},
   "outputs": [],
   "source": [
    "# 문장 1개를 딕셔너리와 함께 주면, 단어 인덱스 리스트 벡터로 변환해 주는 함수\n",
    "# 모든 문장은 <BOS>로 시작\n",
    "def get_encoded_sentence(sentence, word_to_index):\n",
    "    return [word_to_index['<BOS>']]+[word_to_index[word] if word in word_to_index else word_to_index['<UNK>'] for word in sentence.split()]\n",
    "\n",
    "# 여러 개의 문장 리스트를 한꺼번에 단어 인덱스 리스트 벡터로 encode해 주는 함수 \n",
    "def get_encoded_sentences(sentences, word_to_index):\n",
    "    return [get_encoded_sentence(sentence, word_to_index) for sentence in sentences]\n",
    "\n",
    "# 숫자 벡터로 encode된 문장을 원래대로 decode하는 함수입니다. \n",
    "def get_decoded_sentence(encoded_sentence, index_to_word):\n",
    "    return ' '.join(index_to_word[index] if index in index_to_word else '<UNK>' for index in encoded_sentence[1:])  #[1:]를 통해 <BOS>를 제외\n",
    "\n",
    "# 여러개의 숫자 벡터로 encode된 문장을 한꺼번에 원래대로 decode하는 함수\n",
    "def get_decoded_sentences(encoded_sentences, index_to_word):\n",
    "    return [get_decoded_sentence(encoded_sentence, index_to_word) for encoded_sentence in encoded_sentences]"
   ]
  },
  {
   "cell_type": "markdown",
   "id": "2ed8a676",
   "metadata": {},
   "source": [
    "# 모델 구성을 위한 데이터 분석 및 가공"
   ]
  },
  {
   "cell_type": "markdown",
   "id": "deb6e7fe",
   "metadata": {},
   "source": [
    "### 데이터셋 내 문장 길이 확인 및 분포"
   ]
  },
  {
   "cell_type": "code",
   "execution_count": 5,
   "id": "bc5f9450",
   "metadata": {},
   "outputs": [
    {
     "name": "stdout",
     "output_type": "stream",
     "text": [
      "[32, 74, 919, 4, 4, 39, 228, 20, 33, 748]\n",
      "라벨:  0\n",
      "1번째 문장 길이:  10\n",
      "2번째 문장 길이:  17\n"
     ]
    }
   ],
   "source": [
    "print(X_train[0])  # 1번째 리뷰데이터\n",
    "print('라벨: ', y_train[0])  # 1번째 리뷰데이터의 라벨\n",
    "print('1번째 문장 길이: ', len(X_train[0]))\n",
    "print('2번째 문장 길이: ', len(X_train[1]))"
   ]
  },
  {
   "cell_type": "code",
   "execution_count": 6,
   "id": "f05051b2",
   "metadata": {},
   "outputs": [
    {
     "name": "stdout",
     "output_type": "stream",
     "text": [
      "문장길이 평균 :  15.96940191154864\n",
      "문장길이 최대 :  116\n",
      "문장길이 표준편차 :  12.843571191092\n"
     ]
    }
   ],
   "source": [
    "#리스트 X_train과 X_test를 더해서 total_data_text를 만듬\n",
    "total_data_text = list(X_train) + list(X_test)\n",
    "# 텍스트데이터 문장길이의 리스트를 생성\n",
    "num_tokens = [len(tokens) for tokens in total_data_text]\n",
    "num_tokens = np.array(num_tokens)\n",
    "# 문장길이의 평균값, 최대값, 표준편차를 계산\n",
    "print('문장길이 평균 : ', np.mean(num_tokens))\n",
    "print('문장길이 최대 : ', np.max(num_tokens))\n",
    "print('문장길이 표준편차 : ', np.std(num_tokens))"
   ]
  },
  {
   "cell_type": "markdown",
   "id": "218e09b6",
   "metadata": {},
   "source": [
    "### 적절한 최대 문장 길이 지정"
   ]
  },
  {
   "cell_type": "code",
   "execution_count": 7,
   "id": "8843700c",
   "metadata": {},
   "outputs": [
    {
     "name": "stdout",
     "output_type": "stream",
     "text": [
      "pad_sequences maxlen :  41\n",
      "전체 문장의 93.43%가 maxlen 설정값 이내에 포함됩니다. \n"
     ]
    }
   ],
   "source": [
    "# 예를들어, 최대 길이를 (평균 + 2*표준편차)로 한다면,  \n",
    "max_tokens = np.mean(num_tokens) + 2 * np.std(num_tokens)\n",
    "maxlen = int(max_tokens)\n",
    "print('pad_sequences maxlen : ', maxlen)\n",
    "print('전체 문장의 {}%가 maxlen 설정값 이내에 포함됩니다. '.format(round(np.sum(num_tokens < max_tokens) / len(num_tokens)*100, 2)))"
   ]
  },
  {
   "cell_type": "markdown",
   "id": "4540fee7",
   "metadata": {},
   "source": [
    "maxlen = 41로 설정됨"
   ]
  },
  {
   "cell_type": "markdown",
   "id": "c2c46ad2",
   "metadata": {},
   "source": [
    "#### keras.preprocessing.sequence.pad_sequences 를 활용한 패딩 추가"
   ]
  },
  {
   "cell_type": "code",
   "execution_count": 8,
   "id": "07ba61c2",
   "metadata": {},
   "outputs": [
    {
     "name": "stdout",
     "output_type": "stream",
     "text": [
      "(146182, 41)\n"
     ]
    }
   ],
   "source": [
    "#pre 혹은 post 두 가지 제외방식이 있으나, post를 사용할경우 패드를 제거하므로 pre에 비하여 효용성이 떨어짐\n",
    "X_train = keras.preprocessing.sequence.pad_sequences(X_train,\n",
    "                                                        value=word_to_index[\"<PAD>\"],\n",
    "                                                        padding='pre',\n",
    "                                                        maxlen=maxlen)\n",
    "\n",
    "X_test = keras.preprocessing.sequence.pad_sequences(X_test,\n",
    "                                                       value=word_to_index[\"<PAD>\"],\n",
    "                                                       padding='pre',\n",
    "                                                       maxlen=maxlen)\n",
    "print(X_train.shape)"
   ]
  },
  {
   "cell_type": "code",
   "execution_count": 9,
   "id": "6c865a31",
   "metadata": {},
   "outputs": [
    {
     "name": "stdout",
     "output_type": "stream",
     "text": [
      "문장길이 평균 :  41.0\n",
      "문장길이 최대 :  41\n",
      "문장길이 표준편차 :  0.0\n"
     ]
    }
   ],
   "source": [
    "# 문장길이의 평균값, 최대값, 표준편차를 다시 계산\n",
    "total_data_text = list(X_train) + list(X_test)\n",
    "# 텍스트데이터 문장길이의 리스트를 생성\n",
    "num_tokens = [len(tokens) for tokens in total_data_text]\n",
    "num_tokens = np.array(num_tokens)\n",
    "print('문장길이 평균 : ', np.mean(num_tokens))\n",
    "print('문장길이 최대 : ', np.max(num_tokens))\n",
    "print('문장길이 표준편차 : ', np.std(num_tokens))"
   ]
  },
  {
   "cell_type": "markdown",
   "id": "94d9ee5b",
   "metadata": {},
   "source": [
    "# 모델 구성 및 validation set 구성 + 훈련개시"
   ]
  },
  {
   "cell_type": "markdown",
   "id": "f4a428aa",
   "metadata": {},
   "source": [
    "### 1)RNN모델"
   ]
  },
  {
   "cell_type": "code",
   "execution_count": 10,
   "id": "c91f7989",
   "metadata": {},
   "outputs": [
    {
     "name": "stdout",
     "output_type": "stream",
     "text": [
      "Model: \"sequential\"\n",
      "_________________________________________________________________\n",
      "Layer (type)                 Output Shape              Param #   \n",
      "=================================================================\n",
      "embedding (Embedding)        (None, None, 16)          160000    \n",
      "_________________________________________________________________\n",
      "lstm (LSTM)                  (None, 32)                6272      \n",
      "_________________________________________________________________\n",
      "dense (Dense)                (None, 12)                396       \n",
      "_________________________________________________________________\n",
      "dense_1 (Dense)              (None, 1)                 13        \n",
      "=================================================================\n",
      "Total params: 166,681\n",
      "Trainable params: 166,681\n",
      "Non-trainable params: 0\n",
      "_________________________________________________________________\n"
     ]
    }
   ],
   "source": [
    "vocab_size = 10000  # 어휘 사전의 크기\n",
    "word_vector_dim = 16  # 단어 하나를 표현하는 임베딩 벡터의 차원수\n",
    "\n",
    "rnn_model = tf.keras.Sequential()\n",
    "rnn_model.add(tf.keras.layers.Embedding(vocab_size, word_vector_dim, input_shape=(None,)))\n",
    "rnn_model.add(tf.keras.layers.LSTM(32))   # 가장 널리 쓰이는 RNN인 LSTM 레이어를 사용. 이때 LSTM state 벡터의 차원수는 변경가능함\n",
    "rnn_model.add(tf.keras.layers.Dense(12, activation='relu'))\n",
    "rnn_model.add(tf.keras.layers.Dense(1, activation='sigmoid'))\n",
    "\n",
    "rnn_model.summary()"
   ]
  },
  {
   "cell_type": "markdown",
   "id": "01e765af",
   "metadata": {},
   "source": [
    "### RNN훈련 전 검증셋 떼어두기"
   ]
  },
  {
   "cell_type": "code",
   "execution_count": 11,
   "id": "f899f1cf",
   "metadata": {},
   "outputs": [
    {
     "name": "stdout",
     "output_type": "stream",
     "text": [
      "(91182, 41)\n",
      "(91182,)\n"
     ]
    }
   ],
   "source": [
    "# validation set 55,000건 분리\n",
    "X_val = X_train[:55000]   \n",
    "y_val = y_train[:55000]\n",
    "\n",
    "# validation set을 제외한 나머지\n",
    "partial_X_train = X_train[55000:]  \n",
    "partial_y_train = y_train[55000:]\n",
    "\n",
    "print(partial_X_train.shape)\n",
    "print(partial_y_train.shape)"
   ]
  },
  {
   "cell_type": "markdown",
   "id": "f7bc26c6",
   "metadata": {},
   "source": [
    "# RNN훈련"
   ]
  },
  {
   "cell_type": "code",
   "execution_count": 12,
   "id": "7ef83dd1",
   "metadata": {
    "scrolled": true
   },
   "outputs": [
    {
     "name": "stdout",
     "output_type": "stream",
     "text": [
      "Epoch 1/20\n",
      "179/179 [==============================] - 5s 9ms/step - loss: 0.5102 - accuracy: 0.7582 - val_loss: 0.3692 - val_accuracy: 0.8408\n",
      "Epoch 2/20\n",
      "179/179 [==============================] - 1s 6ms/step - loss: 0.3446 - accuracy: 0.8537 - val_loss: 0.3502 - val_accuracy: 0.8491\n",
      "Epoch 3/20\n",
      "179/179 [==============================] - 1s 6ms/step - loss: 0.3161 - accuracy: 0.8680 - val_loss: 0.3490 - val_accuracy: 0.8482\n",
      "Epoch 4/20\n",
      "179/179 [==============================] - 1s 6ms/step - loss: 0.3011 - accuracy: 0.8759 - val_loss: 0.3535 - val_accuracy: 0.8491\n",
      "Epoch 5/20\n",
      "179/179 [==============================] - 1s 7ms/step - loss: 0.2881 - accuracy: 0.8811 - val_loss: 0.3585 - val_accuracy: 0.8468\n",
      "Epoch 6/20\n",
      "179/179 [==============================] - 1s 7ms/step - loss: 0.2752 - accuracy: 0.8880 - val_loss: 0.3568 - val_accuracy: 0.8470\n",
      "Epoch 7/20\n",
      "179/179 [==============================] - 1s 6ms/step - loss: 0.2616 - accuracy: 0.8944 - val_loss: 0.3613 - val_accuracy: 0.8456\n",
      "Epoch 8/20\n",
      "179/179 [==============================] - 1s 6ms/step - loss: 0.2492 - accuracy: 0.9013 - val_loss: 0.3782 - val_accuracy: 0.8444\n",
      "Epoch 9/20\n",
      "179/179 [==============================] - 1s 6ms/step - loss: 0.2388 - accuracy: 0.9056 - val_loss: 0.3791 - val_accuracy: 0.8436\n",
      "Epoch 10/20\n",
      "179/179 [==============================] - 1s 7ms/step - loss: 0.2257 - accuracy: 0.9118 - val_loss: 0.3948 - val_accuracy: 0.8421\n",
      "Epoch 11/20\n",
      "179/179 [==============================] - 1s 6ms/step - loss: 0.2151 - accuracy: 0.9176 - val_loss: 0.4054 - val_accuracy: 0.8387\n",
      "Epoch 12/20\n",
      "179/179 [==============================] - 1s 6ms/step - loss: 0.2046 - accuracy: 0.9222 - val_loss: 0.4338 - val_accuracy: 0.8387\n",
      "Epoch 13/20\n",
      "179/179 [==============================] - 1s 6ms/step - loss: 0.1923 - accuracy: 0.9278 - val_loss: 0.4440 - val_accuracy: 0.8392\n",
      "Epoch 14/20\n",
      "179/179 [==============================] - 1s 6ms/step - loss: 0.1823 - accuracy: 0.9319 - val_loss: 0.4547 - val_accuracy: 0.8375\n",
      "Epoch 15/20\n",
      "179/179 [==============================] - 1s 6ms/step - loss: 0.1712 - accuracy: 0.9362 - val_loss: 0.4802 - val_accuracy: 0.8365\n",
      "Epoch 16/20\n",
      "179/179 [==============================] - 1s 6ms/step - loss: 0.1645 - accuracy: 0.9397 - val_loss: 0.4920 - val_accuracy: 0.8313\n",
      "Epoch 17/20\n",
      "179/179 [==============================] - 1s 6ms/step - loss: 0.1577 - accuracy: 0.9427 - val_loss: 0.5030 - val_accuracy: 0.8312\n",
      "Epoch 18/20\n",
      "179/179 [==============================] - 1s 6ms/step - loss: 0.1505 - accuracy: 0.9450 - val_loss: 0.5184 - val_accuracy: 0.8265\n",
      "Epoch 19/20\n",
      "179/179 [==============================] - 1s 6ms/step - loss: 0.1469 - accuracy: 0.9468 - val_loss: 0.5821 - val_accuracy: 0.8310\n",
      "Epoch 20/20\n",
      "179/179 [==============================] - 1s 6ms/step - loss: 0.1379 - accuracy: 0.9507 - val_loss: 0.6242 - val_accuracy: 0.8310\n"
     ]
    }
   ],
   "source": [
    "rnn_model.compile(optimizer='adam',\n",
    "              loss='binary_crossentropy',\n",
    "              metrics=['accuracy'])\n",
    "              \n",
    "epochs=20\n",
    "\n",
    "history = rnn_model.fit(partial_X_train,\n",
    "                    partial_y_train,\n",
    "                    epochs=epochs,\n",
    "                    batch_size=512,\n",
    "                    validation_data=(X_val, y_val),\n",
    "                    verbose=1)"
   ]
  },
  {
   "cell_type": "markdown",
   "id": "18d5049d",
   "metadata": {},
   "source": [
    "### RNN평가"
   ]
  },
  {
   "cell_type": "code",
   "execution_count": 13,
   "id": "7bea4859",
   "metadata": {},
   "outputs": [
    {
     "name": "stdout",
     "output_type": "stream",
     "text": [
      "1537/1537 - 3s - loss: 0.6385 - accuracy: 0.8263\n",
      "[0.6384586095809937, 0.8263319730758667]\n"
     ]
    }
   ],
   "source": [
    "results = rnn_model.evaluate(X_test,  y_test, verbose=2)\n",
    "\n",
    "print(results)"
   ]
  },
  {
   "cell_type": "markdown",
   "id": "079c8fd3",
   "metadata": {},
   "source": [
    "### RNN 그래프"
   ]
  },
  {
   "cell_type": "code",
   "execution_count": 14,
   "id": "bb36284b",
   "metadata": {},
   "outputs": [
    {
     "name": "stdout",
     "output_type": "stream",
     "text": [
      "dict_keys(['loss', 'accuracy', 'val_loss', 'val_accuracy'])\n"
     ]
    }
   ],
   "source": [
    "history_dict = history.history\n",
    "print(history_dict.keys()) # epoch에 따른 그래프를 그려볼 수 있는 항목들"
   ]
  },
  {
   "cell_type": "code",
   "execution_count": 15,
   "id": "fc0a1a62",
   "metadata": {},
   "outputs": [
    {
     "data": {
      "image/png": "[encoded data removed]",
      "text/plain": [
       "<Figure size 936x288 with 2 Axes>"
      ]
     },
     "metadata": {
      "needs_background": "light"
     },
     "output_type": "display_data"
    }
   ],
   "source": [
    "acc = history_dict['accuracy']\n",
    "val_acc = history_dict['val_accuracy']\n",
    "loss = history_dict['loss']\n",
    "val_loss = history_dict['val_loss']\n",
    "\n",
    "epochs = range(1, len(acc) + 1) #acc는 history값 , 에포치를 20으로 설정하였을 때의 값이 저장됨\n",
    "\n",
    "fig = plt.figure(figsize=(13,4))\n",
    "ax1 = fig.add_subplot(1,2,1)\n",
    "# bo는 점선\n",
    "plt.plot(epochs, loss, 'bo', label='Training loss')\n",
    "# b는 파란 실선\n",
    "plt.plot(epochs, val_loss, 'b', label='Validation loss')\n",
    "plt.title('Training and validation loss')\n",
    "plt.xlabel('Epochs')\n",
    "plt.ylabel('Loss')\n",
    "plt.legend()\n",
    "\n",
    "\n",
    "ax2 = fig.add_subplot(1,2,2)\n",
    "plt.plot(epochs, acc, 'bo', label='Training acc')\n",
    "plt.plot(epochs, val_acc, 'b', label='Validation acc')\n",
    "plt.title('Training and validation accuracy')\n",
    "plt.xlabel('Epochs')\n",
    "plt.ylabel('Accuracy')\n",
    "#plt.ylim(0.5,1)\n",
    "plt.legend()\n",
    "\n",
    "plt.show()"
   ]
  },
  {
   "cell_type": "code",
   "execution_count": 16,
   "id": "f24f8396",
   "metadata": {
    "scrolled": false
   },
   "outputs": [
    {
     "data": {
      "image/png": "[encoded data removed]",
      "text/plain": [
       "<Figure size 432x288 with 1 Axes>"
      ]
     },
     "metadata": {
      "needs_background": "light"
     },
     "output_type": "display_data"
    }
   ],
   "source": [
    "plt.clf()   # 그림을 초기화\n",
    "\n",
    "plt.plot(epochs, acc, 'bo', label='Training acc')\n",
    "plt.plot(epochs, val_acc, 'b', label='Validation acc')\n",
    "plt.title('Training and validation accuracy')\n",
    "plt.xlabel('Epochs')\n",
    "plt.ylabel('Accuracy')\n",
    "plt.legend()\n",
    "\n",
    "plt.show()"
   ]
  },
  {
   "cell_type": "markdown",
   "id": "4614fe68",
   "metadata": {},
   "source": [
    "# 2) 1-D Convolution Neural Network(1-D CNN)"
   ]
  },
  {
   "cell_type": "code",
   "execution_count": 17,
   "id": "62a4aaf9",
   "metadata": {},
   "outputs": [
    {
     "name": "stdout",
     "output_type": "stream",
     "text": [
      "Model: \"sequential_1\"\n",
      "_________________________________________________________________\n",
      "Layer (type)                 Output Shape              Param #   \n",
      "=================================================================\n",
      "embedding_1 (Embedding)      (None, None, 16)          160000    \n",
      "_________________________________________________________________\n",
      "conv1d (Conv1D)              (None, None, 16)          1808      \n",
      "_________________________________________________________________\n",
      "max_pooling1d (MaxPooling1D) (None, None, 16)          0         \n",
      "_________________________________________________________________\n",
      "conv1d_1 (Conv1D)            (None, None, 16)          1808      \n",
      "_________________________________________________________________\n",
      "global_max_pooling1d (Global (None, 16)                0         \n",
      "_________________________________________________________________\n",
      "dense_2 (Dense)              (None, 8)                 136       \n",
      "_________________________________________________________________\n",
      "dense_3 (Dense)              (None, 1)                 9         \n",
      "=================================================================\n",
      "Total params: 163,761\n",
      "Trainable params: 163,761\n",
      "Non-trainable params: 0\n",
      "_________________________________________________________________\n"
     ]
    }
   ],
   "source": [
    "vocab_size = 10000    # 어휘 사전의 크기\n",
    "word_vector_dim = 16  # 워드 벡터의 차원수 (변경가능한 하이퍼파라미터)\n",
    "\n",
    "cnn_model = keras.Sequential()\n",
    "cnn_model.add(keras.layers.Embedding(vocab_size, word_vector_dim, input_shape=(None,)))\n",
    "cnn_model.add(keras.layers.Conv1D(16, 7, activation='relu'))\n",
    "cnn_model.add(keras.layers.MaxPooling1D(5))\n",
    "cnn_model.add(keras.layers.Conv1D(16, 7, activation='relu'))\n",
    "cnn_model.add(keras.layers.GlobalMaxPooling1D())\n",
    "cnn_model.add(keras.layers.Dense(8, activation='relu'))\n",
    "cnn_model.add(keras.layers.Dense(1, activation='sigmoid'))  # 최종 출력은 긍정/부정을 나타내는 1dim\n",
    "\n",
    "cnn_model.summary()"
   ]
  },
  {
   "cell_type": "markdown",
   "id": "f3feadb9",
   "metadata": {},
   "source": [
    "### 1-D CNN훈련"
   ]
  },
  {
   "cell_type": "code",
   "execution_count": 18,
   "id": "aafaed76",
   "metadata": {},
   "outputs": [
    {
     "name": "stdout",
     "output_type": "stream",
     "text": [
      "Epoch 1/20\n",
      "179/179 [==============================] - 3s 7ms/step - loss: 0.5381 - accuracy: 0.7147 - val_loss: 0.3672 - val_accuracy: 0.8383\n",
      "Epoch 2/20\n",
      "179/179 [==============================] - 1s 5ms/step - loss: 0.3409 - accuracy: 0.8539 - val_loss: 0.3498 - val_accuracy: 0.8472\n",
      "Epoch 3/20\n",
      "179/179 [==============================] - 1s 5ms/step - loss: 0.3030 - accuracy: 0.8736 - val_loss: 0.3486 - val_accuracy: 0.8493\n",
      "Epoch 4/20\n",
      "179/179 [==============================] - 1s 5ms/step - loss: 0.2759 - accuracy: 0.8875 - val_loss: 0.3485 - val_accuracy: 0.8500\n",
      "Epoch 5/20\n",
      "179/179 [==============================] - 1s 5ms/step - loss: 0.2489 - accuracy: 0.9014 - val_loss: 0.3580 - val_accuracy: 0.8494\n",
      "Epoch 6/20\n",
      "179/179 [==============================] - 1s 5ms/step - loss: 0.2198 - accuracy: 0.9161 - val_loss: 0.3833 - val_accuracy: 0.8447\n",
      "Epoch 7/20\n",
      "179/179 [==============================] - 1s 5ms/step - loss: 0.1881 - accuracy: 0.9314 - val_loss: 0.4013 - val_accuracy: 0.8439\n",
      "Epoch 8/20\n",
      "179/179 [==============================] - 1s 5ms/step - loss: 0.1585 - accuracy: 0.9449 - val_loss: 0.4332 - val_accuracy: 0.8409\n",
      "Epoch 9/20\n",
      "179/179 [==============================] - 1s 5ms/step - loss: 0.1324 - accuracy: 0.9564 - val_loss: 0.4840 - val_accuracy: 0.8357\n",
      "Epoch 10/20\n",
      "179/179 [==============================] - 1s 5ms/step - loss: 0.1100 - accuracy: 0.9654 - val_loss: 0.5033 - val_accuracy: 0.8355\n",
      "Epoch 11/20\n",
      "179/179 [==============================] - 1s 5ms/step - loss: 0.0914 - accuracy: 0.9724 - val_loss: 0.5557 - val_accuracy: 0.8326\n",
      "Epoch 12/20\n",
      "179/179 [==============================] - 1s 5ms/step - loss: 0.0768 - accuracy: 0.9779 - val_loss: 0.6197 - val_accuracy: 0.8294\n",
      "Epoch 13/20\n",
      "179/179 [==============================] - 1s 5ms/step - loss: 0.0662 - accuracy: 0.9811 - val_loss: 0.6534 - val_accuracy: 0.8271\n",
      "Epoch 14/20\n",
      "179/179 [==============================] - 1s 6ms/step - loss: 0.0564 - accuracy: 0.9845 - val_loss: 0.6987 - val_accuracy: 0.8257\n",
      "Epoch 15/20\n",
      "179/179 [==============================] - 1s 5ms/step - loss: 0.0474 - accuracy: 0.9870 - val_loss: 0.7501 - val_accuracy: 0.8212\n",
      "Epoch 16/20\n",
      "179/179 [==============================] - 1s 5ms/step - loss: 0.0414 - accuracy: 0.9889 - val_loss: 0.7888 - val_accuracy: 0.8223\n",
      "Epoch 17/20\n",
      "179/179 [==============================] - 1s 5ms/step - loss: 0.0366 - accuracy: 0.9901 - val_loss: 0.8323 - val_accuracy: 0.8204\n",
      "Epoch 18/20\n",
      "179/179 [==============================] - 1s 5ms/step - loss: 0.0332 - accuracy: 0.9912 - val_loss: 0.8885 - val_accuracy: 0.8177\n",
      "Epoch 19/20\n",
      "179/179 [==============================] - 1s 5ms/step - loss: 0.0304 - accuracy: 0.9919 - val_loss: 0.9427 - val_accuracy: 0.8175\n",
      "Epoch 20/20\n",
      "179/179 [==============================] - 1s 5ms/step - loss: 0.0300 - accuracy: 0.9912 - val_loss: 0.9795 - val_accuracy: 0.8170\n"
     ]
    }
   ],
   "source": [
    "cnn_model.compile(optimizer='adam',\n",
    "              loss='binary_crossentropy',\n",
    "              metrics=['accuracy'])\n",
    "              \n",
    "epochs=20\n",
    "\n",
    "cnn_history = cnn_model.fit(partial_X_train,\n",
    "                    partial_y_train,\n",
    "                    epochs=epochs,\n",
    "                    batch_size=512,\n",
    "                    validation_data=(X_val, y_val),\n",
    "                    verbose=1)\n",
    "\n"
   ]
  },
  {
   "cell_type": "markdown",
   "id": "e43b2fbd",
   "metadata": {},
   "source": [
    "### 1-D CNN평가"
   ]
  },
  {
   "cell_type": "code",
   "execution_count": 19,
   "id": "2ae0335d",
   "metadata": {},
   "outputs": [
    {
     "name": "stdout",
     "output_type": "stream",
     "text": [
      "1537/1537 - 2s - loss: 1.0056 - accuracy: 0.8104\n",
      "[1.0055862665176392, 0.8103830814361572]\n"
     ]
    }
   ],
   "source": [
    "results = cnn_model.evaluate(X_test,  y_test, verbose=2)\n",
    "\n",
    "print(results)"
   ]
  },
  {
   "cell_type": "markdown",
   "id": "7aa8a4b6",
   "metadata": {},
   "source": [
    "### 1-D CNN 그래프"
   ]
  },
  {
   "cell_type": "code",
   "execution_count": 20,
   "id": "fd1e4575",
   "metadata": {},
   "outputs": [
    {
     "name": "stdout",
     "output_type": "stream",
     "text": [
      "dict_keys(['loss', 'accuracy', 'val_loss', 'val_accuracy'])\n"
     ]
    }
   ],
   "source": [
    "cnn_history_dict = cnn_history.history\n",
    "print(cnn_history_dict.keys())"
   ]
  },
  {
   "cell_type": "code",
   "execution_count": 21,
   "id": "575db210",
   "metadata": {
    "scrolled": false
   },
   "outputs": [
    {
     "data": {
      "image/png": "[encoded data removed]",
      "text/plain": [
       "<Figure size 936x288 with 2 Axes>"
      ]
     },
     "metadata": {
      "needs_background": "light"
     },
     "output_type": "display_data"
    }
   ],
   "source": [
    "acc = cnn_history_dict['accuracy']\n",
    "val_acc = cnn_history_dict['val_accuracy']\n",
    "loss = cnn_history_dict['loss']\n",
    "val_loss = cnn_history_dict['val_loss']\n",
    "\n",
    "epochs = range(1, len(acc) + 1)\n",
    "\n",
    "fig = plt.figure(figsize=(13,4))\n",
    "ax1 = fig.add_subplot(1,2,1)\n",
    "plt.plot(epochs, loss, 'bo', label='Training loss')\n",
    "plt.plot(epochs, val_loss, 'b', label='Validation loss')\n",
    "plt.title('Training and validation loss')\n",
    "plt.xlabel('Epochs')\n",
    "plt.ylabel('Loss')\n",
    "plt.legend()\n",
    "\n",
    "\n",
    "ax2 = fig.add_subplot(1,2,2)\n",
    "plt.plot(epochs, acc, 'bo', label='Training acc')\n",
    "plt.plot(epochs, val_acc, 'b', label='Validation acc')\n",
    "plt.title('Training and validation accuracy')\n",
    "plt.xlabel('Epochs')\n",
    "plt.ylabel('Accuracy')\n",
    "#plt.ylim(0.5,1)\n",
    "plt.legend()\n",
    "\n",
    "plt.show()"
   ]
  },
  {
   "cell_type": "code",
   "execution_count": 22,
   "id": "207e6e9d",
   "metadata": {},
   "outputs": [
    {
     "data": {
      "image/png": "[encoded data removed]",
      "text/plain": [
       "<Figure size 432x288 with 1 Axes>"
      ]
     },
     "metadata": {
      "needs_background": "light"
     },
     "output_type": "display_data"
    }
   ],
   "source": [
    "plt.clf()   # 그림 초기화\n",
    "\n",
    "plt.plot(epochs, acc, 'bo', label='Training acc')\n",
    "plt.plot(epochs, val_acc, 'b', label='Validation acc')\n",
    "plt.title('Training and validation accuracy')\n",
    "plt.xlabel('Epochs')\n",
    "plt.ylabel('Accuracy')\n",
    "plt.legend()\n",
    "\n",
    "plt.show()"
   ]
  },
  {
   "cell_type": "markdown",
   "id": "3a7ce484",
   "metadata": {},
   "source": [
    "# 3)GlobalMaxPooling1D"
   ]
  },
  {
   "cell_type": "code",
   "execution_count": 23,
   "id": "5c9e6d15",
   "metadata": {},
   "outputs": [
    {
     "name": "stdout",
     "output_type": "stream",
     "text": [
      "Model: \"sequential_2\"\n",
      "_________________________________________________________________\n",
      "Layer (type)                 Output Shape              Param #   \n",
      "=================================================================\n",
      "embedding_2 (Embedding)      (None, None, 16)          160000    \n",
      "_________________________________________________________________\n",
      "global_max_pooling1d_1 (Glob (None, 16)                0         \n",
      "_________________________________________________________________\n",
      "dense_4 (Dense)              (None, 64)                1088      \n",
      "_________________________________________________________________\n",
      "dense_5 (Dense)              (None, 1)                 65        \n",
      "=================================================================\n",
      "Total params: 161,153\n",
      "Trainable params: 161,153\n",
      "Non-trainable params: 0\n",
      "_________________________________________________________________\n"
     ]
    }
   ],
   "source": [
    "vocab_size = 10000  # 어휘 사전의 크기\n",
    "word_vector_dim = 16   # 단어 하나를 표현하는 임베딩 벡터의 차원 수\n",
    "\n",
    "gmp_model = tf.keras.Sequential()\n",
    "gmp_model.add(tf.keras.layers.Embedding(vocab_size, word_vector_dim, input_shape=(None,)))\n",
    "gmp_model.add(tf.keras.layers.GlobalMaxPooling1D())\n",
    "gmp_model.add(tf.keras.layers.Dense(64, activation='relu'))\n",
    "gmp_model.add(tf.keras.layers.Dense(1, activation='sigmoid'))  # 최종 출력은 긍정/부정을 나타내는 1dim 입니다.\n",
    "\n",
    "gmp_model.summary()"
   ]
  },
  {
   "cell_type": "markdown",
   "id": "6ea2b60d",
   "metadata": {},
   "source": [
    "### GlobalMaxPooling1D훈련"
   ]
  },
  {
   "cell_type": "code",
   "execution_count": 24,
   "id": "34c5db39",
   "metadata": {},
   "outputs": [
    {
     "name": "stdout",
     "output_type": "stream",
     "text": [
      "Epoch 1/20\n",
      "179/179 [==============================] - 1s 5ms/step - loss: 0.5592 - accuracy: 0.7542 - val_loss: 0.3907 - val_accuracy: 0.8275\n",
      "Epoch 2/20\n",
      "179/179 [==============================] - 1s 4ms/step - loss: 0.3549 - accuracy: 0.8460 - val_loss: 0.3581 - val_accuracy: 0.8417\n",
      "Epoch 3/20\n",
      "179/179 [==============================] - 1s 4ms/step - loss: 0.3083 - accuracy: 0.8710 - val_loss: 0.3554 - val_accuracy: 0.8430\n",
      "Epoch 4/20\n",
      "179/179 [==============================] - 1s 4ms/step - loss: 0.2777 - accuracy: 0.8860 - val_loss: 0.3629 - val_accuracy: 0.8440\n",
      "Epoch 5/20\n",
      "179/179 [==============================] - 1s 4ms/step - loss: 0.2539 - accuracy: 0.8976 - val_loss: 0.3747 - val_accuracy: 0.8446\n",
      "Epoch 6/20\n",
      "179/179 [==============================] - 1s 4ms/step - loss: 0.2335 - accuracy: 0.9072 - val_loss: 0.3892 - val_accuracy: 0.8415\n",
      "Epoch 7/20\n",
      "179/179 [==============================] - 1s 4ms/step - loss: 0.2159 - accuracy: 0.9162 - val_loss: 0.4074 - val_accuracy: 0.8383\n",
      "Epoch 8/20\n",
      "179/179 [==============================] - 1s 4ms/step - loss: 0.2005 - accuracy: 0.9235 - val_loss: 0.4286 - val_accuracy: 0.8354\n",
      "Epoch 9/20\n",
      "179/179 [==============================] - 1s 4ms/step - loss: 0.1866 - accuracy: 0.9291 - val_loss: 0.4476 - val_accuracy: 0.8332\n",
      "Epoch 10/20\n",
      "179/179 [==============================] - 1s 4ms/step - loss: 0.1752 - accuracy: 0.9345 - val_loss: 0.4675 - val_accuracy: 0.8312\n",
      "Epoch 11/20\n",
      "179/179 [==============================] - 1s 4ms/step - loss: 0.1641 - accuracy: 0.9395 - val_loss: 0.4887 - val_accuracy: 0.8292\n",
      "Epoch 12/20\n",
      "179/179 [==============================] - 1s 4ms/step - loss: 0.1548 - accuracy: 0.9432 - val_loss: 0.5102 - val_accuracy: 0.8261\n",
      "Epoch 13/20\n",
      "179/179 [==============================] - 1s 4ms/step - loss: 0.1458 - accuracy: 0.9477 - val_loss: 0.5276 - val_accuracy: 0.8241\n",
      "Epoch 14/20\n",
      "179/179 [==============================] - 1s 4ms/step - loss: 0.1387 - accuracy: 0.9508 - val_loss: 0.5449 - val_accuracy: 0.8225\n",
      "Epoch 15/20\n",
      "179/179 [==============================] - 1s 4ms/step - loss: 0.1316 - accuracy: 0.9539 - val_loss: 0.5668 - val_accuracy: 0.8204\n",
      "Epoch 16/20\n",
      "179/179 [==============================] - 1s 4ms/step - loss: 0.1250 - accuracy: 0.9572 - val_loss: 0.5802 - val_accuracy: 0.8200\n",
      "Epoch 17/20\n",
      "179/179 [==============================] - 1s 4ms/step - loss: 0.1188 - accuracy: 0.9591 - val_loss: 0.6012 - val_accuracy: 0.8206\n",
      "Epoch 18/20\n",
      "179/179 [==============================] - 1s 4ms/step - loss: 0.1138 - accuracy: 0.9608 - val_loss: 0.6223 - val_accuracy: 0.8180\n",
      "Epoch 19/20\n",
      "179/179 [==============================] - 1s 4ms/step - loss: 0.1094 - accuracy: 0.9631 - val_loss: 0.6389 - val_accuracy: 0.8173\n",
      "Epoch 20/20\n",
      "179/179 [==============================] - 1s 4ms/step - loss: 0.1049 - accuracy: 0.9649 - val_loss: 0.6544 - val_accuracy: 0.8163\n"
     ]
    }
   ],
   "source": [
    "gmp_model.compile(optimizer='adam',\n",
    "              loss='binary_crossentropy',\n",
    "              metrics=['accuracy'])\n",
    "              \n",
    "epochs=20\n",
    "\n",
    "history3 = gmp_model.fit(partial_X_train,\n",
    "                    partial_y_train,\n",
    "                    epochs=epochs,\n",
    "                    batch_size=512,\n",
    "                    validation_data=(X_val, y_val),\n",
    "                    verbose=1)"
   ]
  },
  {
   "cell_type": "markdown",
   "id": "d43b141a",
   "metadata": {},
   "source": [
    "### GlobalMaxPooling1D평가"
   ]
  },
  {
   "cell_type": "code",
   "execution_count": 25,
   "id": "4586a29f",
   "metadata": {},
   "outputs": [
    {
     "name": "stdout",
     "output_type": "stream",
     "text": [
      "1537/1537 - 2s - loss: 0.6496 - accuracy: 0.8145\n",
      "[0.6495944857597351, 0.8144720196723938]\n"
     ]
    }
   ],
   "source": [
    "results = gmp_model.evaluate(X_test,  y_test, verbose=2)\n",
    "\n",
    "print(results)"
   ]
  },
  {
   "cell_type": "markdown",
   "id": "ac5be779",
   "metadata": {},
   "source": [
    "### GlobalMaxPooling1D그래프"
   ]
  },
  {
   "cell_type": "code",
   "execution_count": 26,
   "id": "ba61612a",
   "metadata": {},
   "outputs": [
    {
     "name": "stdout",
     "output_type": "stream",
     "text": [
      "dict_keys(['loss', 'accuracy', 'val_loss', 'val_accuracy'])\n"
     ]
    }
   ],
   "source": [
    "history_dict3 = history3.history\n",
    "print(history_dict3.keys()) # epoch에 따른 그래프를 그려볼 수 있는 항목들"
   ]
  },
  {
   "cell_type": "code",
   "execution_count": 27,
   "id": "8b5c5fa8",
   "metadata": {},
   "outputs": [
    {
     "data": {
      "image/png": "[encoded data removed]",
      "text/plain": [
       "<Figure size 936x288 with 2 Axes>"
      ]
     },
     "metadata": {
      "needs_background": "light"
     },
     "output_type": "display_data"
    }
   ],
   "source": [
    "acc = history_dict3['accuracy']\n",
    "val_acc = history_dict3['val_accuracy']\n",
    "loss = history_dict3['loss']\n",
    "val_loss = history_dict3['val_loss']\n",
    "\n",
    "epochs = range(1, len(acc) + 1)\n",
    "\n",
    "fig = plt.figure(figsize=(13,4))\n",
    "ax1 = fig.add_subplot(1,2,1)\n",
    "plt.plot(epochs, loss, 'bo', label='Training loss')\n",
    "# b는 \"파란 실선\"입니다\n",
    "plt.plot(epochs, val_loss, 'b', label='Validation loss')\n",
    "plt.title('Training and validation loss')\n",
    "plt.xlabel('Epochs')\n",
    "plt.ylabel('Loss')\n",
    "plt.legend()\n",
    "\n",
    "\n",
    "ax2 = fig.add_subplot(1,2,2)\n",
    "plt.plot(epochs, acc, 'bo', label='Training acc')\n",
    "plt.plot(epochs, val_acc, 'b', label='Validation acc')\n",
    "plt.title('Training and validation accuracy')\n",
    "plt.xlabel('Epochs')\n",
    "plt.ylabel('Accuracy')\n",
    "#plt.ylim(0.5,1)\n",
    "plt.legend()\n",
    "\n",
    "plt.show()"
   ]
  },
  {
   "cell_type": "code",
   "execution_count": 28,
   "id": "ec3a7291",
   "metadata": {},
   "outputs": [
    {
     "data": {
      "image/png": "[encoded data removed]",
      "text/plain": [
       "<Figure size 432x288 with 1 Axes>"
      ]
     },
     "metadata": {
      "needs_background": "light"
     },
     "output_type": "display_data"
    }
   ],
   "source": [
    "plt.clf()   # 그림을 초기화\n",
    "\n",
    "plt.plot(epochs, acc, 'bo', label='Training acc')\n",
    "plt.plot(epochs, val_acc, 'b', label='Validation acc')\n",
    "plt.title('Training and validation accuracy')\n",
    "plt.xlabel('Epochs')\n",
    "plt.ylabel('Accuracy')\n",
    "plt.legend()\n",
    "\n",
    "plt.show()"
   ]
  },
  {
   "cell_type": "markdown",
   "id": "1a33cd88",
   "metadata": {},
   "source": [
    "### 한국어 Word2Vec 임베딩 활용하여 성능 개선"
   ]
  },
  {
   "cell_type": "code",
   "execution_count": 29,
   "id": "8a818d91",
   "metadata": {},
   "outputs": [
    {
     "name": "stdout",
     "output_type": "stream",
     "text": [
      "(10000, 16)\n"
     ]
    }
   ],
   "source": [
    "embedding_layer = gmp_model.layers[0]\n",
    "weights = embedding_layer.get_weights()[0]\n",
    "print(weights.shape)    # shape: (vocab_size, embedding_dim)"
   ]
  },
  {
   "cell_type": "code",
   "execution_count": 30,
   "id": "a539f5e3",
   "metadata": {},
   "outputs": [],
   "source": [
    "import os\n",
    "\n",
    "# 학습한 Embedding 파라미터를 파일에 저장\n",
    "word2vec_file_path = os.getenv('HOME')+'/aiffel/sentiment_classification/data/word2vec.txt'\n",
    "f = open(word2vec_file_path, 'w')\n",
    "f.write('{} {}\\n'.format(vocab_size-4, word_vector_dim))  # 몇개의 벡터를 얼마 사이즈로 기재할지 타이틀을 씁니다.\n",
    "\n",
    "# 단어 개수(에서 특수문자 4개는 제외하고)만큼의 워드 벡터를 파일에 기록 \n",
    "vectors = gmp_model.get_weights()[0]\n",
    "for i in range(4,vocab_size):\n",
    "    f.write('{} {}\\n'.format(index_to_word[i], ' '.join(map(str, list(vectors[i, :])))))\n",
    "f.close()"
   ]
  },
  {
   "cell_type": "code",
   "execution_count": 31,
   "id": "cf6b9be4",
   "metadata": {},
   "outputs": [
    {
     "data": {
      "text/plain": [
       "array([-0.17715299, -0.18704416, -0.1697652 , -0.24550137,  0.0212128 ,\n",
       "       -0.14738311, -0.01667253, -0.15847516,  0.02442241,  0.04597521,\n",
       "       -0.05196406, -0.05876683, -0.08308861, -0.07014778,  0.10487927,\n",
       "       -0.03040944], dtype=float32)"
      ]
     },
     "execution_count": 31,
     "metadata": {},
     "output_type": "execute_result"
    }
   ],
   "source": [
    "from gensim.models.keyedvectors import Word2VecKeyedVectors\n",
    "\n",
    "word_vectors = Word2VecKeyedVectors.load_word2vec_format(word2vec_file_path, binary=False)\n",
    "vector = word_vectors['재미']\n",
    "vector"
   ]
  },
  {
   "cell_type": "code",
   "execution_count": 32,
   "id": "fd443dac",
   "metadata": {
    "scrolled": false
   },
   "outputs": [
    {
     "data": {
      "text/plain": [
       "[('만큼', 0.8494948148727417),\n",
       " ('풀어내', 0.8401104211807251),\n",
       " ('어찌', 0.8301867842674255),\n",
       " ('재', 0.8155735731124878),\n",
       " ('는대', 0.7988385558128357),\n",
       " ('셀', 0.7811558842658997),\n",
       " ('다름', 0.7806766033172607),\n",
       " ('티비', 0.779503345489502),\n",
       " ('크리스마스', 0.7717375159263611),\n",
       " ('땐', 0.7711017727851868)]"
      ]
     },
     "execution_count": 32,
     "metadata": {},
     "output_type": "execute_result"
    }
   ],
   "source": [
    "word_vectors.similar_by_word(\"재미\")"
   ]
  },
  {
   "cell_type": "markdown",
   "id": "10e2700d",
   "metadata": {},
   "source": [
    "# Word2Vec 임베딩 활용하여 성능개선"
   ]
  },
  {
   "cell_type": "code",
   "execution_count": 33,
   "id": "2936d22b",
   "metadata": {},
   "outputs": [
    {
     "name": "stderr",
     "output_type": "stream",
     "text": [
      "/tmp/ipykernel_18418/367809073.py:6: DeprecationWarning: Call to deprecated `__getitem__` (Method will be removed in 4.0.0, use self.wv.__getitem__() instead).\n",
      "  vector = word2vec['재미']\n"
     ]
    },
    {
     "data": {
      "text/plain": [
       "array([-0.01228145, -0.4937083 ,  0.4424771 , -1.0789338 , -1.0551587 ,\n",
       "       -0.8106456 , -0.0881472 ,  0.7738013 , -0.3837249 , -0.31405708,\n",
       "        0.18792619, -0.04978764,  0.3977235 ,  1.0052139 , -0.5921918 ,\n",
       "        0.57315415, -0.13287784,  1.4190367 ,  0.5338879 ,  0.08187074,\n",
       "       -0.21017547, -0.31960285,  0.08991678, -0.06743078,  0.14399454,\n",
       "        0.04861213,  0.4904712 ,  0.38203648, -0.33213428, -0.48618734,\n",
       "       -0.6996383 , -0.48903087, -0.5666092 ,  0.11454912,  0.7527777 ,\n",
       "       -1.6491356 ,  0.709264  ,  0.14231981,  1.2408166 ,  0.9104645 ,\n",
       "        1.0235597 , -0.7135743 , -0.5323588 , -0.16439462, -0.12318534,\n",
       "       -0.41341293,  0.76286334, -0.24337888, -1.0924134 , -0.78981435,\n",
       "        0.24504295, -0.472915  , -0.17546178,  0.10006592, -1.2155428 ,\n",
       "        0.4059387 ,  0.8259838 , -0.18593056, -0.21122731, -0.46615708,\n",
       "        0.74433243, -0.18605745, -0.9175297 ,  0.08531424,  0.09134697,\n",
       "       -0.60375917,  0.5236646 ,  0.7689134 ,  0.19123535,  0.6021132 ,\n",
       "        0.43252614, -0.4816439 ,  0.39638203,  1.2622621 ,  0.26885632,\n",
       "       -0.383896  , -0.50455076,  0.73776966,  0.10099172, -0.6317017 ,\n",
       "        0.13245393, -0.08055744,  0.43138954, -0.06167822, -0.4774042 ,\n",
       "        0.1667868 ,  0.28813913, -0.10387764,  0.26128057, -0.4512979 ,\n",
       "        0.61577326, -1.054215  ,  0.57878447, -0.84414536,  0.10988218,\n",
       "        0.3471581 , -0.41899917,  0.9262466 ,  0.65301394,  0.50789875,\n",
       "        0.22078882,  0.45553952,  0.6167738 , -0.4781486 , -0.9231505 ,\n",
       "        1.2035773 , -0.10230067, -0.9705982 , -0.27945018, -0.1801976 ,\n",
       "        0.05418067, -1.0452936 ,  0.5314506 , -0.824556  ,  0.5876017 ,\n",
       "       -0.45738658, -1.2109565 ,  0.6083721 ,  0.35538226,  0.21933256,\n",
       "        0.5514276 , -0.27126715,  0.44642234, -0.807838  , -0.5080574 ,\n",
       "        1.3403009 , -0.30746838, -1.0130495 ,  0.724602  , -0.07764244,\n",
       "        0.32734424, -0.64083153,  0.02176708,  0.4140897 ,  0.85013735,\n",
       "        0.5038553 ,  0.0574238 ,  0.6318467 ,  0.11478857, -0.18184362,\n",
       "        0.51224196,  1.2018569 , -0.270327  ,  0.180222  , -0.8467118 ,\n",
       "        0.366931  , -1.0394892 ,  0.19738269, -0.79872495,  0.4028727 ,\n",
       "       -0.21668676, -0.71356654, -0.570047  ,  0.38849613,  0.07873565,\n",
       "       -0.5051986 , -0.01384304,  0.9451574 , -0.24689038,  0.06940279,\n",
       "        0.2931995 , -0.18040314, -0.18652393,  0.03571143, -0.9325787 ,\n",
       "       -0.36629537,  0.17664464,  0.515483  , -0.49975199,  1.746289  ,\n",
       "       -1.2979529 , -0.02125794,  0.3177153 , -0.03623414, -0.48092988,\n",
       "        0.01342706, -0.6346104 ,  0.17631365,  0.6302752 , -0.36891124,\n",
       "       -0.01402365,  0.07068333, -0.10794298, -0.17554025, -0.08752513,\n",
       "        1.4752635 ,  0.37574285, -0.48754153,  1.0782102 , -0.09177663,\n",
       "       -0.6567626 ,  0.25401682,  0.29164365,  0.6510434 , -0.582623  ,\n",
       "        0.24030805, -1.0244824 ,  1.1044954 , -0.05539972,  0.63101554],\n",
       "      dtype=float32)"
      ]
     },
     "execution_count": 33,
     "metadata": {},
     "output_type": "execute_result"
    }
   ],
   "source": [
    "from gensim.models import KeyedVectors\n",
    "import gensim\n",
    "word2vec_path = os.getenv('HOME')+'/aiffel/sentiment_classification/data/ko.bin.gz'\n",
    "#word2vec = KeyedVectors.load_word2vec_format(word2vec_path, binary=True, limit=1000000)\n",
    "word2vec = gensim.models.Word2Vec.load(word2vec_path)\n",
    "vector = word2vec['재미']\n",
    "vector"
   ]
  },
  {
   "cell_type": "code",
   "execution_count": 34,
   "id": "90b91253",
   "metadata": {},
   "outputs": [
    {
     "name": "stderr",
     "output_type": "stream",
     "text": [
      "/tmp/ipykernel_18418/2795643307.py:1: DeprecationWarning: Call to deprecated `similar_by_word` (Method will be removed in 4.0.0, use self.wv.similar_by_word() instead).\n",
      "  word2vec.similar_by_word(\"재미\")\n"
     ]
    },
    {
     "data": {
      "text/plain": [
       "[('취미', 0.5857348442077637),\n",
       " ('유머', 0.5140613913536072),\n",
       " ('매력', 0.5105490684509277),\n",
       " ('흥미', 0.4988338351249695),\n",
       " ('공짜', 0.4960595667362213),\n",
       " ('일자리', 0.49294644594192505),\n",
       " ('즐거움', 0.48700767755508423),\n",
       " ('비애', 0.4836210310459137),\n",
       " ('관객', 0.48286449909210205),\n",
       " ('향수', 0.4823310971260071)]"
      ]
     },
     "execution_count": 34,
     "metadata": {},
     "output_type": "execute_result"
    }
   ],
   "source": [
    "word2vec.similar_by_word(\"재미\")"
   ]
  },
  {
   "cell_type": "code",
   "execution_count": 35,
   "id": "c7a86c59",
   "metadata": {},
   "outputs": [
    {
     "name": "stderr",
     "output_type": "stream",
     "text": [
      "/tmp/ipykernel_18418/1730871920.py:7: DeprecationWarning: Call to deprecated `__contains__` (Method will be removed in 4.0.0, use self.wv.__contains__() instead).\n",
      "  if index_to_word[i] in word2vec:\n",
      "/tmp/ipykernel_18418/1730871920.py:8: DeprecationWarning: Call to deprecated `__getitem__` (Method will be removed in 4.0.0, use self.wv.__getitem__() instead).\n",
      "  embedding_matrix[i] = word2vec[index_to_word[i]]\n"
     ]
    }
   ],
   "source": [
    "vocab_size = 10000    # 어휘 사전의 크기입니다(10,000개의 단어)\n",
    "word_vector_dim = 200  # 워드 벡터의 차원수\n",
    "embedding_matrix = np.random.rand(vocab_size, word_vector_dim)\n",
    "\n",
    "# embedding_matrix에 Word2Vec 워드 벡터를 단어 하나씩마다 차례차례 카피한다.\n",
    "for i in range(4,vocab_size):\n",
    "    if index_to_word[i] in word2vec:\n",
    "        embedding_matrix[i] = word2vec[index_to_word[i]]"
   ]
  },
  {
   "cell_type": "code",
   "execution_count": 36,
   "id": "5782dcc7",
   "metadata": {},
   "outputs": [
    {
     "name": "stdout",
     "output_type": "stream",
     "text": [
      "Model: \"sequential_3\"\n",
      "_________________________________________________________________\n",
      "Layer (type)                 Output Shape              Param #   \n",
      "=================================================================\n",
      "embedding_3 (Embedding)      (None, 41, 200)           2000000   \n",
      "_________________________________________________________________\n",
      "conv1d_2 (Conv1D)            (None, 35, 16)            22416     \n",
      "_________________________________________________________________\n",
      "max_pooling1d_1 (MaxPooling1 (None, 7, 16)             0         \n",
      "_________________________________________________________________\n",
      "conv1d_3 (Conv1D)            (None, 1, 16)             1808      \n",
      "_________________________________________________________________\n",
      "global_max_pooling1d_2 (Glob (None, 16)                0         \n",
      "_________________________________________________________________\n",
      "dense_6 (Dense)              (None, 8)                 136       \n",
      "_________________________________________________________________\n",
      "dense_7 (Dense)              (None, 1)                 9         \n",
      "=================================================================\n",
      "Total params: 2,024,369\n",
      "Trainable params: 2,024,369\n",
      "Non-trainable params: 0\n",
      "_________________________________________________________________\n"
     ]
    }
   ],
   "source": [
    "from tensorflow.keras.initializers import Constant\n",
    "\n",
    "vocab_size = 10000    # 어휘 사전의 크기\n",
    "word_vector_dim = 200  # 워드 벡터의 차원 수 \n",
    "\n",
    "# 모델 구성\n",
    "gmp_model = tf.keras.Sequential()\n",
    "gmp_model.add(tf.keras.layers.Embedding(vocab_size, \n",
    "                                 word_vector_dim, \n",
    "                                 embeddings_initializer=Constant(embedding_matrix),  # 카피한 임베딩을 여기서 활용\n",
    "                                 input_length=maxlen, \n",
    "                                 trainable=True))   # trainable을 True로 주면 Fine-tuning\n",
    "gmp_model.add(tf.keras.layers.Conv1D(16, 7, activation='relu'))\n",
    "gmp_model.add(tf.keras.layers.MaxPooling1D(5))\n",
    "gmp_model.add(tf.keras.layers.Conv1D(16, 7, activation='relu'))\n",
    "gmp_model.add(tf.keras.layers.GlobalMaxPooling1D())\n",
    "gmp_model.add(tf.keras.layers.Dense(8, activation='relu'))\n",
    "gmp_model.add(tf.keras.layers.Dense(1, activation='sigmoid')) \n",
    "\n",
    "gmp_model.summary()"
   ]
  },
  {
   "cell_type": "code",
   "execution_count": 37,
   "id": "faa78802",
   "metadata": {},
   "outputs": [
    {
     "name": "stdout",
     "output_type": "stream",
     "text": [
      "Epoch 1/20\n",
      "179/179 [==============================] - 2s 9ms/step - loss: 0.5663 - accuracy: 0.6940 - val_loss: 0.4678 - val_accuracy: 0.7802\n",
      "Epoch 2/20\n",
      "179/179 [==============================] - 1s 7ms/step - loss: 0.4186 - accuracy: 0.8096 - val_loss: 0.4000 - val_accuracy: 0.8213\n",
      "Epoch 3/20\n",
      "179/179 [==============================] - 1s 7ms/step - loss: 0.3477 - accuracy: 0.8493 - val_loss: 0.3789 - val_accuracy: 0.8325\n",
      "Epoch 4/20\n",
      "179/179 [==============================] - 1s 7ms/step - loss: 0.3047 - accuracy: 0.8723 - val_loss: 0.3714 - val_accuracy: 0.8386\n",
      "Epoch 5/20\n",
      "179/179 [==============================] - 1s 7ms/step - loss: 0.2713 - accuracy: 0.8897 - val_loss: 0.3734 - val_accuracy: 0.8400\n",
      "Epoch 6/20\n",
      "179/179 [==============================] - 1s 7ms/step - loss: 0.2433 - accuracy: 0.9031 - val_loss: 0.3964 - val_accuracy: 0.8365\n",
      "Epoch 7/20\n",
      "179/179 [==============================] - 1s 7ms/step - loss: 0.2176 - accuracy: 0.9156 - val_loss: 0.4138 - val_accuracy: 0.8378\n",
      "Epoch 8/20\n",
      "179/179 [==============================] - 1s 7ms/step - loss: 0.1932 - accuracy: 0.9268 - val_loss: 0.4296 - val_accuracy: 0.8324\n",
      "Epoch 9/20\n",
      "179/179 [==============================] - 1s 7ms/step - loss: 0.1699 - accuracy: 0.9370 - val_loss: 0.4625 - val_accuracy: 0.8292\n",
      "Epoch 10/20\n",
      "179/179 [==============================] - 1s 7ms/step - loss: 0.1482 - accuracy: 0.9462 - val_loss: 0.4839 - val_accuracy: 0.8317\n",
      "Epoch 11/20\n",
      "179/179 [==============================] - 1s 7ms/step - loss: 0.1277 - accuracy: 0.9558 - val_loss: 0.5325 - val_accuracy: 0.8327\n",
      "Epoch 12/20\n",
      "179/179 [==============================] - 1s 7ms/step - loss: 0.1158 - accuracy: 0.9599 - val_loss: 0.5864 - val_accuracy: 0.8273\n",
      "Epoch 13/20\n",
      "179/179 [==============================] - 1s 7ms/step - loss: 0.0974 - accuracy: 0.9680 - val_loss: 0.6282 - val_accuracy: 0.8276\n",
      "Epoch 14/20\n",
      "179/179 [==============================] - 1s 7ms/step - loss: 0.0853 - accuracy: 0.9721 - val_loss: 0.6654 - val_accuracy: 0.8247\n",
      "Epoch 15/20\n",
      "179/179 [==============================] - 1s 7ms/step - loss: 0.0754 - accuracy: 0.9759 - val_loss: 0.6967 - val_accuracy: 0.8227\n",
      "Epoch 16/20\n",
      "179/179 [==============================] - 1s 7ms/step - loss: 0.0685 - accuracy: 0.9784 - val_loss: 0.7682 - val_accuracy: 0.8209\n",
      "Epoch 17/20\n",
      "179/179 [==============================] - 1s 7ms/step - loss: 0.0640 - accuracy: 0.9796 - val_loss: 0.8092 - val_accuracy: 0.8216\n",
      "Epoch 18/20\n",
      "179/179 [==============================] - 1s 7ms/step - loss: 0.0555 - accuracy: 0.9822 - val_loss: 0.9429 - val_accuracy: 0.8105\n",
      "Epoch 19/20\n",
      "179/179 [==============================] - 1s 7ms/step - loss: 0.0542 - accuracy: 0.9822 - val_loss: 0.9118 - val_accuracy: 0.8194\n",
      "Epoch 20/20\n",
      "179/179 [==============================] - 1s 7ms/step - loss: 0.0430 - accuracy: 0.9868 - val_loss: 0.9065 - val_accuracy: 0.8213\n"
     ]
    }
   ],
   "source": [
    "gmp_model.compile(optimizer='adam',\n",
    "              loss='binary_crossentropy',\n",
    "              metrics=['accuracy'])\n",
    "              \n",
    "epochs=20  #\n",
    "\n",
    "history = gmp_model.fit(partial_X_train,\n",
    "                    partial_y_train,\n",
    "                    epochs=epochs,\n",
    "                    batch_size=512,\n",
    "                    validation_data=(X_val, y_val),\n",
    "                    verbose=1)"
   ]
  },
  {
   "cell_type": "code",
   "execution_count": 38,
   "id": "726f10bb",
   "metadata": {},
   "outputs": [
    {
     "name": "stdout",
     "output_type": "stream",
     "text": [
      "1537/1537 - 3s - loss: 0.9567 - accuracy: 0.8151\n",
      "[0.9566640257835388, 0.815082311630249]\n"
     ]
    }
   ],
   "source": [
    "results = gmp_model.evaluate(X_test,  y_test, verbose=2)\n",
    "\n",
    "print(results)"
   ]
  },
  {
   "cell_type": "markdown",
   "id": "519e247a",
   "metadata": {},
   "source": [
    "결과적으로 0.0006의 정확도 향상이 있었습니다.\n",
    "문자열을 출력을 했을 때 개선이 많이 된 것이 체감이 되지만, 정확도는 아주 미미한 향상이 있었습니다.\n",
    "하이퍼 파라미터를 잘못 설정한 것일수도, 모델을 잘못 설계했을 가능성도 있습니다.\n",
    "\n",
    "혹시나해서 다른 수치로 바꿔봤지만, 임베딩을 했을 때 감소하는 경우가 생각보다 많아서 최적의 조합을 찾지 못하였습니다.\n",
    "\n"
   ]
  }
 ],
 "metadata": {
  "kernelspec": {
   "display_name": "Python 3 (ipykernel)",
   "language": "python",
   "name": "python3"
  },
  "language_info": {
   "codemirror_mode": {
    "name": "ipython",
    "version": 3
   },
   "file_extension": ".py",
   "mimetype": "text/x-python",
   "name": "python",
   "nbconvert_exporter": "python",
   "pygments_lexer": "ipython3",
   "version": "3.9.7"
  }
 },
 "nbformat": 4,
 "nbformat_minor": 5
}
