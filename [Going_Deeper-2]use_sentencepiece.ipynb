{
 "cells": [
  {
   "cell_type": "markdown",
   "id": "d1fe4b7c",
   "metadata": {},
   "source": [
    "# sentencepiece 모델 학습을 위한 이전 단계"
   ]
  },
  {
   "cell_type": "code",
   "execution_count": 1,
   "id": "a101b3df",
   "metadata": {},
   "outputs": [],
   "source": [
    "import os\n",
    "\n",
    "import matplotlib.pyplot as plt\n",
    "import tensorflow as tf\n",
    "import numpy as np\n",
    "\n",
    "%matplotlib inline"
   ]
  },
  {
   "cell_type": "code",
   "execution_count": 2,
   "id": "84d31c49",
   "metadata": {},
   "outputs": [],
   "source": [
    "path_to_file = os.getenv('HOME')+'/aiffel/sp_tokenizer/data/korean-english-park.train.ko'\n",
    "\n",
    "with open(path_to_file, \"r\") as f:\n",
    "    raw = f.read().splitlines()"
   ]
  },
  {
   "cell_type": "code",
   "execution_count": 3,
   "id": "d88d8103",
   "metadata": {
    "scrolled": true
   },
   "outputs": [
    {
     "name": "stdout",
     "output_type": "stream",
     "text": [
      "Data Size: 77591\n",
      "문장의 최단 길이: 1\n",
      "문장의 최장 길이: 377\n",
      "문장의 평균 길이: 64\n"
     ]
    },
    {
     "name": "stderr",
     "output_type": "stream",
     "text": [
      "/tmp/ipykernel_2383/390535405.py:18: DeprecationWarning: `np.int` is a deprecated alias for the builtin `int`. To silence this warning, use `int` by itself. Doing this will not modify any behavior and is safe. When replacing `np.int`, you may wish to use e.g. `np.int64` or `np.int32` to specify the precision. If you wish to review your current use, check the release note link for additional information.\n",
      "Deprecated in NumPy 1.20; for more details and guidance: https://numpy.org/devdocs/release/1.20.0-notes.html#deprecations\n",
      "  sentence_length = np.zeros((max_len), dtype=np.int)\n"
     ]
    },
    {
     "data": {
      "image/png": "[encoded data removed]",
      "text/plain": [
       "<Figure size 432x288 with 1 Axes>"
      ]
     },
     "metadata": {
      "needs_background": "light"
     },
     "output_type": "display_data"
    }
   ],
   "source": [
    "min_len = 999\n",
    "max_len = 0\n",
    "sum_len = 0\n",
    "\n",
    "cleaned_corpus = list(set(raw))  # set을 사용해서 중복을 제거\n",
    "print(\"Data Size:\", len(cleaned_corpus))\n",
    "\n",
    "for sen in cleaned_corpus:\n",
    "    length = len(sen)\n",
    "    if min_len > length: min_len = length\n",
    "    if max_len < length: max_len = length\n",
    "    sum_len += length\n",
    "\n",
    "print(\"문장의 최단 길이:\", min_len)\n",
    "print(\"문장의 최장 길이:\", max_len)\n",
    "print(\"문장의 평균 길이:\", sum_len // len(cleaned_corpus))\n",
    "\n",
    "sentence_length = np.zeros((max_len), dtype=np.int)\n",
    "\n",
    "for sen in cleaned_corpus:   # 중복이 제거된 코퍼스 기준\n",
    "    sentence_length[len(sen)-1] += 1\n",
    "\n",
    "plt.bar(range(max_len), sentence_length, width=1.0)\n",
    "plt.title(\"Sentence Length Distribution\")\n",
    "plt.show()"
   ]
  },
  {
   "cell_type": "code",
   "execution_count": 4,
   "id": "3afd1c41",
   "metadata": {
    "scrolled": true
   },
   "outputs": [
    {
     "name": "stderr",
     "output_type": "stream",
     "text": [
      "/tmp/ipykernel_2383/1483434014.py:8: DeprecationWarning: `np.int` is a deprecated alias for the builtin `int`. To silence this warning, use `int` by itself. Doing this will not modify any behavior and is safe. When replacing `np.int`, you may wish to use e.g. `np.int64` or `np.int32` to specify the precision. If you wish to review your current use, check the release note link for additional information.\n",
      "Deprecated in NumPy 1.20; for more details and guidance: https://numpy.org/devdocs/release/1.20.0-notes.html#deprecations\n",
      "  sentence_length = np.zeros((max_len), dtype=np.int)\n"
     ]
    },
    {
     "data": {
      "image/png": "[encoded data removed]",
      "text/plain": [
       "<Figure size 432x288 with 1 Axes>"
      ]
     },
     "metadata": {
      "needs_background": "light"
     },
     "output_type": "display_data"
    }
   ],
   "source": [
    "max_len = 150\n",
    "min_len = 10\n",
    "\n",
    "# 길이 조건에 맞는 문장만 선택\n",
    "filtered_corpus = [s for s in cleaned_corpus if (len(s) < max_len) & (len(s) >= min_len)]\n",
    "\n",
    "sentence_length = np.zeros((max_len), dtype=np.int)\n",
    "\n",
    "for sen in filtered_corpus:\n",
    "    sentence_length[len(sen)-1] += 1\n",
    "\n",
    "plt.bar(range(max_len), sentence_length, width=1.0)\n",
    "plt.title(\"Sentence Length Distribution\")\n",
    "plt.show()"
   ]
  },
  {
   "cell_type": "markdown",
   "id": "57a1fd24",
   "metadata": {},
   "source": [
    "# sentencepiece 모델 학습"
   ]
  },
  {
   "cell_type": "code",
   "execution_count": 5,
   "id": "77def0a6",
   "metadata": {
    "scrolled": true
   },
   "outputs": [
    {
     "name": "stderr",
     "output_type": "stream",
     "text": [
      "sentencepiece_trainer.cc(177) LOG(INFO) Running command: --input=/aiffel/aiffel/sp_tokenizer/data/korean-english-park.train.ko.temp --model_prefix=korean_spm --vocab_size=9000\n",
      "sentencepiece_trainer.cc(77) LOG(INFO) Starts training with : \n",
      "trainer_spec {\n",
      "  input: /aiffel/aiffel/sp_tokenizer/data/korean-english-park.train.ko.temp\n",
      "  input_format: \n",
      "  model_prefix: korean_spm\n",
      "  model_type: UNIGRAM\n",
      "  vocab_size: 9000\n",
      "  self_test_sample_size: 0\n",
      "  character_coverage: 0.9995\n",
      "  input_sentence_size: 0\n",
      "  shuffle_input_sentence: 1\n",
      "  seed_sentencepiece_size: 1000000\n",
      "  shrinking_factor: 0.75\n",
      "  max_sentence_length: 4192\n",
      "  num_threads: 16\n",
      "  num_sub_iterations: 2\n",
      "  max_sentencepiece_length: 16\n",
      "  split_by_unicode_script: 1\n",
      "  split_by_number: 1\n",
      "  split_by_whitespace: 1\n",
      "  split_digits: 0\n",
      "  treat_whitespace_as_suffix: 0\n",
      "  allow_whitespace_only_pieces: 0\n",
      "  required_chars: \n",
      "  byte_fallback: 0\n",
      "  vocabulary_output_piece_score: 1\n",
      "  train_extremely_large_corpus: 0\n",
      "  hard_vocab_limit: 1\n",
      "  use_all_vocab: 0\n",
      "  unk_id: 0\n",
      "  bos_id: 1\n",
      "  eos_id: 2\n",
      "  pad_id: -1\n",
      "  unk_piece: <unk>\n",
      "  bos_piece: <s>\n",
      "  eos_piece: </s>\n",
      "  pad_piece: <pad>\n",
      "  unk_surface:  ⁇ \n",
      "}\n",
      "normalizer_spec {\n",
      "  name: nmt_nfkc\n",
      "  add_dummy_prefix: 1\n",
      "  remove_extra_whitespaces: 1\n",
      "  escape_whitespaces: 1\n",
      "  normalization_rule_tsv: \n",
      "}\n",
      "denormalizer_spec {}\n",
      "trainer_interface.cc(329) LOG(INFO) SentenceIterator is not specified. Using MultiFileSentenceIterator.\n",
      "trainer_interface.cc(178) LOG(INFO) Loading corpus: /aiffel/aiffel/sp_tokenizer/data/korean-english-park.train.ko.temp\n",
      "trainer_interface.cc(385) LOG(INFO) Loaded all 76908 sentences\n",
      "trainer_interface.cc(400) LOG(INFO) Adding meta_piece: <unk>\n",
      "trainer_interface.cc(400) LOG(INFO) Adding meta_piece: <s>\n",
      "trainer_interface.cc(400) LOG(INFO) Adding meta_piece: </s>\n",
      "trainer_interface.cc(405) LOG(INFO) Normalizing sentences...\n",
      "trainer_interface.cc(466) LOG(INFO) all chars count=4996369\n",
      "trainer_interface.cc(477) LOG(INFO) Done: 99.95% characters are covered.\n",
      "trainer_interface.cc(487) LOG(INFO) Alphabet size=1317\n",
      "trainer_interface.cc(488) LOG(INFO) Final character coverage=0.9995\n",
      "trainer_interface.cc(520) LOG(INFO) Done! preprocessed 76908 sentences.\n",
      "unigram_model_trainer.cc(139) LOG(INFO) Making suffix array...\n",
      "unigram_model_trainer.cc(143) LOG(INFO) Extracting frequent sub strings...\n",
      "unigram_model_trainer.cc(194) LOG(INFO) Initialized 174340 seed sentencepieces\n",
      "trainer_interface.cc(526) LOG(INFO) Tokenizing input sentences with whitespace: 76908\n",
      "trainer_interface.cc(537) LOG(INFO) Done! 237965\n",
      "unigram_model_trainer.cc(489) LOG(INFO) Using 237965 sentences for EM training\n",
      "unigram_model_trainer.cc(505) LOG(INFO) EM sub_iter=0 size=92555 obj=14.853 num_tokens=523272 num_tokens/piece=5.65363\n",
      "unigram_model_trainer.cc(505) LOG(INFO) EM sub_iter=1 size=82083 obj=13.516 num_tokens=525776 num_tokens/piece=6.40542\n",
      "unigram_model_trainer.cc(505) LOG(INFO) EM sub_iter=0 size=61555 obj=13.5533 num_tokens=546907 num_tokens/piece=8.88485\n",
      "unigram_model_trainer.cc(505) LOG(INFO) EM sub_iter=1 size=61506 obj=13.5101 num_tokens=547350 num_tokens/piece=8.89913\n",
      "unigram_model_trainer.cc(505) LOG(INFO) EM sub_iter=0 size=46126 obj=13.6926 num_tokens=575369 num_tokens/piece=12.4739\n",
      "unigram_model_trainer.cc(505) LOG(INFO) EM sub_iter=1 size=46126 obj=13.6493 num_tokens=575466 num_tokens/piece=12.476\n",
      "unigram_model_trainer.cc(505) LOG(INFO) EM sub_iter=0 size=34594 obj=13.8894 num_tokens=606014 num_tokens/piece=17.5179\n",
      "unigram_model_trainer.cc(505) LOG(INFO) EM sub_iter=1 size=34594 obj=13.8387 num_tokens=606012 num_tokens/piece=17.5178\n",
      "unigram_model_trainer.cc(505) LOG(INFO) EM sub_iter=0 size=25945 obj=14.1301 num_tokens=637532 num_tokens/piece=24.5724\n",
      "unigram_model_trainer.cc(505) LOG(INFO) EM sub_iter=1 size=25945 obj=14.0747 num_tokens=637568 num_tokens/piece=24.5738\n",
      "unigram_model_trainer.cc(505) LOG(INFO) EM sub_iter=0 size=19458 obj=14.4091 num_tokens=670960 num_tokens/piece=34.4825\n",
      "unigram_model_trainer.cc(505) LOG(INFO) EM sub_iter=1 size=19458 obj=14.3468 num_tokens=670999 num_tokens/piece=34.4845\n",
      "unigram_model_trainer.cc(505) LOG(INFO) EM sub_iter=0 size=14593 obj=14.7196 num_tokens=705636 num_tokens/piece=48.3544\n",
      "unigram_model_trainer.cc(505) LOG(INFO) EM sub_iter=1 size=14593 obj=14.648 num_tokens=705645 num_tokens/piece=48.355\n",
      "unigram_model_trainer.cc(505) LOG(INFO) EM sub_iter=0 size=10944 obj=15.0875 num_tokens=741620 num_tokens/piece=67.765\n",
      "unigram_model_trainer.cc(505) LOG(INFO) EM sub_iter=1 size=10944 obj=15.007 num_tokens=741624 num_tokens/piece=67.7654\n",
      "unigram_model_trainer.cc(505) LOG(INFO) EM sub_iter=0 size=9900 obj=15.1705 num_tokens=754337 num_tokens/piece=76.1957\n",
      "unigram_model_trainer.cc(505) LOG(INFO) EM sub_iter=1 size=9900 obj=15.1404 num_tokens=754348 num_tokens/piece=76.1968\n",
      "trainer_interface.cc(615) LOG(INFO) Saving model: korean_spm.model\n",
      "trainer_interface.cc(626) LOG(INFO) Saving vocabs: korean_spm.vocab\n"
     ]
    },
    {
     "name": "stdout",
     "output_type": "stream",
     "text": [
      "-rw-r--r-- 1 root root 396495 Mar 16 06:11 korean_spm.model\r\n",
      "-rw-r--r-- 1 root root 166667 Mar 16 06:11 korean_spm.vocab\r\n"
     ]
    }
   ],
   "source": [
    "import sentencepiece as spm\n",
    "temp_file = os.getenv('HOME')+'/aiffel/sp_tokenizer/data/korean-english-park.train.ko.temp'\n",
    "\n",
    "vocab_size = 9000\n",
    "\n",
    "with open(temp_file, 'w') as f:\n",
    "    for row in filtered_corpus:   # 이전 스텝에서 정제했던 corpus를 활용\n",
    "        f.write(str(row) + '\\n')\n",
    "\n",
    "spm.SentencePieceTrainer.Train(\n",
    "    '--input={} --model_prefix=korean_spm --vocab_size={}'.format(temp_file, vocab_size)    \n",
    ")\n",
    "#위 Train에서  --model_type = 'unigram'이 디폴트 적용되어 있습니다. --model_type = 'bpe' 로 옵션을 주어 변경할 수 있습니다.\n",
    "\n",
    "!ls -l korean_spm*"
   ]
  },
  {
   "cell_type": "code",
   "execution_count": 6,
   "id": "fb3b1f57",
   "metadata": {},
   "outputs": [
    {
     "data": {
      "text/plain": [
       "True"
      ]
     },
     "execution_count": 6,
     "metadata": {},
     "output_type": "execute_result"
    }
   ],
   "source": [
    "#위에서 학습시킨 모델 저장 및 불러오기\n",
    "s = spm.SentencePieceProcessor()\n",
    "s.Load('korean_spm.model')"
   ]
  },
  {
   "cell_type": "code",
   "execution_count": 7,
   "id": "77f21192",
   "metadata": {},
   "outputs": [
    {
     "name": "stdout",
     "output_type": "stream",
     "text": [
      "[1199, 11, 315, 7, 3493, 11, 291, 38, 3]\n",
      "['▁아버지', '가', '방', '에', '들어', '가', '신', '다', '.']\n",
      "아버지가방에들어가신다.\n"
     ]
    }
   ],
   "source": [
    "# 사용예시\n",
    "# SentencePiece를 활용한 sentence -> encoding\n",
    "tokensIDs = s.EncodeAsIds('아버지가방에들어가신다.')\n",
    "print(tokensIDs)\n",
    "\n",
    "# SentencePiece를 활용한 sentence -> encoded pieces\n",
    "print(s.SampleEncodeAsPieces('아버지가방에들어가신다.',1, 0.0))\n",
    "\n",
    "# SentencePiece를 활용한 encoding -> sentence 복원\n",
    "print(s.DecodeIds(tokensIDs))"
   ]
  },
  {
   "cell_type": "markdown",
   "id": "4786729a",
   "metadata": {},
   "source": [
    "# tokenizer함수 작성"
   ]
  },
  {
   "cell_type": "code",
   "execution_count": 8,
   "id": "a6fef63b",
   "metadata": {},
   "outputs": [],
   "source": [
    "def sp_tokenize(s, corpus):\n",
    "\n",
    "    tensor = []\n",
    "\n",
    "    for sen in corpus:\n",
    "        tensor.append(s.EncodeAsIds(sen))\n",
    "\n",
    "    with open(\"./korean_spm.vocab\", 'r') as f:\n",
    "        vocab = f.readlines()\n",
    "\n",
    "    word_index = {}\n",
    "    index_word = {}\n",
    "\n",
    "    for idx, line in enumerate(vocab):\n",
    "        word = line.split(\"\\t\")[0]\n",
    "\n",
    "        word_index.update({idx:word})\n",
    "        index_word.update({word:idx})\n",
    "\n",
    "    tensor = tf.keras.preprocessing.sequence.pad_sequences(tensor, padding='post')\n",
    "\n",
    "    return tensor, word_index, index_word"
   ]
  },
  {
   "cell_type": "code",
   "execution_count": 9,
   "id": "4d9ffccd",
   "metadata": {},
   "outputs": [
    {
     "name": "stdout",
     "output_type": "stream",
     "text": [
      "[[1857 5698    5    4 8975 1911    3    0    0    0    0    0    0    0]\n",
      " [ 102 1573   95    4    0  497   11    4   14    0 1894    3    3    3]]\n"
     ]
    }
   ],
   "source": [
    "# 사용 예시\n",
    "my_corpus = ['나는 밥을 먹었습니다.', '그러나 여전히 ㅠㅠ 배가 고픕니다...']\n",
    "tensor, word_index, index_word = sp_tokenize(s, my_corpus)\n",
    "print(tensor)"
   ]
  },
  {
   "cell_type": "markdown",
   "id": "26ee457b",
   "metadata": {},
   "source": [
    "# 네이버 영화리뷰 감정분석에 sentencepiece 적용"
   ]
  },
  {
   "cell_type": "code",
   "execution_count": 10,
   "id": "5d674a65",
   "metadata": {},
   "outputs": [
    {
     "data": {
      "text/html": [
       "<div>\n",
       "<style scoped>\n",
       "    .dataframe tbody tr th:only-of-type {\n",
       "        vertical-align: middle;\n",
       "    }\n",
       "\n",
       "    .dataframe tbody tr th {\n",
       "        vertical-align: top;\n",
       "    }\n",
       "\n",
       "    .dataframe thead th {\n",
       "        text-align: right;\n",
       "    }\n",
       "</style>\n",
       "<table border=\"1\" class=\"dataframe\">\n",
       "  <thead>\n",
       "    <tr style=\"text-align: right;\">\n",
       "      <th></th>\n",
       "      <th>id</th>\n",
       "      <th>document</th>\n",
       "      <th>label</th>\n",
       "    </tr>\n",
       "  </thead>\n",
       "  <tbody>\n",
       "    <tr>\n",
       "      <th>0</th>\n",
       "      <td>9976970</td>\n",
       "      <td>아 더빙.. 진짜 짜증나네요 목소리</td>\n",
       "      <td>0</td>\n",
       "    </tr>\n",
       "    <tr>\n",
       "      <th>1</th>\n",
       "      <td>3819312</td>\n",
       "      <td>흠...포스터보고 초딩영화줄....오버연기조차 가볍지 않구나</td>\n",
       "      <td>1</td>\n",
       "    </tr>\n",
       "    <tr>\n",
       "      <th>2</th>\n",
       "      <td>10265843</td>\n",
       "      <td>너무재밓었다그래서보는것을추천한다</td>\n",
       "      <td>0</td>\n",
       "    </tr>\n",
       "    <tr>\n",
       "      <th>3</th>\n",
       "      <td>9045019</td>\n",
       "      <td>교도소 이야기구먼 ..솔직히 재미는 없다..평점 조정</td>\n",
       "      <td>0</td>\n",
       "    </tr>\n",
       "    <tr>\n",
       "      <th>4</th>\n",
       "      <td>6483659</td>\n",
       "      <td>사이몬페그의 익살스런 연기가 돋보였던 영화!스파이더맨에서 늙어보이기만 했던 커스틴 ...</td>\n",
       "      <td>1</td>\n",
       "    </tr>\n",
       "  </tbody>\n",
       "</table>\n",
       "</div>"
      ],
      "text/plain": [
       "         id                                           document  label\n",
       "0   9976970                                아 더빙.. 진짜 짜증나네요 목소리      0\n",
       "1   3819312                  흠...포스터보고 초딩영화줄....오버연기조차 가볍지 않구나      1\n",
       "2  10265843                                  너무재밓었다그래서보는것을추천한다      0\n",
       "3   9045019                      교도소 이야기구먼 ..솔직히 재미는 없다..평점 조정      0\n",
       "4   6483659  사이몬페그의 익살스런 연기가 돋보였던 영화!스파이더맨에서 늙어보이기만 했던 커스틴 ...      1"
      ]
     },
     "execution_count": 10,
     "metadata": {},
     "output_type": "execute_result"
    }
   ],
   "source": [
    "#리뷰파일 불러오기\n",
    "import pandas as pd\n",
    "train_data = pd.read_table('./ratings_train.txt')\n",
    "test_data = pd.read_table('./ratings_test.txt')\n",
    "\n",
    "train_data.head()"
   ]
  },
  {
   "cell_type": "code",
   "execution_count": 11,
   "id": "a7eee0a2",
   "metadata": {},
   "outputs": [
    {
     "name": "stdout",
     "output_type": "stream",
     "text": [
      "146182\n",
      "146183\n"
     ]
    }
   ],
   "source": [
    "print(train_data[\"document\"].nunique())\n",
    "train_data.drop_duplicates(subset=['document'], inplace=True) # drop_duplicates 활용\n",
    "print(len(train_data))"
   ]
  },
  {
   "cell_type": "markdown",
   "id": "3f150cd7",
   "metadata": {},
   "source": [
    "중복을 제거했는데 갯수가 하나 늘어남."
   ]
  },
  {
   "cell_type": "code",
   "execution_count": 12,
   "id": "bf912a16",
   "metadata": {},
   "outputs": [
    {
     "data": {
      "text/html": [
       "<div>\n",
       "<style scoped>\n",
       "    .dataframe tbody tr th:only-of-type {\n",
       "        vertical-align: middle;\n",
       "    }\n",
       "\n",
       "    .dataframe tbody tr th {\n",
       "        vertical-align: top;\n",
       "    }\n",
       "\n",
       "    .dataframe thead th {\n",
       "        text-align: right;\n",
       "    }\n",
       "</style>\n",
       "<table border=\"1\" class=\"dataframe\">\n",
       "  <thead>\n",
       "    <tr style=\"text-align: right;\">\n",
       "      <th></th>\n",
       "      <th>id</th>\n",
       "      <th>document</th>\n",
       "      <th>label</th>\n",
       "    </tr>\n",
       "  </thead>\n",
       "  <tbody>\n",
       "    <tr>\n",
       "      <th>25857</th>\n",
       "      <td>2172111</td>\n",
       "      <td>NaN</td>\n",
       "      <td>1</td>\n",
       "    </tr>\n",
       "  </tbody>\n",
       "</table>\n",
       "</div>"
      ],
      "text/plain": [
       "            id document  label\n",
       "25857  2172111      NaN      1"
      ]
     },
     "execution_count": 12,
     "metadata": {},
     "output_type": "execute_result"
    }
   ],
   "source": [
    "train_data.loc[train_data.document.isnull()]"
   ]
  },
  {
   "cell_type": "markdown",
   "id": "2fea78c7",
   "metadata": {},
   "source": [
    "25857번의 NaN 값 삭제"
   ]
  },
  {
   "cell_type": "code",
   "execution_count": 13,
   "id": "ff771d26",
   "metadata": {},
   "outputs": [
    {
     "name": "stdout",
     "output_type": "stream",
     "text": [
      "False\n"
     ]
    }
   ],
   "source": [
    "train_data = train_data.dropna(how=\"any\")\n",
    "#null값 확인\n",
    "print(train_data.isnull().values.any())"
   ]
  },
  {
   "cell_type": "code",
   "execution_count": 14,
   "id": "66f317c3",
   "metadata": {},
   "outputs": [
    {
     "name": "stdout",
     "output_type": "stream",
     "text": [
      "49157\n",
      "49158\n"
     ]
    }
   ],
   "source": [
    "#test도 train과 같은 절차\n",
    "print(test_data[\"document\"].nunique())\n",
    "test_data.drop_duplicates(subset=['document'], inplace=True) # drop_duplicates 활용\n",
    "print(len(test_data))"
   ]
  },
  {
   "cell_type": "markdown",
   "id": "a7129121",
   "metadata": {},
   "source": [
    "마찬가지로 중복제거했는데 값 늘어남"
   ]
  },
  {
   "cell_type": "code",
   "execution_count": 15,
   "id": "cb14c6f3",
   "metadata": {},
   "outputs": [
    {
     "data": {
      "text/html": [
       "<div>\n",
       "<style scoped>\n",
       "    .dataframe tbody tr th:only-of-type {\n",
       "        vertical-align: middle;\n",
       "    }\n",
       "\n",
       "    .dataframe tbody tr th {\n",
       "        vertical-align: top;\n",
       "    }\n",
       "\n",
       "    .dataframe thead th {\n",
       "        text-align: right;\n",
       "    }\n",
       "</style>\n",
       "<table border=\"1\" class=\"dataframe\">\n",
       "  <thead>\n",
       "    <tr style=\"text-align: right;\">\n",
       "      <th></th>\n",
       "      <th>id</th>\n",
       "      <th>document</th>\n",
       "      <th>label</th>\n",
       "    </tr>\n",
       "  </thead>\n",
       "  <tbody>\n",
       "    <tr>\n",
       "      <th>5746</th>\n",
       "      <td>402110</td>\n",
       "      <td>NaN</td>\n",
       "      <td>1</td>\n",
       "    </tr>\n",
       "  </tbody>\n",
       "</table>\n",
       "</div>"
      ],
      "text/plain": [
       "          id document  label\n",
       "5746  402110      NaN      1"
      ]
     },
     "execution_count": 15,
     "metadata": {},
     "output_type": "execute_result"
    }
   ],
   "source": [
    "test_data.loc[test_data.document.isnull()]"
   ]
  },
  {
   "cell_type": "code",
   "execution_count": 16,
   "id": "7d6b229f",
   "metadata": {},
   "outputs": [],
   "source": [
    "test_data = test_data.dropna(how=\"any\")"
   ]
  },
  {
   "cell_type": "markdown",
   "id": "76477781",
   "metadata": {},
   "source": [
    "위까지 train_data, test_data 결측치 제거됨"
   ]
  },
  {
   "cell_type": "code",
   "execution_count": 17,
   "id": "a016bd4f",
   "metadata": {
    "scrolled": true
   },
   "outputs": [
    {
     "name": "stderr",
     "output_type": "stream",
     "text": [
      "/tmp/ipykernel_2383/2729449265.py:1: FutureWarning: The default value of regex will change from True to False in a future version.\n",
      "  train_data[\"document\"] = train_data[\"document\"].str.replace(\"[^ㄱ-ㅎㅏ-ㅣ가-힣]\",\"\")\n"
     ]
    },
    {
     "name": "stdout",
     "output_type": "stream",
     "text": [
      "train 샘플의 개수 : 145393\n"
     ]
    }
   ],
   "source": [
    "train_data[\"document\"] = train_data[\"document\"].str.replace(\"[^ㄱ-ㅎㅏ-ㅣ가-힣]\",\"\")\n",
    "train_data[\"document\"].replace(\"\",np.nan, inplace=True) #공백을 null로 변경\n",
    "train_data = train_data.dropna(how=\"any\")\n",
    "print('train 샘플의 개수 :',len(train_data))"
   ]
  },
  {
   "cell_type": "code",
   "execution_count": 18,
   "id": "ecd793dd",
   "metadata": {},
   "outputs": [
    {
     "name": "stdout",
     "output_type": "stream",
     "text": [
      "test 샘플의 개수 : 48852\n"
     ]
    },
    {
     "name": "stderr",
     "output_type": "stream",
     "text": [
      "/tmp/ipykernel_2383/1508181689.py:1: FutureWarning: The default value of regex will change from True to False in a future version.\n",
      "  test_data[\"document\"] = test_data[\"document\"].str.replace(\"[^ㄱ-ㅎㅏ-ㅣ가-힣]\",\"\")\n"
     ]
    }
   ],
   "source": [
    "test_data[\"document\"] = test_data[\"document\"].str.replace(\"[^ㄱ-ㅎㅏ-ㅣ가-힣]\",\"\")\n",
    "test_data[\"document\"].replace(\"\",np.nan, inplace=True) #공백을 null로 변경\n",
    "test_data = test_data.dropna(how=\"any\")\n",
    "print('test 샘플의 개수 :',len(test_data))"
   ]
  },
  {
   "cell_type": "code",
   "execution_count": 19,
   "id": "0d8c300c",
   "metadata": {},
   "outputs": [
    {
     "data": {
      "text/html": [
       "<div>\n",
       "<style scoped>\n",
       "    .dataframe tbody tr th:only-of-type {\n",
       "        vertical-align: middle;\n",
       "    }\n",
       "\n",
       "    .dataframe tbody tr th {\n",
       "        vertical-align: top;\n",
       "    }\n",
       "\n",
       "    .dataframe thead th {\n",
       "        text-align: right;\n",
       "    }\n",
       "</style>\n",
       "<table border=\"1\" class=\"dataframe\">\n",
       "  <thead>\n",
       "    <tr style=\"text-align: right;\">\n",
       "      <th></th>\n",
       "      <th>id</th>\n",
       "      <th>document</th>\n",
       "      <th>label</th>\n",
       "    </tr>\n",
       "  </thead>\n",
       "  <tbody>\n",
       "    <tr>\n",
       "      <th>0</th>\n",
       "      <td>9976970</td>\n",
       "      <td>아더빙진짜짜증나네요목소리</td>\n",
       "      <td>0</td>\n",
       "    </tr>\n",
       "    <tr>\n",
       "      <th>1</th>\n",
       "      <td>3819312</td>\n",
       "      <td>흠포스터보고초딩영화줄오버연기조차가볍지않구나</td>\n",
       "      <td>1</td>\n",
       "    </tr>\n",
       "    <tr>\n",
       "      <th>2</th>\n",
       "      <td>10265843</td>\n",
       "      <td>너무재밓었다그래서보는것을추천한다</td>\n",
       "      <td>0</td>\n",
       "    </tr>\n",
       "    <tr>\n",
       "      <th>3</th>\n",
       "      <td>9045019</td>\n",
       "      <td>교도소이야기구먼솔직히재미는없다평점조정</td>\n",
       "      <td>0</td>\n",
       "    </tr>\n",
       "    <tr>\n",
       "      <th>4</th>\n",
       "      <td>6483659</td>\n",
       "      <td>사이몬페그의익살스런연기가돋보였던영화스파이더맨에서늙어보이기만했던커스틴던스트가너무나도이...</td>\n",
       "      <td>1</td>\n",
       "    </tr>\n",
       "  </tbody>\n",
       "</table>\n",
       "</div>"
      ],
      "text/plain": [
       "         id                                           document  label\n",
       "0   9976970                                      아더빙진짜짜증나네요목소리      0\n",
       "1   3819312                            흠포스터보고초딩영화줄오버연기조차가볍지않구나      1\n",
       "2  10265843                                  너무재밓었다그래서보는것을추천한다      0\n",
       "3   9045019                               교도소이야기구먼솔직히재미는없다평점조정      0\n",
       "4   6483659  사이몬페그의익살스런연기가돋보였던영화스파이더맨에서늙어보이기만했던커스틴던스트가너무나도이...      1"
      ]
     },
     "execution_count": 19,
     "metadata": {},
     "output_type": "execute_result"
    }
   ],
   "source": [
    "train_data.head()"
   ]
  },
  {
   "cell_type": "code",
   "execution_count": 20,
   "id": "75a64bf2",
   "metadata": {},
   "outputs": [
    {
     "data": {
      "text/html": [
       "<div>\n",
       "<style scoped>\n",
       "    .dataframe tbody tr th:only-of-type {\n",
       "        vertical-align: middle;\n",
       "    }\n",
       "\n",
       "    .dataframe tbody tr th {\n",
       "        vertical-align: top;\n",
       "    }\n",
       "\n",
       "    .dataframe thead th {\n",
       "        text-align: right;\n",
       "    }\n",
       "</style>\n",
       "<table border=\"1\" class=\"dataframe\">\n",
       "  <thead>\n",
       "    <tr style=\"text-align: right;\">\n",
       "      <th></th>\n",
       "      <th>id</th>\n",
       "      <th>document</th>\n",
       "      <th>label</th>\n",
       "    </tr>\n",
       "  </thead>\n",
       "  <tbody>\n",
       "    <tr>\n",
       "      <th>0</th>\n",
       "      <td>6270596</td>\n",
       "      <td>굳ㅋ</td>\n",
       "      <td>1</td>\n",
       "    </tr>\n",
       "    <tr>\n",
       "      <th>2</th>\n",
       "      <td>8544678</td>\n",
       "      <td>뭐야이평점들은나쁘진않지만점짜리는더더욱아니잖아</td>\n",
       "      <td>0</td>\n",
       "    </tr>\n",
       "    <tr>\n",
       "      <th>3</th>\n",
       "      <td>6825595</td>\n",
       "      <td>지루하지는않은데완전막장임돈주고보기에는</td>\n",
       "      <td>0</td>\n",
       "    </tr>\n",
       "    <tr>\n",
       "      <th>4</th>\n",
       "      <td>6723715</td>\n",
       "      <td>만아니었어도별다섯개줬을텐데왜로나와서제심기를불편하게하죠</td>\n",
       "      <td>0</td>\n",
       "    </tr>\n",
       "    <tr>\n",
       "      <th>5</th>\n",
       "      <td>7898805</td>\n",
       "      <td>음악이주가된최고의음악영화</td>\n",
       "      <td>1</td>\n",
       "    </tr>\n",
       "  </tbody>\n",
       "</table>\n",
       "</div>"
      ],
      "text/plain": [
       "        id                       document  label\n",
       "0  6270596                             굳ㅋ      1\n",
       "2  8544678       뭐야이평점들은나쁘진않지만점짜리는더더욱아니잖아      0\n",
       "3  6825595           지루하지는않은데완전막장임돈주고보기에는      0\n",
       "4  6723715  만아니었어도별다섯개줬을텐데왜로나와서제심기를불편하게하죠      0\n",
       "5  7898805                  음악이주가된최고의음악영화      1"
      ]
     },
     "execution_count": 20,
     "metadata": {},
     "output_type": "execute_result"
    }
   ],
   "source": [
    "test_data.head()"
   ]
  },
  {
   "cell_type": "code",
   "execution_count": 21,
   "id": "6192a3c2",
   "metadata": {},
   "outputs": [
    {
     "name": "stdout",
     "output_type": "stream",
     "text": [
      "문장의 최단 길이: 1\n",
      "문장의 최장 길이: 140\n",
      "문장의 평균 길이: 49\n"
     ]
    },
    {
     "name": "stderr",
     "output_type": "stream",
     "text": [
      "/tmp/ipykernel_2383/101814941.py:15: DeprecationWarning: `np.int` is a deprecated alias for the builtin `int`. To silence this warning, use `int` by itself. Doing this will not modify any behavior and is safe. When replacing `np.int`, you may wish to use e.g. `np.int64` or `np.int32` to specify the precision. If you wish to review your current use, check the release note link for additional information.\n",
      "Deprecated in NumPy 1.20; for more details and guidance: https://numpy.org/devdocs/release/1.20.0-notes.html#deprecations\n",
      "  sentence_length = np.zeros((max_len), dtype=np.int)\n"
     ]
    },
    {
     "data": {
      "image/png": "[encoded data removed]",
      "text/plain": [
       "<Figure size 432x288 with 1 Axes>"
      ]
     },
     "metadata": {
      "needs_background": "light"
     },
     "output_type": "display_data"
    }
   ],
   "source": [
    "min_len = 999\n",
    "max_len = 0\n",
    "sum_len = 0\n",
    "\n",
    "for sen in train_data[\"document\"]:\n",
    "    length = len(sen)\n",
    "    if min_len > length: min_len = length\n",
    "    if max_len < length: max_len = length\n",
    "    sum_len += length\n",
    "\n",
    "print(\"문장의 최단 길이:\", min_len)\n",
    "print(\"문장의 최장 길이:\", max_len)\n",
    "print(\"문장의 평균 길이:\", sum_len // len(cleaned_corpus))\n",
    "\n",
    "sentence_length = np.zeros((max_len), dtype=np.int)\n",
    "\n",
    "for sen in train_data[\"document\"]:   # 중복이 제거된 코퍼스 기준\n",
    "    sentence_length[len(sen)-1] += 1\n",
    "\n",
    "plt.bar(range(max_len), sentence_length, width=1.0)\n",
    "plt.title(\"Sentence Length Distribution\")\n",
    "plt.show()"
   ]
  },
  {
   "cell_type": "code",
   "execution_count": 22,
   "id": "3dd34821",
   "metadata": {},
   "outputs": [],
   "source": [
    "max_len = 50\n",
    "min_len = 5\n",
    "\n",
    "# 길이 조건에 맞는 문장만 선택\n",
    "filtered_train = [s for s in train_data[\"document\"] if (len(s) < max_len) & (len(s) >= min_len)]\n",
    "filtered_test = [s for s in test_data[\"document\"] if (len(s) < max_len) & (len(s) >= min_len)]\n",
    "\n",
    "filtered_train = list(set(filtered_train))\n",
    "filtered_test =  list(set(filtered_test))\n",
    "\n",
    "train_df = pd.DataFrame(filtered_train)\n",
    "test_df = pd.DataFrame(filtered_test)"
   ]
  },
  {
   "cell_type": "code",
   "execution_count": 23,
   "id": "19828933",
   "metadata": {},
   "outputs": [],
   "source": [
    "# 길이 50이하인 데이터를 기존 데이터와 병합합니다.\n",
    "\n",
    "#inner로 만들면 nan을 생성하지 않는, 겹치는 부분만 병합\n",
    "#outer로 만들면 nan을 생성하는 것을 포함하는, 겹치지 않는 부분도 병합\n",
    "new_train_df = pd.merge(train_data, train_df, how='inner', left_on='document', right_on=0)\n",
    "new_test_df = pd.merge(test_data, test_df, how='inner', left_on='document', right_on=0)\n",
    "\n",
    "train_data = new_train_df[['id', 'document', 'label']]\n",
    "test_data = new_test_df[['id', 'document', 'label']]"
   ]
  },
  {
   "cell_type": "code",
   "execution_count": 25,
   "id": "f12c878c",
   "metadata": {
    "scrolled": true
   },
   "outputs": [
    {
     "data": {
      "text/html": [
       "<div>\n",
       "<style scoped>\n",
       "    .dataframe tbody tr th:only-of-type {\n",
       "        vertical-align: middle;\n",
       "    }\n",
       "\n",
       "    .dataframe tbody tr th {\n",
       "        vertical-align: top;\n",
       "    }\n",
       "\n",
       "    .dataframe thead th {\n",
       "        text-align: right;\n",
       "    }\n",
       "</style>\n",
       "<table border=\"1\" class=\"dataframe\">\n",
       "  <thead>\n",
       "    <tr style=\"text-align: right;\">\n",
       "      <th></th>\n",
       "      <th>id</th>\n",
       "      <th>document</th>\n",
       "      <th>label</th>\n",
       "    </tr>\n",
       "  </thead>\n",
       "  <tbody>\n",
       "    <tr>\n",
       "      <th>0</th>\n",
       "      <td>9976970</td>\n",
       "      <td>아더빙진짜짜증나네요목소리</td>\n",
       "      <td>0</td>\n",
       "    </tr>\n",
       "    <tr>\n",
       "      <th>1</th>\n",
       "      <td>3819312</td>\n",
       "      <td>흠포스터보고초딩영화줄오버연기조차가볍지않구나</td>\n",
       "      <td>1</td>\n",
       "    </tr>\n",
       "    <tr>\n",
       "      <th>2</th>\n",
       "      <td>10265843</td>\n",
       "      <td>너무재밓었다그래서보는것을추천한다</td>\n",
       "      <td>0</td>\n",
       "    </tr>\n",
       "    <tr>\n",
       "      <th>3</th>\n",
       "      <td>9045019</td>\n",
       "      <td>교도소이야기구먼솔직히재미는없다평점조정</td>\n",
       "      <td>0</td>\n",
       "    </tr>\n",
       "    <tr>\n",
       "      <th>4</th>\n",
       "      <td>5403919</td>\n",
       "      <td>막걸음마뗀세부터초등학교학년생인살용영화ㅋㅋㅋ별반개도아까움</td>\n",
       "      <td>0</td>\n",
       "    </tr>\n",
       "    <tr>\n",
       "      <th>...</th>\n",
       "      <td>...</td>\n",
       "      <td>...</td>\n",
       "      <td>...</td>\n",
       "    </tr>\n",
       "    <tr>\n",
       "      <th>123436</th>\n",
       "      <td>9458520</td>\n",
       "      <td>디케이드다음에더블다음에오즈인데더블은조금밖에안나오네요</td>\n",
       "      <td>1</td>\n",
       "    </tr>\n",
       "    <tr>\n",
       "      <th>123437</th>\n",
       "      <td>6222902</td>\n",
       "      <td>인간이문제지소는뭔죄인가</td>\n",
       "      <td>0</td>\n",
       "    </tr>\n",
       "    <tr>\n",
       "      <th>123438</th>\n",
       "      <td>9311800</td>\n",
       "      <td>이게뭐요한국인은거들먹거리고필리핀혼혈은착하다</td>\n",
       "      <td>0</td>\n",
       "    </tr>\n",
       "    <tr>\n",
       "      <th>123439</th>\n",
       "      <td>2376369</td>\n",
       "      <td>청춘영화의최고봉방황과우울했던날들의자화상</td>\n",
       "      <td>1</td>\n",
       "    </tr>\n",
       "    <tr>\n",
       "      <th>123440</th>\n",
       "      <td>9619869</td>\n",
       "      <td>한국영화최초로수간하는내용이담긴영화</td>\n",
       "      <td>0</td>\n",
       "    </tr>\n",
       "  </tbody>\n",
       "</table>\n",
       "<p>123441 rows × 3 columns</p>\n",
       "</div>"
      ],
      "text/plain": [
       "              id                        document  label\n",
       "0        9976970                   아더빙진짜짜증나네요목소리      0\n",
       "1        3819312         흠포스터보고초딩영화줄오버연기조차가볍지않구나      1\n",
       "2       10265843               너무재밓었다그래서보는것을추천한다      0\n",
       "3        9045019            교도소이야기구먼솔직히재미는없다평점조정      0\n",
       "4        5403919  막걸음마뗀세부터초등학교학년생인살용영화ㅋㅋㅋ별반개도아까움      0\n",
       "...          ...                             ...    ...\n",
       "123436   9458520    디케이드다음에더블다음에오즈인데더블은조금밖에안나오네요      1\n",
       "123437   6222902                    인간이문제지소는뭔죄인가      0\n",
       "123438   9311800         이게뭐요한국인은거들먹거리고필리핀혼혈은착하다      0\n",
       "123439   2376369           청춘영화의최고봉방황과우울했던날들의자화상      1\n",
       "123440   9619869              한국영화최초로수간하는내용이담긴영화      0\n",
       "\n",
       "[123441 rows x 3 columns]"
      ]
     },
     "execution_count": 25,
     "metadata": {},
     "output_type": "execute_result"
    }
   ],
   "source": [
    "train_data"
   ]
  },
  {
   "cell_type": "code",
   "execution_count": 28,
   "id": "87eaaef5",
   "metadata": {},
   "outputs": [],
   "source": [
    "#X_train, X_test로도 지정할 수 있지만, 불필요하게 하나에 모두 담기는 것을 방지하기위해 각각 나눔\n",
    "X_train,X_train_word_index, X_train_index_word = sp_tokenize(s, train_data['document'])\n",
    "X_test,X_test_word_index, X_test_index_word = sp_tokenize(s, test_data['document'])"
   ]
  },
  {
   "cell_type": "code",
   "execution_count": 32,
   "id": "085393ec",
   "metadata": {},
   "outputs": [],
   "source": [
    "#라벨설정\n",
    "y_train = np.array(list(train_data[\"label\"]))\n",
    "y_test = np.array(list(test_data[\"label\"]))"
   ]
  },
  {
   "cell_type": "code",
   "execution_count": 33,
   "id": "f30b6d0a",
   "metadata": {},
   "outputs": [
    {
     "data": {
      "text/plain": [
       "array([[ 143,  398, 2527,  162, 4796, 4796,  798,   69,  538,  486, 1137,\n",
       "         131,   47,    0,    0,    0,    0,    0,    0,    0,    0,    0,\n",
       "           0,    0,    0,    0,    0,    0,    0,    0,    0,    0,    0,\n",
       "           0,    0,    0,    0,    0,    0,    0,    0,    0,    0,    0,\n",
       "           0,    0,    0,    0,    0,    0]], dtype=int32)"
      ]
     },
     "execution_count": 33,
     "metadata": {},
     "output_type": "execute_result"
    }
   ],
   "source": [
    "#sp_tokenizer 함수에서 패딩 = post로 지정됨\n",
    "X_train[:1]"
   ]
  },
  {
   "cell_type": "code",
   "execution_count": 34,
   "id": "209fabb5",
   "metadata": {},
   "outputs": [
    {
     "data": {
      "text/plain": [
       "array([0, 1, 0])"
      ]
     },
     "execution_count": 34,
     "metadata": {},
     "output_type": "execute_result"
    }
   ],
   "source": [
    "#위 train_data의 라벨과 일치\n",
    "y_train[:3]"
   ]
  },
  {
   "cell_type": "code",
   "execution_count": 36,
   "id": "968d0c10",
   "metadata": {},
   "outputs": [
    {
     "name": "stdout",
     "output_type": "stream",
     "text": [
      "123441\n",
      "123441\n",
      "41328\n",
      "41328\n"
     ]
    }
   ],
   "source": [
    "print(len(X_train))\n",
    "print(len(y_train))\n",
    "print(len(X_test))\n",
    "print(len(y_test))"
   ]
  },
  {
   "cell_type": "code",
   "execution_count": 37,
   "id": "3eed8bfa",
   "metadata": {},
   "outputs": [],
   "source": [
    "from sklearn.model_selection import train_test_split\n",
    "train_input, val_input, train_target, val_target = train_test_split(X_train, y_train, test_size=0.2, random_state=42)"
   ]
  },
  {
   "cell_type": "markdown",
   "id": "baf1d7f8",
   "metadata": {},
   "source": [
    "# 모델학습 - RNN"
   ]
  },
  {
   "cell_type": "code",
   "execution_count": 39,
   "id": "7ffd3d4d",
   "metadata": {},
   "outputs": [
    {
     "name": "stdout",
     "output_type": "stream",
     "text": [
      "Model: \"sequential\"\n",
      "_________________________________________________________________\n",
      "Layer (type)                 Output Shape              Param #   \n",
      "=================================================================\n",
      "embedding (Embedding)        (None, None, 16)          144000    \n",
      "_________________________________________________________________\n",
      "lstm (LSTM)                  (None, 32)                6272      \n",
      "_________________________________________________________________\n",
      "dense (Dense)                (None, 12)                396       \n",
      "_________________________________________________________________\n",
      "dense_1 (Dense)              (None, 1)                 13        \n",
      "=================================================================\n",
      "Total params: 150,681\n",
      "Trainable params: 150,681\n",
      "Non-trainable params: 0\n",
      "_________________________________________________________________\n"
     ]
    }
   ],
   "source": [
    "#rnn 사용\n",
    "word_vector_dim = 16  # 단어 하나를 표현하는 임베딩 벡터의 차원수\n",
    "\n",
    "rnn_model = tf.keras.Sequential()\n",
    "rnn_model.add(tf.keras.layers.Embedding(vocab_size, word_vector_dim, input_shape=(None,)))\n",
    "rnn_model.add(tf.keras.layers.LSTM(32))   # 가장 널리 쓰이는 RNN인 LSTM 레이어를 사용. 이때 LSTM state 벡터의 차원수는 변경가능함\n",
    "rnn_model.add(tf.keras.layers.Dense(12, activation='relu'))\n",
    "rnn_model.add(tf.keras.layers.Dense(1, activation='sigmoid'))\n",
    "\n",
    "rnn_model.summary()"
   ]
  },
  {
   "cell_type": "code",
   "execution_count": 40,
   "id": "b3595cc3",
   "metadata": {},
   "outputs": [
    {
     "name": "stdout",
     "output_type": "stream",
     "text": [
      "Epoch 1/20\n",
      "483/483 [==============================] - 34s 63ms/step - loss: 0.6932 - accuracy: 0.5004 - val_loss: 0.6931 - val_accuracy: 0.5029\n",
      "Epoch 2/20\n",
      "483/483 [==============================] - 30s 62ms/step - loss: 0.5851 - accuracy: 0.6512 - val_loss: 0.4427 - val_accuracy: 0.7950\n",
      "Epoch 3/20\n",
      "483/483 [==============================] - 30s 62ms/step - loss: 0.4378 - accuracy: 0.7977 - val_loss: 0.4164 - val_accuracy: 0.8075\n",
      "Epoch 4/20\n",
      "483/483 [==============================] - 30s 61ms/step - loss: 0.4070 - accuracy: 0.8111 - val_loss: 0.3837 - val_accuracy: 0.8235\n",
      "Epoch 5/20\n",
      "483/483 [==============================] - 30s 62ms/step - loss: 0.3847 - accuracy: 0.8224 - val_loss: 0.3619 - val_accuracy: 0.8362\n",
      "Epoch 6/20\n",
      "483/483 [==============================] - 30s 62ms/step - loss: 0.3708 - accuracy: 0.8307 - val_loss: 0.3527 - val_accuracy: 0.8430\n",
      "Epoch 7/20\n",
      "483/483 [==============================] - 30s 62ms/step - loss: 0.3585 - accuracy: 0.8383 - val_loss: 0.3418 - val_accuracy: 0.8494\n",
      "Epoch 8/20\n",
      "483/483 [==============================] - 30s 62ms/step - loss: 0.3487 - accuracy: 0.8447 - val_loss: 0.3363 - val_accuracy: 0.8563\n",
      "Epoch 9/20\n",
      "483/483 [==============================] - 30s 62ms/step - loss: 0.3394 - accuracy: 0.8504 - val_loss: 0.3218 - val_accuracy: 0.8616\n",
      "Epoch 10/20\n",
      "483/483 [==============================] - 30s 62ms/step - loss: 0.3308 - accuracy: 0.8554 - val_loss: 0.3125 - val_accuracy: 0.8659\n",
      "Epoch 11/20\n",
      "483/483 [==============================] - 30s 62ms/step - loss: 0.3244 - accuracy: 0.8587 - val_loss: 0.3109 - val_accuracy: 0.8695\n",
      "Epoch 12/20\n",
      "483/483 [==============================] - 30s 62ms/step - loss: 0.3194 - accuracy: 0.8616 - val_loss: 0.3025 - val_accuracy: 0.8699\n",
      "Epoch 13/20\n",
      "483/483 [==============================] - 30s 62ms/step - loss: 0.3135 - accuracy: 0.8652 - val_loss: 0.2931 - val_accuracy: 0.8773\n",
      "Epoch 14/20\n",
      "483/483 [==============================] - 30s 62ms/step - loss: 0.3087 - accuracy: 0.8677 - val_loss: 0.2916 - val_accuracy: 0.8789\n",
      "Epoch 15/20\n",
      "483/483 [==============================] - 30s 62ms/step - loss: 0.3034 - accuracy: 0.8706 - val_loss: 0.2886 - val_accuracy: 0.8830\n",
      "Epoch 16/20\n",
      "483/483 [==============================] - 30s 62ms/step - loss: 0.2985 - accuracy: 0.8730 - val_loss: 0.2846 - val_accuracy: 0.8793\n",
      "Epoch 17/20\n",
      "483/483 [==============================] - 30s 62ms/step - loss: 0.2929 - accuracy: 0.8770 - val_loss: 0.2840 - val_accuracy: 0.8810\n",
      "Epoch 18/20\n",
      "483/483 [==============================] - 30s 62ms/step - loss: 0.2878 - accuracy: 0.8787 - val_loss: 0.2752 - val_accuracy: 0.8899\n",
      "Epoch 19/20\n",
      "483/483 [==============================] - 30s 62ms/step - loss: 0.2817 - accuracy: 0.8824 - val_loss: 0.2672 - val_accuracy: 0.8895\n",
      "Epoch 20/20\n",
      "483/483 [==============================] - 30s 61ms/step - loss: 0.2781 - accuracy: 0.8844 - val_loss: 0.2575 - val_accuracy: 0.8959\n"
     ]
    }
   ],
   "source": [
    "rnn_model.compile(optimizer='adam',\n",
    "              loss='binary_crossentropy',\n",
    "              metrics=['accuracy'])\n",
    "\n",
    "history = rnn_model.fit(X_train,\n",
    "                    y_train,\n",
    "                    epochs=20,\n",
    "                    batch_size=256,\n",
    "                    validation_data=(val_input, val_target),\n",
    "                    verbose=1)"
   ]
  },
  {
   "cell_type": "code",
   "execution_count": 41,
   "id": "b07ad071",
   "metadata": {
    "scrolled": true
   },
   "outputs": [
    {
     "name": "stdout",
     "output_type": "stream",
     "text": [
      "1292/1292 - 8s - loss: 0.4551 - accuracy: 0.8173\n",
      "[0.45505931973457336, 0.8173393607139587]\n"
     ]
    }
   ],
   "source": [
    "r_results = rnn_model.evaluate(X_test,  y_test, verbose=2)\n",
    "\n",
    "print(r_results)"
   ]
  },
  {
   "cell_type": "markdown",
   "id": "93bcface",
   "metadata": {},
   "source": [
    "test에서 80%의 정확도가 나왔다. konlpy의 mecab를 이용해서 sentencepiece와 비교하고자 한다"
   ]
  },
  {
   "cell_type": "markdown",
   "id": "44b10a83",
   "metadata": {},
   "source": [
    "# konlpy의 mecab 사용"
   ]
  },
  {
   "cell_type": "code",
   "execution_count": 43,
   "id": "574251ee",
   "metadata": {},
   "outputs": [],
   "source": [
    "from konlpy.tag import Mecab\n",
    "\n",
    "mecab = Mecab()"
   ]
  },
  {
   "cell_type": "code",
   "execution_count": 47,
   "id": "dd56f843",
   "metadata": {},
   "outputs": [],
   "source": [
    "def mecab_split(sentence):\n",
    "    return mecab.morphs(sentence)\n",
    "\n",
    "mecab_train = []\n",
    "\n",
    "for kor in train_data['document']:\n",
    "    mecab_train.append(mecab_split(kor))"
   ]
  },
  {
   "cell_type": "code",
   "execution_count": 48,
   "id": "781d029f",
   "metadata": {},
   "outputs": [
    {
     "data": {
      "text/plain": [
       "[['아', '더', '빙', '진짜', '짜증', '나', '네', '요목', '소리'],\n",
       " ['흠', '포스터', '보고', '초딩', '영화', '줄', '오버', '연기', '조차', '가볍', '지', '않', '구나'],\n",
       " ['너무', '재', '밓었다그래서보는것을추천한다'],\n",
       " ['교도소', '이야기', '구먼', '솔직히', '재미', '는', '없', '다', '평점', '조정']]"
      ]
     },
     "execution_count": 48,
     "metadata": {},
     "output_type": "execute_result"
    }
   ],
   "source": [
    "#확인\n",
    "mecab_train[:4]"
   ]
  },
  {
   "cell_type": "code",
   "execution_count": 49,
   "id": "04452a7a",
   "metadata": {
    "scrolled": true
   },
   "outputs": [
    {
     "data": {
      "text/plain": [
       "[['뭐',\n",
       "  '야',\n",
       "  '이',\n",
       "  '평점',\n",
       "  '들',\n",
       "  '은',\n",
       "  '나쁘',\n",
       "  '진',\n",
       "  '않',\n",
       "  '지만',\n",
       "  '점',\n",
       "  '짜리',\n",
       "  '는',\n",
       "  '더더욱',\n",
       "  '아니',\n",
       "  '잖아'],\n",
       " ['지루',\n",
       "  '하',\n",
       "  '지',\n",
       "  '는',\n",
       "  '않',\n",
       "  '은데',\n",
       "  '완전',\n",
       "  '막장',\n",
       "  '임',\n",
       "  '돈',\n",
       "  '주',\n",
       "  '고',\n",
       "  '보',\n",
       "  '기',\n",
       "  '에',\n",
       "  '는'],\n",
       " ['만',\n",
       "  '아니',\n",
       "  '었',\n",
       "  '어도',\n",
       "  '별',\n",
       "  '다섯',\n",
       "  '개',\n",
       "  '줬',\n",
       "  '을',\n",
       "  '텐데',\n",
       "  '왜',\n",
       "  '로',\n",
       "  '나와서',\n",
       "  '제',\n",
       "  '심기',\n",
       "  '를',\n",
       "  '불편',\n",
       "  '하',\n",
       "  '게',\n",
       "  '하',\n",
       "  '죠'],\n",
       " ['음악', '이', '주가', '된', '최고', '의', '음악', '영화']]"
      ]
     },
     "execution_count": 49,
     "metadata": {},
     "output_type": "execute_result"
    }
   ],
   "source": [
    "mecab_test = []\n",
    "\n",
    "for kor in test_data['document']:\n",
    "    mecab_test.append(mecab_split(kor))\n",
    "    \n",
    "mecab_test[:4]"
   ]
  },
  {
   "cell_type": "code",
   "execution_count": 50,
   "id": "ac86b0aa",
   "metadata": {},
   "outputs": [],
   "source": [
    "from tensorflow.keras.preprocessing.text import Tokenizer\n",
    "tokenizer = Tokenizer()\n",
    "tokenizer.fit_on_texts(mecab_train)"
   ]
  },
  {
   "cell_type": "code",
   "execution_count": 54,
   "id": "0cc08aa8",
   "metadata": {},
   "outputs": [],
   "source": [
    "#word_index는 단어를 키-값의 딕셔너리를 전체 반환 전체 47079개가 나오므로 실행은 하지않음\n",
    "#print(tokenizer.word_index)"
   ]
  },
  {
   "cell_type": "code",
   "execution_count": 58,
   "id": "eafe2988",
   "metadata": {},
   "outputs": [
    {
     "name": "stdout",
     "output_type": "stream",
     "text": [
      "단어 집합(vocabulary)의 크기 : 47079\n",
      "등장 빈도가 3번 이하인 희귀 단어의 수: 33441\n",
      "단어 집합에서 희귀 단어의 비율: 71.031670171414\n",
      "전체 등장 빈도에서 희귀 단어 등장 빈도 비율: 3.055964067469061\n"
     ]
    }
   ],
   "source": [
    "threshold = 4\n",
    "total_count = len(tokenizer.word_index) # 단어의 수\n",
    "rare_count = 0 # threshold값보다 빈도수가 작은 단어의 개수를 카운트\n",
    "total_frequency = 0 #훈련 데이터의 전체 단어 빈도수 총 합\n",
    "rare_frequency = 0 #등장 빈도수가 threshold보다 작은 단어의 등장 빈도수 합\n",
    "\n",
    "for key, value in tokenizer.word_counts.items():\n",
    "    total_frequency = total_frequency + value\n",
    "    \n",
    "    if(value<threshold):\n",
    "        rare_count +=1\n",
    "        rare_frequency +=value\n",
    "        \n",
    "print('단어 집합(vocabulary)의 크기 :',total_count)\n",
    "print('등장 빈도가 %s번 이하인 희귀 단어의 수: %s'%(threshold - 1, rare_count))\n",
    "print(\"단어 집합에서 희귀 단어의 비율:\", (rare_count / total_count)*100)\n",
    "print(\"전체 등장 빈도에서 희귀 단어 등장 빈도 비율:\", (rare_frequency / total_frequency)*100)"
   ]
  },
  {
   "cell_type": "code",
   "execution_count": 59,
   "id": "1bdfb589",
   "metadata": {},
   "outputs": [
    {
     "name": "stdout",
     "output_type": "stream",
     "text": [
      "단어 집합의 크기 : 13639\n"
     ]
    }
   ],
   "source": [
    "# 전체 단어 개수 중 빈도수 3이하인 단어는 제거\n",
    "# 0번 패딩 토큰을 고려하여 + 1\n",
    "vocab_size = total_count - rare_count + 1\n",
    "print('단어 집합의 크기 :',vocab_size)"
   ]
  },
  {
   "cell_type": "code",
   "execution_count": 64,
   "id": "f949b337",
   "metadata": {},
   "outputs": [],
   "source": [
    "tokenizer = Tokenizer(vocab_size) \n",
    "tokenizer.fit_on_texts(mecab_train)\n",
    "X_train = tokenizer.texts_to_sequences(mecab_train)\n",
    "X_test = tokenizer.texts_to_sequences(mecab_test)"
   ]
  },
  {
   "cell_type": "code",
   "execution_count": 65,
   "id": "ecdfc99d",
   "metadata": {},
   "outputs": [],
   "source": [
    "# 타겟데이터 분리\n",
    "y_train = np.array(train_data['label'])\n",
    "y_test = np.array(test_data['label'])"
   ]
  },
  {
   "cell_type": "code",
   "execution_count": 66,
   "id": "5c770f3f",
   "metadata": {},
   "outputs": [],
   "source": [
    "# 빈 샘플들은 어떤 레이블이 붙어있던 의미가 없으므로 빈 샘플들을 제거해주는 작업\n",
    "# 단어 길이가 0인 것들을 drop\n",
    "drop_train = [index for index, sentence in enumerate(X_train) if len(sentence) < 1]"
   ]
  },
  {
   "cell_type": "code",
   "execution_count": 67,
   "id": "6016a91e",
   "metadata": {},
   "outputs": [
    {
     "name": "stdout",
     "output_type": "stream",
     "text": [
      "122889\n",
      "122889\n"
     ]
    },
    {
     "name": "stderr",
     "output_type": "stream",
     "text": [
      "/opt/conda/lib/python3.9/site-packages/numpy/lib/function_base.py:5030: VisibleDeprecationWarning: Creating an ndarray from ragged nested sequences (which is a list-or-tuple of lists-or-tuples-or ndarrays with different lengths or shapes) is deprecated. If you meant to do this, you must specify 'dtype=object' when creating the ndarray.\n",
      "  arr = asarray(arr)\n"
     ]
    }
   ],
   "source": [
    "# 빈 샘플들을 제거한 후의 샘플 갯수 확인\n",
    "X_train = np.delete(X_train, drop_train, axis=0)\n",
    "y_train = np.delete(y_train, drop_train, axis=0)\n",
    "print(len(X_train))\n",
    "print(len(y_train))"
   ]
  },
  {
   "cell_type": "code",
   "execution_count": 68,
   "id": "a015d399",
   "metadata": {},
   "outputs": [],
   "source": [
    "# 전체 샘플 중 길이가 max_len 이하인 샘플의 비율이 몇 %인지 확인하는 함수\n",
    "def below_threshold_len(max_len, nested_list):\n",
    "    cnt = 0\n",
    "    for s in nested_list:\n",
    "        if(len(s) <= max_len):\n",
    "            cnt = cnt + 1\n",
    "    print('전체 샘플 중 길이가 %s 이하인 샘플의 비율: %s'%(max_len, (cnt / len(nested_list))*100))"
   ]
  },
  {
   "cell_type": "code",
   "execution_count": 73,
   "id": "2a8d6fe3",
   "metadata": {},
   "outputs": [
    {
     "name": "stdout",
     "output_type": "stream",
     "text": [
      "전체 샘플 중 길이가 28 이하인 샘플의 비율: 98.36030889664656\n"
     ]
    }
   ],
   "source": [
    "# 길이 28 이하의 평점이 몇 %인지 확인\n",
    "max_len = 28\n",
    "below_threshold_len(max_len, X_train)"
   ]
  },
  {
   "cell_type": "code",
   "execution_count": 74,
   "id": "acd6a818",
   "metadata": {},
   "outputs": [],
   "source": [
    "# 모든 샘플의 길이를 28로 설정\n",
    "from tensorflow.keras.preprocessing.sequence import pad_sequences\n",
    "X_train = pad_sequences(X_train, maxlen = max_len)\n",
    "X_test = pad_sequences(X_test, maxlen = max_len)"
   ]
  },
  {
   "cell_type": "markdown",
   "id": "f1c39a23",
   "metadata": {},
   "source": [
    "# RNN 모델 사용 - 위에서 사용했던 sentencepiece와 동일한 모델구조 사용"
   ]
  },
  {
   "cell_type": "code",
   "execution_count": 75,
   "id": "8b64438d",
   "metadata": {},
   "outputs": [
    {
     "name": "stdout",
     "output_type": "stream",
     "text": [
      "Model: \"sequential\"\n",
      "_________________________________________________________________\n",
      "Layer (type)                 Output Shape              Param #   \n",
      "=================================================================\n",
      "embedding (Embedding)        (None, None, 16)          144000    \n",
      "_________________________________________________________________\n",
      "lstm (LSTM)                  (None, 32)                6272      \n",
      "_________________________________________________________________\n",
      "dense (Dense)                (None, 12)                396       \n",
      "_________________________________________________________________\n",
      "dense_1 (Dense)              (None, 1)                 13        \n",
      "=================================================================\n",
      "Total params: 150,681\n",
      "Trainable params: 150,681\n",
      "Non-trainable params: 0\n",
      "_________________________________________________________________\n"
     ]
    }
   ],
   "source": [
    "#rnn 사용\n",
    "word_vector_dim = 16  # 단어 하나를 표현하는 임베딩 벡터의 차원수\n",
    "\n",
    "rnn_model2 = tf.keras.Sequential()\n",
    "rnn_model2.add(tf.keras.layers.Embedding(vocab_size, word_vector_dim, input_shape=(None,)))\n",
    "rnn_model2.add(tf.keras.layers.LSTM(32))   # 가장 널리 쓰이는 RNN인 LSTM 레이어를 사용. 이때 LSTM state 벡터의 차원수는 변경가능함\n",
    "rnn_model2.add(tf.keras.layers.Dense(12, activation='relu'))\n",
    "rnn_model2.add(tf.keras.layers.Dense(1, activation='sigmoid'))\n",
    "\n",
    "rnn_model.summary()"
   ]
  },
  {
   "cell_type": "code",
   "execution_count": 76,
   "id": "495bacb9",
   "metadata": {
    "scrolled": true
   },
   "outputs": [
    {
     "name": "stdout",
     "output_type": "stream",
     "text": [
      "Epoch 1/20\n",
      "481/481 [==============================] - 23s 43ms/step - loss: 0.4331 - accuracy: 0.7976 - val_loss: 1.1464 - val_accuracy: 0.4843\n",
      "Epoch 2/20\n",
      "481/481 [==============================] - 20s 42ms/step - loss: 0.3373 - accuracy: 0.8530 - val_loss: 1.0648 - val_accuracy: 0.4817\n",
      "Epoch 3/20\n",
      "481/481 [==============================] - 20s 42ms/step - loss: 0.3117 - accuracy: 0.8650 - val_loss: 1.1327 - val_accuracy: 0.4880\n",
      "Epoch 4/20\n",
      "481/481 [==============================] - 20s 41ms/step - loss: 0.2897 - accuracy: 0.8741 - val_loss: 1.7851 - val_accuracy: 0.4951\n",
      "Epoch 5/20\n",
      "481/481 [==============================] - 20s 42ms/step - loss: 0.2689 - accuracy: 0.8839 - val_loss: 1.4577 - val_accuracy: 0.4956\n",
      "Epoch 6/20\n",
      "481/481 [==============================] - 20s 42ms/step - loss: 0.2499 - accuracy: 0.8928 - val_loss: 0.8996 - val_accuracy: 0.4942\n",
      "Epoch 7/20\n",
      "481/481 [==============================] - 20s 42ms/step - loss: 0.2332 - accuracy: 0.9009 - val_loss: 0.8229 - val_accuracy: 0.4944\n",
      "Epoch 8/20\n",
      "481/481 [==============================] - 20s 42ms/step - loss: 0.2166 - accuracy: 0.9084 - val_loss: 0.7492 - val_accuracy: 0.5012\n",
      "Epoch 9/20\n",
      "481/481 [==============================] - 20s 42ms/step - loss: 0.2022 - accuracy: 0.9152 - val_loss: 0.7280 - val_accuracy: 0.4945\n",
      "Epoch 10/20\n",
      "481/481 [==============================] - 20s 41ms/step - loss: 0.1893 - accuracy: 0.9205 - val_loss: 0.8254 - val_accuracy: 0.4967\n",
      "Epoch 11/20\n",
      "481/481 [==============================] - 20s 41ms/step - loss: 0.1753 - accuracy: 0.9269 - val_loss: 0.7743 - val_accuracy: 0.4945\n",
      "Epoch 12/20\n",
      "481/481 [==============================] - 20s 42ms/step - loss: 0.1653 - accuracy: 0.9321 - val_loss: 0.7496 - val_accuracy: 0.4982\n",
      "Epoch 13/20\n",
      "481/481 [==============================] - 20s 42ms/step - loss: 0.1551 - accuracy: 0.9364 - val_loss: 0.7945 - val_accuracy: 0.5020\n",
      "Epoch 14/20\n",
      "481/481 [==============================] - 20s 41ms/step - loss: 0.1467 - accuracy: 0.9401 - val_loss: 0.7680 - val_accuracy: 0.4959\n",
      "Epoch 15/20\n",
      "481/481 [==============================] - 20s 42ms/step - loss: 0.1377 - accuracy: 0.9450 - val_loss: 0.7737 - val_accuracy: 0.4903\n",
      "Epoch 16/20\n",
      "481/481 [==============================] - 20s 41ms/step - loss: 0.1304 - accuracy: 0.9476 - val_loss: 0.7646 - val_accuracy: 0.5020\n",
      "Epoch 17/20\n",
      "481/481 [==============================] - 20s 41ms/step - loss: 0.1238 - accuracy: 0.9501 - val_loss: 0.7483 - val_accuracy: 0.4959\n",
      "Epoch 18/20\n",
      "481/481 [==============================] - 20s 42ms/step - loss: 0.1173 - accuracy: 0.9533 - val_loss: 0.7824 - val_accuracy: 0.5018\n",
      "Epoch 19/20\n",
      "481/481 [==============================] - 20s 42ms/step - loss: 0.1103 - accuracy: 0.9561 - val_loss: 0.7515 - val_accuracy: 0.4996\n",
      "Epoch 20/20\n",
      "481/481 [==============================] - 20s 41ms/step - loss: 0.1051 - accuracy: 0.9585 - val_loss: 0.8121 - val_accuracy: 0.5031\n"
     ]
    }
   ],
   "source": [
    "rnn_model2.compile(optimizer='adam',\n",
    "              loss='binary_crossentropy',\n",
    "              metrics=['accuracy'])\n",
    "\n",
    "history = rnn_model2.fit(X_train,\n",
    "                    y_train,\n",
    "                    epochs=20,\n",
    "                    batch_size=256,\n",
    "                    validation_data=(val_input, val_target),\n",
    "                    verbose=1)"
   ]
  },
  {
   "cell_type": "code",
   "execution_count": 77,
   "id": "52c6b684",
   "metadata": {
    "scrolled": true
   },
   "outputs": [
    {
     "name": "stdout",
     "output_type": "stream",
     "text": [
      "1292/1292 - 6s - loss: 0.9012 - accuracy: 0.8210\n",
      "[0.9011812806129456, 0.8210172057151794]\n"
     ]
    }
   ],
   "source": [
    "r2_results = rnn_model2.evaluate(X_test,  y_test, verbose=2)\n",
    "\n",
    "print(r2_results)"
   ]
  },
  {
   "cell_type": "markdown",
   "id": "28b42cf7",
   "metadata": {},
   "source": [
    "# 회고"
   ]
  },
  {
   "cell_type": "markdown",
   "id": "d0a940d5",
   "metadata": {},
   "source": [
    "* sentencepiece를 사용했을 때 보다 0.4%정도가 올랐다(0.8173->0.8210)\n",
    "* 결과적으로 형태소 분석기를 활용한 모델이 sentencepiece보다 더 좋은 결과가 나온 것은 예상을 했다.\n",
    "* 그럼에도 sentencepiece를 사용하는 이유는 oov(out of vocabulary)문제에 대해서도 robust하고, 언어에 대한 부가지식이 없어도 쉽게 작업을 할 수 있다는 장점이 있기에 사용한다고 한다.\n",
    "* 이러한 점에서 동일한 모델구조를 사용할 때 위에서 설명한 대로의 결과를 얻는 것은 당연하다고 할 수 있다.\n",
    "* 이전에 했던 프로젝트임에도 불구하고 많이 헤맸었다. 다른 형태소 분석기를 이용할 뿐인데 train, test를 나누는 부분이라던지, vocab_size를 설정한다든지... 여러가지 문제가 있었고 지금도 의문이 많이 남는다. 프로젝트를 처음부터 보면서 모르는 부분을 최대한 이해하도록 해야겠다."
   ]
  },
  {
   "cell_type": "code",
   "execution_count": null,
   "id": "b1cb4b78",
   "metadata": {},
   "outputs": [],
   "source": []
  }
 ],
 "metadata": {
  "kernelspec": {
   "display_name": "Python 3 (ipykernel)",
   "language": "python",
   "name": "python3"
  },
  "language_info": {
   "codemirror_mode": {
    "name": "ipython",
    "version": 3
   },
   "file_extension": ".py",
   "mimetype": "text/x-python",
   "name": "python",
   "nbconvert_exporter": "python",
   "pygments_lexer": "ipython3",
   "version": "3.9.7"
  }
 },
 "nbformat": 4,
 "nbformat_minor": 5
}
