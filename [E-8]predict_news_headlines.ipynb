{
 "cells": [
  {
   "cell_type": "code",
   "execution_count": 1,
   "id": "bc47c205",
   "metadata": {},
   "outputs": [
    {
     "name": "stderr",
     "output_type": "stream",
     "text": [
      "[nltk_data] Downloading package stopwords to /aiffel/nltk_data...\n",
      "[nltk_data]   Package stopwords is already up-to-date!\n"
     ]
    }
   ],
   "source": [
    "import nltk\n",
    "nltk.download('stopwords')\n",
    "\n",
    "import numpy as np\n",
    "import pandas as pd\n",
    "import os\n",
    "import re\n",
    "import matplotlib.pyplot as plt\n",
    "from nltk.corpus import stopwords\n",
    "from bs4 import BeautifulSoup \n",
    "from tensorflow.keras.preprocessing.text import Tokenizer \n",
    "from tensorflow.keras.preprocessing.sequence import pad_sequences\n",
    "import urllib.request\n",
    "import warnings\n",
    "warnings.filterwarnings(\"ignore\", category=UserWarning, module='bs4')"
   ]
  },
  {
   "cell_type": "markdown",
   "id": "89f1bac5",
   "metadata": {},
   "source": [
    "# 데이터 수집"
   ]
  },
  {
   "cell_type": "code",
   "execution_count": 2,
   "id": "19bc81ce",
   "metadata": {},
   "outputs": [],
   "source": [
    "import urllib.request\n",
    "urllib.request.urlretrieve(\"https://raw.githubusercontent.com/sunnysai12345/News_Summary/master/news_summary_more.csv\", filename=\"news_summary_more.csv\")\n",
    "data = pd.read_csv('news_summary_more.csv', encoding='iso-8859-1')"
   ]
  },
  {
   "cell_type": "code",
   "execution_count": 3,
   "id": "28cb2dc9",
   "metadata": {},
   "outputs": [
    {
     "data": {
      "text/html": [
       "<div>\n",
       "<style scoped>\n",
       "    .dataframe tbody tr th:only-of-type {\n",
       "        vertical-align: middle;\n",
       "    }\n",
       "\n",
       "    .dataframe tbody tr th {\n",
       "        vertical-align: top;\n",
       "    }\n",
       "\n",
       "    .dataframe thead th {\n",
       "        text-align: right;\n",
       "    }\n",
       "</style>\n",
       "<table border=\"1\" class=\"dataframe\">\n",
       "  <thead>\n",
       "    <tr style=\"text-align: right;\">\n",
       "      <th></th>\n",
       "      <th>headlines</th>\n",
       "      <th>text</th>\n",
       "    </tr>\n",
       "  </thead>\n",
       "  <tbody>\n",
       "    <tr>\n",
       "      <th>60821</th>\n",
       "      <td>Air India staffer arrested for smuggling gold ...</td>\n",
       "      <td>The air intelligence unit of Air India has arr...</td>\n",
       "    </tr>\n",
       "    <tr>\n",
       "      <th>37293</th>\n",
       "      <td>TIME cover slams Trump's family separation policy</td>\n",
       "      <td>The TIME magazine in its latest edition slamme...</td>\n",
       "    </tr>\n",
       "    <tr>\n",
       "      <th>70380</th>\n",
       "      <td>Multiple GST rates shaking automakers' confide...</td>\n",
       "      <td>Hyundai Motor India has criticised frequent ch...</td>\n",
       "    </tr>\n",
       "    <tr>\n",
       "      <th>60557</th>\n",
       "      <td>US Supreme Court judge brags about sexual inti...</td>\n",
       "      <td>A US Supreme Court judge Bill O'Neill on Frida...</td>\n",
       "    </tr>\n",
       "    <tr>\n",
       "      <th>25469</th>\n",
       "      <td>Man beats mother with rod, strangles her over ...</td>\n",
       "      <td>A man allegedly beat his mother with an iron r...</td>\n",
       "    </tr>\n",
       "  </tbody>\n",
       "</table>\n",
       "</div>"
      ],
      "text/plain": [
       "                                               headlines  \\\n",
       "60821  Air India staffer arrested for smuggling gold ...   \n",
       "37293  TIME cover slams Trump's family separation policy   \n",
       "70380  Multiple GST rates shaking automakers' confide...   \n",
       "60557  US Supreme Court judge brags about sexual inti...   \n",
       "25469  Man beats mother with rod, strangles her over ...   \n",
       "\n",
       "                                                    text  \n",
       "60821  The air intelligence unit of Air India has arr...  \n",
       "37293  The TIME magazine in its latest edition slamme...  \n",
       "70380  Hyundai Motor India has criticised frequent ch...  \n",
       "60557  A US Supreme Court judge Bill O'Neill on Frida...  \n",
       "25469  A man allegedly beat his mother with an iron r...  "
      ]
     },
     "execution_count": 3,
     "metadata": {},
     "output_type": "execute_result"
    }
   ],
   "source": [
    "#데이터 확인/ headlines, text만 있으므로 columns를 자를 필요가 없음 \n",
    "data.sample(5)"
   ]
  },
  {
   "cell_type": "markdown",
   "id": "184f6c39",
   "metadata": {},
   "source": [
    "# 데이터 전처리(추상적 요약)"
   ]
  },
  {
   "cell_type": "code",
   "execution_count": 4,
   "id": "3123b023",
   "metadata": {},
   "outputs": [
    {
     "name": "stdout",
     "output_type": "stream",
     "text": [
      "headlines 열에서 중복을 배제한 유일한 샘플의 수 : 98280\n",
      "text 열에서 중복을 배제한 유일한 샘플의 수 : 98360\n"
     ]
    }
   ],
   "source": [
    "#헤드라인, 텍스트 unique한 값의 수 확인\n",
    "print('headlines 열에서 중복을 배제한 유일한 샘플의 수 :', data['headlines'].nunique())\n",
    "print('text 열에서 중복을 배제한 유일한 샘플의 수 :', data['text'].nunique())"
   ]
  },
  {
   "cell_type": "code",
   "execution_count": 5,
   "id": "cd4fc04c",
   "metadata": {},
   "outputs": [
    {
     "name": "stdout",
     "output_type": "stream",
     "text": [
      "헤드라인 전체 샘플수 : 98280\n",
      "텍스트 전체 샘플수 : 98262\n"
     ]
    }
   ],
   "source": [
    "#중복된 헤드라인이나 텍스트 잘라내기 / inplace=True를 사용해서 return하지않고 data내부를 직접적으로 바꿈\n",
    "data.drop_duplicates(subset = ['headlines'], inplace=True)\n",
    "print('헤드라인 전체 샘플수 :', (len(data)))\n",
    "data.drop_duplicates(subset = ['text'], inplace=True)\n",
    "print('텍스트 전체 샘플수 :', (len(data)))"
   ]
  },
  {
   "cell_type": "markdown",
   "id": "2d9b77e4",
   "metadata": {},
   "source": [
    "중복 텍스트 98개 잘라내기 성공"
   ]
  },
  {
   "cell_type": "code",
   "execution_count": 6,
   "id": "e0f3d1e5",
   "metadata": {},
   "outputs": [
    {
     "name": "stdout",
     "output_type": "stream",
     "text": [
      "headlines    0\n",
      "text         0\n",
      "dtype: int64\n"
     ]
    }
   ],
   "source": [
    "#null값이 있는지 확인하는 메서드 사용\n",
    "print(data.isnull().sum())"
   ]
  },
  {
   "cell_type": "markdown",
   "id": "75bf73ea",
   "metadata": {},
   "source": [
    "null값 존재하지않음. 다음단계 이행// 혹시나 null값이 있다면 dropna메서드 사용할 것, inplace 사용가능"
   ]
  },
  {
   "cell_type": "code",
   "execution_count": 7,
   "id": "8dd2a44f",
   "metadata": {},
   "outputs": [
    {
     "name": "stdout",
     "output_type": "stream",
     "text": [
      "정규화 사전의 수:  120\n"
     ]
    }
   ],
   "source": [
    "#정규화 사전 \n",
    "contractions = {\"ain't\": \"is not\", \"aren't\": \"are not\",\"can't\": \"cannot\", \"'cause\": \"because\", \"could've\": \"could have\", \"couldn't\": \"could not\",\n",
    "                           \"didn't\": \"did not\",  \"doesn't\": \"does not\", \"don't\": \"do not\", \"hadn't\": \"had not\", \"hasn't\": \"has not\", \"haven't\": \"have not\",\n",
    "                           \"he'd\": \"he would\",\"he'll\": \"he will\", \"he's\": \"he is\", \"how'd\": \"how did\", \"how'd'y\": \"how do you\", \"how'll\": \"how will\", \"how's\": \"how is\",\n",
    "                           \"I'd\": \"I would\", \"I'd've\": \"I would have\", \"I'll\": \"I will\", \"I'll've\": \"I will have\",\"I'm\": \"I am\", \"I've\": \"I have\", \"i'd\": \"i would\",\n",
    "                           \"i'd've\": \"i would have\", \"i'll\": \"i will\",  \"i'll've\": \"i will have\",\"i'm\": \"i am\", \"i've\": \"i have\", \"isn't\": \"is not\", \"it'd\": \"it would\",\n",
    "                           \"it'd've\": \"it would have\", \"it'll\": \"it will\", \"it'll've\": \"it will have\",\"it's\": \"it is\", \"let's\": \"let us\", \"ma'am\": \"madam\",\n",
    "                           \"mayn't\": \"may not\", \"might've\": \"might have\",\"mightn't\": \"might not\",\"mightn't've\": \"might not have\", \"must've\": \"must have\",\n",
    "                           \"mustn't\": \"must not\", \"mustn't've\": \"must not have\", \"needn't\": \"need not\", \"needn't've\": \"need not have\",\"o'clock\": \"of the clock\",\n",
    "                           \"oughtn't\": \"ought not\", \"oughtn't've\": \"ought not have\", \"shan't\": \"shall not\", \"sha'n't\": \"shall not\", \"shan't've\": \"shall not have\",\n",
    "                           \"she'd\": \"she would\", \"she'd've\": \"she would have\", \"she'll\": \"she will\", \"she'll've\": \"she will have\", \"she's\": \"she is\",\n",
    "                           \"should've\": \"should have\", \"shouldn't\": \"should not\", \"shouldn't've\": \"should not have\", \"so've\": \"so have\",\"so's\": \"so as\",\n",
    "                           \"this's\": \"this is\",\"that'd\": \"that would\", \"that'd've\": \"that would have\", \"that's\": \"that is\", \"there'd\": \"there would\",\n",
    "                           \"there'd've\": \"there would have\", \"there's\": \"there is\", \"here's\": \"here is\",\"they'd\": \"they would\", \"they'd've\": \"they would have\",\n",
    "                           \"they'll\": \"they will\", \"they'll've\": \"they will have\", \"they're\": \"they are\", \"they've\": \"they have\", \"to've\": \"to have\",\n",
    "                           \"wasn't\": \"was not\", \"we'd\": \"we would\", \"we'd've\": \"we would have\", \"we'll\": \"we will\", \"we'll've\": \"we will have\", \"we're\": \"we are\",\n",
    "                           \"we've\": \"we have\", \"weren't\": \"were not\", \"what'll\": \"what will\", \"what'll've\": \"what will have\", \"what're\": \"what are\",\n",
    "                           \"what's\": \"what is\", \"what've\": \"what have\", \"when's\": \"when is\", \"when've\": \"when have\", \"where'd\": \"where did\", \"where's\": \"where is\",\n",
    "                           \"where've\": \"where have\", \"who'll\": \"who will\", \"who'll've\": \"who will have\", \"who's\": \"who is\", \"who've\": \"who have\",\n",
    "                           \"why's\": \"why is\", \"why've\": \"why have\", \"will've\": \"will have\", \"won't\": \"will not\", \"won't've\": \"will not have\",\n",
    "                           \"would've\": \"would have\", \"wouldn't\": \"would not\", \"wouldn't've\": \"would not have\", \"y'all\": \"you all\",\n",
    "                           \"y'all'd\": \"you all would\",\"y'all'd've\": \"you all would have\",\"y'all're\": \"you all are\",\"y'all've\": \"you all have\",\n",
    "                           \"you'd\": \"you would\", \"you'd've\": \"you would have\", \"you'll\": \"you will\", \"you'll've\": \"you will have\",\n",
    "                           \"you're\": \"you are\", \"you've\": \"you have\"}\n",
    "\n",
    "print(\"정규화 사전의 수: \", len(contractions))"
   ]
  },
  {
   "cell_type": "code",
   "execution_count": 8,
   "id": "bfc42788",
   "metadata": {},
   "outputs": [
    {
     "name": "stdout",
     "output_type": "stream",
     "text": [
      "불용어 개수 : 179\n",
      "['i', 'me', 'my', 'myself', 'we', 'our', 'ours', 'ourselves', 'you', \"you're\", \"you've\", \"you'll\", \"you'd\", 'your', 'yours', 'yourself', 'yourselves', 'he', 'him', 'his', 'himself', 'she', \"she's\", 'her', 'hers', 'herself', 'it', \"it's\", 'its', 'itself', 'they', 'them', 'their', 'theirs', 'themselves', 'what', 'which', 'who', 'whom', 'this', 'that', \"that'll\", 'these', 'those', 'am', 'is', 'are', 'was', 'were', 'be', 'been', 'being', 'have', 'has', 'had', 'having', 'do', 'does', 'did', 'doing', 'a', 'an', 'the', 'and', 'but', 'if', 'or', 'because', 'as', 'until', 'while', 'of', 'at', 'by', 'for', 'with', 'about', 'against', 'between', 'into', 'through', 'during', 'before', 'after', 'above', 'below', 'to', 'from', 'up', 'down', 'in', 'out', 'on', 'off', 'over', 'under', 'again', 'further', 'then', 'once', 'here', 'there', 'when', 'where', 'why', 'how', 'all', 'any', 'both', 'each', 'few', 'more', 'most', 'other', 'some', 'such', 'no', 'nor', 'not', 'only', 'own', 'same', 'so', 'than', 'too', 'very', 's', 't', 'can', 'will', 'just', 'don', \"don't\", 'should', \"should've\", 'now', 'd', 'll', 'm', 'o', 're', 've', 'y', 'ain', 'aren', \"aren't\", 'couldn', \"couldn't\", 'didn', \"didn't\", 'doesn', \"doesn't\", 'hadn', \"hadn't\", 'hasn', \"hasn't\", 'haven', \"haven't\", 'isn', \"isn't\", 'ma', 'mightn', \"mightn't\", 'mustn', \"mustn't\", 'needn', \"needn't\", 'shan', \"shan't\", 'shouldn', \"shouldn't\", 'wasn', \"wasn't\", 'weren', \"weren't\", 'won', \"won't\", 'wouldn', \"wouldn't\"]\n"
     ]
    }
   ],
   "source": [
    "#NLTK에서 제공하는 불용어 리스트 사용하여 불용어 제거\n",
    "print('불용어 개수 :', len(stopwords.words('english') ))\n",
    "print(stopwords.words('english'))"
   ]
  },
  {
   "cell_type": "code",
   "execution_count": 9,
   "id": "3527f464",
   "metadata": {},
   "outputs": [],
   "source": [
    "#데이터 전처리 과정\n",
    "# 데이터 전처리 함수\n",
    "def preprocess_sentence(sentence, remove_stopwords=True):\n",
    "    sentence = sentence.lower() # 텍스트는 소문자로\n",
    "    sentence = BeautifulSoup(sentence, \"lxml\").text # <br />, <a href = ...> 등의 html 태그 제거\n",
    "    sentence = re.sub(r'\\([^)]*\\)', '', sentence) # 괄호안에 있는 문자제거\n",
    "    sentence = re.sub('\"','', sentence) # 쌍따옴표 제거\n",
    "    sentence = ' '.join([contractions[t] if t in contractions else t for t in sentence.split(\" \")]) # 약어 정규화\n",
    "    sentence = re.sub(r\"'s\\b\",\"\", sentence) # 소유격 제거. Ex) roland's -> roland// \\b는 공백을 기준으로 문자를 나눈다고 이해할 것 \n",
    "    sentence = re.sub(\"[^a-zA-Z]\", \" \", sentence) # 영어 외 문자를 공백으로\n",
    "    sentence = re.sub('[m]{2,}', 'mm', sentence) # m이 3개 이상이면 2개로 변경. Ex) ummmmmmm -> umm\n",
    "    \n",
    "    # 불용어 제거 (Text)\n",
    "    if remove_stopwords:  #기본값\n",
    "        tokens = ' '.join(word for word in sentence.split() if not word in stopwords.words('english') if len(word) > 1)\n",
    "    # 불용어 미제거 (Summary)\n",
    "    else:                 #기본값 외의 경우\n",
    "        tokens = ' '.join(word for word in sentence.split() if len(word) > 1)\n",
    "    return tokens"
   ]
  },
  {
   "cell_type": "code",
   "execution_count": 10,
   "id": "42e12a60",
   "metadata": {},
   "outputs": [
    {
     "name": "stdout",
     "output_type": "stream",
     "text": [
      "Text 전처리 후 결과:  ['saurav kant alumnus upgrad iiit pg program machine learning artificial intelligence sr systems engineer infosys almost years work experience program upgrad degree career support helped transition data scientist tech mahindra salary hike upgrad online power learning powered lakh careers', 'kunal shah credit card bill payment platform cred gave users chance win free food swiggy one year pranav kaushik delhi techie bagged reward spending cred coins users get one cred coin per rupee bill paid used avail rewards brands like ixigo bookmyshow ubereats cult fit', 'new zealand defeated india wickets fourth odi hamilton thursday win first match five match odi series india lost international match rohit sharma captaincy consecutive victories dating back march match witnessed india getting seventh lowest total odi cricket history', 'aegon life iterm insurance plan customers enjoy tax benefits premiums paid save taxes plan provides life cover age years also customers options insure critical illnesses disability accidental death benefit rider life cover age years', 'speaking sexual harassment allegations rajkumar hirani sonam kapoor said known hirani many years true metoo movement get derailed metoo movement always believe woman case need reserve judgment added hirani accused assistant worked sanju']\n"
     ]
    }
   ],
   "source": [
    "#훈련 데이터 전체에대한 전처리, remove_stopwords 의 기본값이 true이므로 불용어 제거\n",
    "clean_text = []\n",
    "for s in data['text']:\n",
    "    clean_text.append(preprocess_sentence(s))\n",
    "\n",
    "# 전처리 후 출력\n",
    "print(\"Text 전처리 후 결과: \", clean_text[:5])"
   ]
  },
  {
   "cell_type": "code",
   "execution_count": 11,
   "id": "6e790ca3",
   "metadata": {},
   "outputs": [
    {
     "name": "stdout",
     "output_type": "stream",
     "text": [
      "headlines 전처리 후 결과:  ['upgrad learner switches to career in ml al with salary hike', 'delhi techie wins free food from swiggy for one year on cred', 'new zealand end rohit sharma led india match winning streak', 'aegon life iterm insurance plan helps customers save tax', 'have known hirani for yrs what if metoo claims are not true sonam']\n"
     ]
    }
   ],
   "source": [
    "#헤드라인에 대한 전처리, remove_stopwords=False이므로 불용어 제거하지 않음\n",
    "clean_headlines = []\n",
    "for s in data['headlines']:\n",
    "    clean_headlines.append(preprocess_sentence(s, False))\n",
    "\n",
    "print(\"headlines 전처리 후 결과: \", clean_headlines[:5])"
   ]
  },
  {
   "cell_type": "code",
   "execution_count": 12,
   "id": "d9b55941",
   "metadata": {},
   "outputs": [],
   "source": [
    "#전처리한 것들을 다시 data['~~~']로 지정\n",
    "data['text'] = clean_text\n",
    "data['headlines'] = clean_headlines\n",
    "\n",
    "# 빈 값을 Null 값으로 변환\n",
    "data.replace('', np.nan, inplace=True)"
   ]
  },
  {
   "cell_type": "code",
   "execution_count": 13,
   "id": "22cc2860",
   "metadata": {},
   "outputs": [
    {
     "data": {
      "text/plain": [
       "headlines    0\n",
       "text         0\n",
       "dtype: int64"
      ]
     },
     "execution_count": 13,
     "metadata": {},
     "output_type": "execute_result"
    }
   ],
   "source": [
    "#null값 재확인\n",
    "data.isnull().sum()"
   ]
  },
  {
   "cell_type": "markdown",
   "id": "a4c3fb09",
   "metadata": {},
   "source": [
    "null값이 없으므로 dropna 메서드 실행하지 않음"
   ]
  },
  {
   "cell_type": "code",
   "execution_count": 14,
   "id": "50469127",
   "metadata": {},
   "outputs": [
    {
     "name": "stdout",
     "output_type": "stream",
     "text": [
      "텍스트의 최소 길이 : 1\n",
      "텍스트의 최대 길이 : 60\n",
      "텍스트의 평균 길이 : 35.10029309397326\n",
      "헤드라인의 최소 길이 : 1\n",
      "헤드라인의 최대 길이 : 16\n",
      "헤드라인의 평균 길이 : 9.299444342675704\n"
     ]
    },
    {
     "data": {
      "image/png": "[encoded data removed]",
      "text/plain": [
       "<Figure size 432x288 with 2 Axes>"
      ]
     },
     "metadata": {
      "needs_background": "light"
     },
     "output_type": "display_data"
    },
    {
     "data": {
      "image/png": "[encoded data removed]",
      "text/plain": [
       "<Figure size 432x288 with 1 Axes>"
      ]
     },
     "metadata": {
      "needs_background": "light"
     },
     "output_type": "display_data"
    },
    {
     "data": {
      "image/png": "[encoded data removed]",
      "text/plain": [
       "<Figure size 432x288 with 1 Axes>"
      ]
     },
     "metadata": {
      "needs_background": "light"
     },
     "output_type": "display_data"
    }
   ],
   "source": [
    "#길이 분포 시각화 출력\n",
    "import matplotlib.pyplot as plt\n",
    "\n",
    "text_len = [len(s.split()) for s in data['text']]\n",
    "headlines_len = [len(s.split()) for s in data['headlines']]\n",
    "\n",
    "print('텍스트의 최소 길이 : {}'.format(np.min(text_len)))\n",
    "print('텍스트의 최대 길이 : {}'.format(np.max(text_len)))\n",
    "print('텍스트의 평균 길이 : {}'.format(np.mean(text_len)))\n",
    "print('헤드라인의 최소 길이 : {}'.format(np.min(headlines_len)))\n",
    "print('헤드라인의 최대 길이 : {}'.format(np.max(headlines_len)))\n",
    "print('헤드라인의 평균 길이 : {}'.format(np.mean(headlines_len)))\n",
    "\n",
    "plt.subplot(1,2,1)\n",
    "plt.boxplot(text_len)\n",
    "plt.title('text')\n",
    "plt.subplot(1,2,2)\n",
    "plt.boxplot(headlines_len)\n",
    "plt.title('headlines')\n",
    "plt.tight_layout()\n",
    "plt.show()\n",
    "\n",
    "plt.title('text')\n",
    "plt.hist(text_len, bins = 40)\n",
    "plt.xlabel('length of samples')\n",
    "plt.ylabel('number of samples')\n",
    "plt.show()\n",
    "\n",
    "plt.title('headlines')\n",
    "plt.hist(headlines_len, bins = 40)\n",
    "plt.xlabel('length of samples')\n",
    "plt.ylabel('number of samples')\n",
    "plt.show()"
   ]
  },
  {
   "cell_type": "code",
   "execution_count": 15,
   "id": "06db27b9",
   "metadata": {},
   "outputs": [],
   "source": [
    "#text, headlines 최대길이 임의 지정\n",
    "text_max_len = 60\n",
    "headlines_max_len = 12"
   ]
  },
  {
   "cell_type": "code",
   "execution_count": 16,
   "id": "a8640741",
   "metadata": {},
   "outputs": [],
   "source": [
    "#위에서 지정한 길이가 데이터의 몇%에 해당하는지 출력\n",
    "def below_threshold_len(max_len, nested_list):\n",
    "  cnt = 0\n",
    "  for s in nested_list:\n",
    "    if(len(s.split()) <= max_len):\n",
    "        cnt = cnt + 1\n",
    "  print('전체 샘플 중 길이가 %s 이하인 샘플의 비율: %s'%(max_len, (cnt / len(nested_list))))"
   ]
  },
  {
   "cell_type": "code",
   "execution_count": 17,
   "id": "bf07eaea",
   "metadata": {},
   "outputs": [
    {
     "name": "stdout",
     "output_type": "stream",
     "text": [
      "전체 샘플 중 길이가 60 이하인 샘플의 비율: 1.0\n",
      "전체 샘플 중 길이가 12 이하인 샘플의 비율: 0.9880319960920804\n"
     ]
    }
   ],
   "source": [
    "below_threshold_len(text_max_len, data['text'])\n",
    "below_threshold_len(headlines_max_len,  data['headlines'])"
   ]
  },
  {
   "cell_type": "markdown",
   "id": "17e325e7",
   "metadata": {},
   "source": [
    "98%이상이 잘리지 않으므로 계속 진행"
   ]
  },
  {
   "cell_type": "code",
   "execution_count": 18,
   "id": "ce23e0a7",
   "metadata": {},
   "outputs": [
    {
     "name": "stdout",
     "output_type": "stream",
     "text": [
      "전체 데이터 수 : 97086\n"
     ]
    }
   ],
   "source": [
    "data = data[data['text'].apply(lambda x: len(x.split()) <= text_max_len)]\n",
    "data = data[data['headlines'].apply(lambda x: len(x.split()) <= headlines_max_len)]\n",
    "print('전체 데이터 수 :', (len(data)))"
   ]
  },
  {
   "cell_type": "code",
   "execution_count": 19,
   "id": "dcc0a545",
   "metadata": {},
   "outputs": [
    {
     "data": {
      "text/html": [
       "<div>\n",
       "<style scoped>\n",
       "    .dataframe tbody tr th:only-of-type {\n",
       "        vertical-align: middle;\n",
       "    }\n",
       "\n",
       "    .dataframe tbody tr th {\n",
       "        vertical-align: top;\n",
       "    }\n",
       "\n",
       "    .dataframe thead th {\n",
       "        text-align: right;\n",
       "    }\n",
       "</style>\n",
       "<table border=\"1\" class=\"dataframe\">\n",
       "  <thead>\n",
       "    <tr style=\"text-align: right;\">\n",
       "      <th></th>\n",
       "      <th>headlines</th>\n",
       "      <th>text</th>\n",
       "      <th>decoder_input</th>\n",
       "      <th>decoder_target</th>\n",
       "    </tr>\n",
       "  </thead>\n",
       "  <tbody>\n",
       "    <tr>\n",
       "      <th>0</th>\n",
       "      <td>upgrad learner switches to career in ml al wit...</td>\n",
       "      <td>saurav kant alumnus upgrad iiit pg program mac...</td>\n",
       "      <td>sostoken upgrad learner switches to career in ...</td>\n",
       "      <td>upgrad learner switches to career in ml al wit...</td>\n",
       "    </tr>\n",
       "    <tr>\n",
       "      <th>1</th>\n",
       "      <td>delhi techie wins free food from swiggy for on...</td>\n",
       "      <td>kunal shah credit card bill payment platform c...</td>\n",
       "      <td>sostoken delhi techie wins free food from swig...</td>\n",
       "      <td>delhi techie wins free food from swiggy for on...</td>\n",
       "    </tr>\n",
       "    <tr>\n",
       "      <th>2</th>\n",
       "      <td>new zealand end rohit sharma led india match w...</td>\n",
       "      <td>new zealand defeated india wickets fourth odi ...</td>\n",
       "      <td>sostoken new zealand end rohit sharma led indi...</td>\n",
       "      <td>new zealand end rohit sharma led india match w...</td>\n",
       "    </tr>\n",
       "    <tr>\n",
       "      <th>3</th>\n",
       "      <td>aegon life iterm insurance plan helps customer...</td>\n",
       "      <td>aegon life iterm insurance plan customers enjo...</td>\n",
       "      <td>sostoken aegon life iterm insurance plan helps...</td>\n",
       "      <td>aegon life iterm insurance plan helps customer...</td>\n",
       "    </tr>\n",
       "    <tr>\n",
       "      <th>5</th>\n",
       "      <td>rahat fateh ali khan denies getting notice for...</td>\n",
       "      <td>pakistani singer rahat fateh ali khan denied r...</td>\n",
       "      <td>sostoken rahat fateh ali khan denies getting n...</td>\n",
       "      <td>rahat fateh ali khan denies getting notice for...</td>\n",
       "    </tr>\n",
       "  </tbody>\n",
       "</table>\n",
       "</div>"
      ],
      "text/plain": [
       "                                           headlines  \\\n",
       "0  upgrad learner switches to career in ml al wit...   \n",
       "1  delhi techie wins free food from swiggy for on...   \n",
       "2  new zealand end rohit sharma led india match w...   \n",
       "3  aegon life iterm insurance plan helps customer...   \n",
       "5  rahat fateh ali khan denies getting notice for...   \n",
       "\n",
       "                                                text  \\\n",
       "0  saurav kant alumnus upgrad iiit pg program mac...   \n",
       "1  kunal shah credit card bill payment platform c...   \n",
       "2  new zealand defeated india wickets fourth odi ...   \n",
       "3  aegon life iterm insurance plan customers enjo...   \n",
       "5  pakistani singer rahat fateh ali khan denied r...   \n",
       "\n",
       "                                       decoder_input  \\\n",
       "0  sostoken upgrad learner switches to career in ...   \n",
       "1  sostoken delhi techie wins free food from swig...   \n",
       "2  sostoken new zealand end rohit sharma led indi...   \n",
       "3  sostoken aegon life iterm insurance plan helps...   \n",
       "5  sostoken rahat fateh ali khan denies getting n...   \n",
       "\n",
       "                                      decoder_target  \n",
       "0  upgrad learner switches to career in ml al wit...  \n",
       "1  delhi techie wins free food from swiggy for on...  \n",
       "2  new zealand end rohit sharma led india match w...  \n",
       "3  aegon life iterm insurance plan helps customer...  \n",
       "5  rahat fateh ali khan denies getting notice for...  "
      ]
     },
     "execution_count": 19,
     "metadata": {},
     "output_type": "execute_result"
    }
   ],
   "source": [
    "#시작토큰 sostoken, 종료토큰 eostoken으로 명명. 이후 각각 앞 뒤로 추가\n",
    "#시작토큰이 맨 앞에있는 문장을 decoder_input, 종료토큰이 맨 뒤에있는 문장을 decoder_target 으로 둠\n",
    "#두 문장 모두 headlines를 이용하여 만듬\n",
    "data['decoder_input'] = data['headlines'].apply(lambda x : 'sostoken '+ x)\n",
    "data['decoder_target'] = data['headlines'].apply(lambda x : x + ' eostoken')\n",
    "data.head()"
   ]
  },
  {
   "cell_type": "code",
   "execution_count": 20,
   "id": "f15c1d9c",
   "metadata": {},
   "outputs": [],
   "source": [
    "#인코더입력, 디코더입력, 디코더라벨 넘파이타입으로 저장\n",
    "encoder_input = np.array(data['text']) # 인코더의 입력\n",
    "decoder_input = np.array(data['decoder_input']) # 디코더의 입력\n",
    "decoder_target = np.array(data['decoder_target']) # 디코더의 레이블"
   ]
  },
  {
   "cell_type": "code",
   "execution_count": 21,
   "id": "cf08f7d3",
   "metadata": {},
   "outputs": [
    {
     "name": "stdout",
     "output_type": "stream",
     "text": [
      "[35496 17158 41441 ... 66929 88610 52008]\n"
     ]
    }
   ],
   "source": [
    "#encoder_input과 크기와 형태가 같은 순서가 섞인 정수 시퀀스 생성\n",
    "indices = np.arange(encoder_input.shape[0])\n",
    "np.random.shuffle(indices)\n",
    "print(indices)"
   ]
  },
  {
   "cell_type": "code",
   "execution_count": 22,
   "id": "55f6daf2",
   "metadata": {},
   "outputs": [],
   "source": [
    "#위에서 생성한 정수 시퀀스를 이용해 샘플순서를 정의하기. 잘 섞인 샘플이 된다면 성공\n",
    "encoder_input = encoder_input[indices]\n",
    "decoder_input = decoder_input[indices]\n",
    "decoder_target = decoder_target[indices]"
   ]
  },
  {
   "cell_type": "code",
   "execution_count": 23,
   "id": "83fdac44",
   "metadata": {},
   "outputs": [
    {
     "name": "stdout",
     "output_type": "stream",
     "text": [
      "테스트 데이터의 수 : 19417\n"
     ]
    }
   ],
   "source": [
    "#전체의 20%를 테스트 데이터 수로 만들기\n",
    "n_of_val = int(len(encoder_input)*0.2)\n",
    "print('테스트 데이터의 수 :', n_of_val)"
   ]
  },
  {
   "cell_type": "code",
   "execution_count": 24,
   "id": "cdb82371",
   "metadata": {},
   "outputs": [
    {
     "name": "stdout",
     "output_type": "stream",
     "text": [
      "훈련 데이터의 개수 : 77669\n",
      "훈련 레이블의 개수 : 77669\n",
      "테스트 데이터의 개수 : 19417\n",
      "테스트 레이블의 개수 : 19417\n"
     ]
    }
   ],
   "source": [
    "encoder_input_train = encoder_input[:-n_of_val]\n",
    "decoder_input_train = decoder_input[:-n_of_val]\n",
    "decoder_target_train = decoder_target[:-n_of_val]\n",
    "\n",
    "encoder_input_test = encoder_input[-n_of_val:]\n",
    "decoder_input_test = decoder_input[-n_of_val:]\n",
    "decoder_target_test = decoder_target[-n_of_val:]\n",
    "\n",
    "print('훈련 데이터의 개수 :', len(encoder_input_train))\n",
    "print('훈련 레이블의 개수 :', len(decoder_input_train))\n",
    "print('테스트 데이터의 개수 :', len(encoder_input_test))\n",
    "print('테스트 레이블의 개수 :', len(decoder_input_test))"
   ]
  },
  {
   "cell_type": "code",
   "execution_count": 25,
   "id": "4f3d89c5",
   "metadata": {},
   "outputs": [],
   "source": [
    "#훈련, 테스트 데이터를 정수로 바꿈 => 컴퓨터가 숫자로 텍스트를 처리하기위함\n",
    "src_tokenizer = Tokenizer()\n",
    "src_tokenizer.fit_on_texts(encoder_input_train) # encoder_input_train에 대한 단어 집합 생성"
   ]
  },
  {
   "cell_type": "code",
   "execution_count": 26,
   "id": "0c607735",
   "metadata": {},
   "outputs": [
    {
     "name": "stdout",
     "output_type": "stream",
     "text": [
      "단어 집합(vocabulary)의 크기 : 69230\n",
      "등장 빈도가 6번 이하인 희귀 단어의 수: 47149\n",
      "단어 집합에서 희귀 단어를 제외시킬 경우의 단어 집합의 크기 22081\n",
      "단어 집합에서 희귀 단어의 비율: 68.1048678318648\n",
      "전체 등장 빈도에서 희귀 단어 등장 빈도 비율: 3.5074913462635338\n"
     ]
    }
   ],
   "source": [
    "#등장 빈도에따라 데이터의 비중확인\n",
    "threshold = 7\n",
    "total_cnt = len(src_tokenizer.word_index) # 단어의 수\n",
    "rare_cnt = 0 # 등장 빈도수가 threshold보다 작은 단어의 개수를 카운트\n",
    "total_freq = 0 # 훈련 데이터의 전체 단어 빈도수 총 합\n",
    "rare_freq = 0 # 등장 빈도수가 threshold보다 작은 단어의 등장 빈도수의 총 합\n",
    "\n",
    "# 단어와 빈도수의 쌍(pair)을 key와 value로 받음\n",
    "for key, value in src_tokenizer.word_counts.items():\n",
    "    total_freq = total_freq + value\n",
    "\n",
    "    # 단어의 등장 빈도수가 threshold보다 작으면\n",
    "    if(value < threshold):\n",
    "        rare_cnt = rare_cnt + 1\n",
    "        rare_freq = rare_freq + value\n",
    "\n",
    "print('단어 집합(vocabulary)의 크기 :', total_cnt)\n",
    "print('등장 빈도가 %s번 이하인 희귀 단어의 수: %s'%(threshold - 1, rare_cnt))\n",
    "print('단어 집합에서 희귀 단어를 제외시킬 경우의 단어 집합의 크기 %s'%(total_cnt - rare_cnt))\n",
    "print(\"단어 집합에서 희귀 단어의 비율:\", (rare_cnt / total_cnt)*100)\n",
    "print(\"전체 등장 빈도에서 희귀 단어 등장 빈도 비율:\", (rare_freq / total_freq)*100)"
   ]
  },
  {
   "cell_type": "markdown",
   "id": "c4152421",
   "metadata": {},
   "source": [
    "6번 이하로 등장하는 단어의 수는 47,149, 68%차지, 훈련데이터에서는 3.5%정도만을 차지>>> 6회 이하 단어들은 정수 인코딩과정에서 제외"
   ]
  },
  {
   "cell_type": "code",
   "execution_count": 27,
   "id": "39540d21",
   "metadata": {},
   "outputs": [],
   "source": [
    "#집합의 크기- 빈도6번이하 = 대략 22000\n",
    "src_vocab = 22000\n",
    "src_tokenizer = Tokenizer(num_words=src_vocab) # 단어 집합의 크기를 22,000으로 제한\n",
    "src_tokenizer.fit_on_texts(encoder_input_train) # 단어 집합 재생성"
   ]
  },
  {
   "cell_type": "code",
   "execution_count": 28,
   "id": "bd76c449",
   "metadata": {},
   "outputs": [
    {
     "name": "stdout",
     "output_type": "stream",
     "text": [
      "[[50, 237, 713, 72, 1, 23, 34, 2029, 384, 7385, 274, 1071, 1859, 2, 4, 81, 3, 13, 203, 266, 335, 1437, 2655, 559, 5012, 926, 40, 926, 3026, 7386, 418, 95, 1495, 3635, 2174, 1, 683, 266, 335, 113], [1700, 644, 1, 128, 3, 13, 265, 7490, 1630, 4254, 114, 2893, 877, 1835, 340, 668, 409, 10014, 2911, 5837, 563, 12881, 855, 4254, 10, 4, 1700, 4191, 166, 1995, 1359, 644, 2448, 7490, 6072], [25, 1329, 1051, 644, 2139, 136, 568, 171, 14, 451, 12, 877, 554, 6656, 24, 644, 3448, 3, 13, 226, 3, 13, 203, 422, 2139, 241, 5837, 1496, 214, 6657, 5237, 14, 399, 220, 115]]\n"
     ]
    }
   ],
   "source": [
    "# 텍스트 시퀀스를 정수 시퀀스로 변환\n",
    "encoder_input_train = src_tokenizer.texts_to_sequences(encoder_input_train) \n",
    "encoder_input_test = src_tokenizer.texts_to_sequences(encoder_input_test)\n",
    "\n",
    "# 샘플 출력\n",
    "print(encoder_input_train[:3])"
   ]
  },
  {
   "cell_type": "markdown",
   "id": "2a9eb97a",
   "metadata": {},
   "source": [
    "정수 출력 확인"
   ]
  },
  {
   "cell_type": "code",
   "execution_count": 29,
   "id": "b1c801b1",
   "metadata": {},
   "outputs": [],
   "source": [
    "#headlines에 대해서도 같은 방법 실행\n",
    "tar_tokenizer = Tokenizer()\n",
    "tar_tokenizer.fit_on_texts(decoder_input_train)"
   ]
  },
  {
   "cell_type": "code",
   "execution_count": 30,
   "id": "719df2c2",
   "metadata": {},
   "outputs": [
    {
     "name": "stdout",
     "output_type": "stream",
     "text": [
      "단어 집합(vocabulary)의 크기 : 30046\n",
      "등장 빈도가 5번 이하인 희귀 단어의 수: 19705\n",
      "단어 집합에서 희귀 단어를 제외시킬 경우의 단어 집합의 크기 10341\n",
      "단어 집합에서 희귀 단어의 비율: 65.58277308127538\n",
      "전체 등장 빈도에서 희귀 단어 등장 빈도 비율: 4.723381718419382\n"
     ]
    }
   ],
   "source": [
    "#빈도수 6회미만 단어들이 차지하는 비중 확인\n",
    "threshold = 6\n",
    "total_cnt = len(tar_tokenizer.word_index) # 단어의 수\n",
    "rare_cnt = 0 # 등장 빈도수가 threshold보다 작은 단어의 개수를 카운트\n",
    "total_freq = 0 # 훈련 데이터의 전체 단어 빈도수 총 합\n",
    "rare_freq = 0 # 등장 빈도수가 threshold보다 작은 단어의 등장 빈도수의 총 합\n",
    "\n",
    "# 단어와 빈도수의 쌍(pair)을 key와 value로 받음\n",
    "for key, value in tar_tokenizer.word_counts.items():\n",
    "    total_freq = total_freq + value\n",
    "\n",
    "    # 단어의 등장 빈도수가 threshold보다 작으면\n",
    "    if(value < threshold):\n",
    "        rare_cnt = rare_cnt + 1\n",
    "        rare_freq = rare_freq + value\n",
    "\n",
    "print('단어 집합(vocabulary)의 크기 :', total_cnt)\n",
    "print('등장 빈도가 %s번 이하인 희귀 단어의 수: %s'%(threshold - 1, rare_cnt))\n",
    "print('단어 집합에서 희귀 단어를 제외시킬 경우의 단어 집합의 크기 %s'%(total_cnt - rare_cnt))\n",
    "print(\"단어 집합에서 희귀 단어의 비율:\", (rare_cnt / total_cnt)*100)\n",
    "print(\"전체 등장 빈도에서 희귀 단어 등장 빈도 비율:\", (rare_freq / total_freq)*100)"
   ]
  },
  {
   "cell_type": "markdown",
   "id": "1646ec45",
   "metadata": {},
   "source": [
    "등장빈도 5회이하단어 = 전체에서 약 77%차지\n",
    "훈련데이터에서는 4.7%로 낮은 비율이므로 등장횟수 5회이하는 제거"
   ]
  },
  {
   "cell_type": "code",
   "execution_count": 31,
   "id": "d62aad16",
   "metadata": {},
   "outputs": [
    {
     "name": "stdout",
     "output_type": "stream",
     "text": [
      "input\n",
      "input  [[1, 232, 100, 52, 131, 4833, 3, 188, 1589, 1039, 5, 8, 333], [1, 5385, 260, 11, 3561, 429, 19, 13, 5012, 211, 1359], [1, 35, 568, 6, 279, 1040, 405, 11, 53, 269], [1, 4367, 1764, 2767, 10, 168, 3015, 382, 542], [1, 119, 861, 3764, 4834, 119, 80, 1530, 861, 201, 25, 76]]\n",
      "target\n",
      "decoder  [[232, 100, 52, 131, 4833, 3, 188, 1589, 1039, 5, 8, 333, 2], [5385, 260, 11, 3561, 429, 19, 13, 5012, 211, 1359, 2], [35, 568, 6, 279, 1040, 405, 11, 53, 269, 2], [4367, 1764, 2767, 10, 168, 3015, 382, 542, 2], [119, 861, 3764, 4834, 119, 80, 1530, 861, 201, 25, 76, 2]]\n"
     ]
    }
   ],
   "source": [
    "#단어집합 - 등장빈도5회이하 = 약 11000\n",
    "tar_vocab = 11000\n",
    "tar_tokenizer = Tokenizer(num_words=tar_vocab) \n",
    "tar_tokenizer.fit_on_texts(decoder_input_train)\n",
    "tar_tokenizer.fit_on_texts(decoder_target_train)\n",
    "\n",
    "# 텍스트 시퀀스를 정수 시퀀스로 변환\n",
    "decoder_input_train = tar_tokenizer.texts_to_sequences(decoder_input_train) \n",
    "decoder_target_train = tar_tokenizer.texts_to_sequences(decoder_target_train)\n",
    "decoder_input_test = tar_tokenizer.texts_to_sequences(decoder_input_test)\n",
    "decoder_target_test = tar_tokenizer.texts_to_sequences(decoder_target_test)\n",
    "\n",
    "# 잘 변환되었는지 확인\n",
    "print('input')\n",
    "print('input ',decoder_input_train[:5])\n",
    "print('target')\n",
    "print('decoder ',decoder_target_train[:5])"
   ]
  },
  {
   "cell_type": "code",
   "execution_count": 32,
   "id": "37b24ff1",
   "metadata": {},
   "outputs": [
    {
     "name": "stdout",
     "output_type": "stream",
     "text": [
      "삭제할 훈련 데이터의 개수 : 0\n",
      "삭제할 테스트 데이터의 개수 : 0\n",
      "훈련 데이터의 개수 : 77669\n",
      "훈련 레이블의 개수 : 77669\n",
      "테스트 데이터의 개수 : 19417\n",
      "테스트 레이블의 개수 : 19417\n"
     ]
    }
   ],
   "source": [
    "#길이가 0인 샘플들을 가져옴. sos, eos의 토큰은 모든 문장에 들어가기 때문에 단어에서 삭제되지 않았을 것임\n",
    "#eos, sos 모두 한 단어가 되므로 길이가 0이 아닌 1로 지정함\n",
    "drop_train = [index for index, sentence in enumerate(decoder_input_train) if len(sentence) == 1]\n",
    "drop_test = [index for index, sentence in enumerate(decoder_input_test) if len(sentence) == 1]\n",
    "\n",
    "print('삭제할 훈련 데이터의 개수 :', len(drop_train))\n",
    "print('삭제할 테스트 데이터의 개수 :', len(drop_test))\n",
    "\n",
    "encoder_input_train = [sentence for index, sentence in enumerate(encoder_input_train) if index not in drop_train]\n",
    "decoder_input_train = [sentence for index, sentence in enumerate(decoder_input_train) if index not in drop_train]\n",
    "decoder_target_train = [sentence for index, sentence in enumerate(decoder_target_train) if index not in drop_train]\n",
    "\n",
    "encoder_input_test = [sentence for index, sentence in enumerate(encoder_input_test) if index not in drop_test]\n",
    "decoder_input_test = [sentence for index, sentence in enumerate(decoder_input_test) if index not in drop_test]\n",
    "decoder_target_test = [sentence for index, sentence in enumerate(decoder_target_test) if index not in drop_test]\n",
    "\n",
    "print('훈련 데이터의 개수 :', len(encoder_input_train))\n",
    "print('훈련 레이블의 개수 :', len(decoder_input_train))\n",
    "print('테스트 데이터의 개수 :', len(encoder_input_test))\n",
    "print('테스트 레이블의 개수 :', len(decoder_input_test))"
   ]
  },
  {
   "cell_type": "markdown",
   "id": "a580f098",
   "metadata": {},
   "source": [
    "삭제된 데이터의 개수가 0개로 나왔다. 아마 너무 넓은 범위를 지정한 것이 원인인 것 같다."
   ]
  },
  {
   "cell_type": "code",
   "execution_count": 34,
   "id": "a731bd8b",
   "metadata": {},
   "outputs": [],
   "source": [
    "#패딩과정\n",
    "encoder_input_train = pad_sequences(encoder_input_train, maxlen=text_max_len, padding='post')\n",
    "encoder_input_test = pad_sequences(encoder_input_test, maxlen=text_max_len, padding='post')\n",
    "decoder_input_train = pad_sequences(decoder_input_train, maxlen=headlines_max_len, padding='post')\n",
    "decoder_target_train = pad_sequences(decoder_target_train, maxlen=headlines_max_len, padding='post')\n",
    "decoder_input_test = pad_sequences(decoder_input_test, maxlen=headlines_max_len, padding='post')\n",
    "decoder_target_test = pad_sequences(decoder_target_test, maxlen=headlines_max_len, padding='post')"
   ]
  },
  {
   "cell_type": "markdown",
   "id": "b70dc3ba",
   "metadata": {},
   "source": [
    "# 모델 설계"
   ]
  },
  {
   "cell_type": "code",
   "execution_count": 35,
   "id": "acbd225c",
   "metadata": {},
   "outputs": [
    {
     "name": "stdout",
     "output_type": "stream",
     "text": [
      "WARNING:tensorflow:Layer lstm will not use cuDNN kernels since it doesn't meet the criteria. It will use a generic GPU kernel as fallback when running on GPU.\n",
      "WARNING:tensorflow:Layer lstm_1 will not use cuDNN kernels since it doesn't meet the criteria. It will use a generic GPU kernel as fallback when running on GPU.\n",
      "WARNING:tensorflow:Layer lstm_2 will not use cuDNN kernels since it doesn't meet the criteria. It will use a generic GPU kernel as fallback when running on GPU.\n"
     ]
    }
   ],
   "source": [
    "from tensorflow.keras.layers import Input, LSTM, Embedding, Dense, Concatenate, TimeDistributed\n",
    "from tensorflow.keras.models import Model\n",
    "from tensorflow.keras.callbacks import EarlyStopping, ModelCheckpoint\n",
    "\n",
    "\n",
    "# 인코더 설계 시작\n",
    "embedding_dim = 128\n",
    "hidden_size = 256\n",
    "\n",
    "# 인코더\n",
    "encoder_inputs = Input(shape=(text_max_len,))\n",
    "\n",
    "# 인코더의 임베딩 층\n",
    "enc_emb = Embedding(src_vocab, embedding_dim)(encoder_inputs)\n",
    "\n",
    "# 인코더의 LSTM 1\n",
    "encoder_lstm1 = LSTM(hidden_size, return_sequences=True, return_state=True ,dropout = 0.4, recurrent_dropout = 0.4)\n",
    "encoder_output1, state_h1, state_c1 = encoder_lstm1(enc_emb)\n",
    "\n",
    "# 인코더의 LSTM 2\n",
    "encoder_lstm2 = LSTM(hidden_size, return_sequences=True, return_state=True, dropout=0.4, recurrent_dropout=0.4)\n",
    "encoder_output2, state_h2, state_c2 = encoder_lstm2(encoder_output1)\n",
    "\n",
    "# 인코더의 LSTM 3\n",
    "encoder_lstm3 = LSTM(hidden_size, return_state=True, return_sequences=True, dropout=0.4, recurrent_dropout=0.4)\n",
    "encoder_outputs, state_h, state_c= encoder_lstm3(encoder_output2)"
   ]
  },
  {
   "cell_type": "markdown",
   "id": "4d7d7a1a",
   "metadata": {},
   "source": [
    "위에서 뜨는 메시지는 recurrent dropout을 사용할 시 cuDNN을 사용할 수 없기 때문에recurrent dropout을 사용하지 않을 때보다 학습 시간이 오래 걸린다는 메시지"
   ]
  },
  {
   "cell_type": "code",
   "execution_count": 36,
   "id": "066817c2",
   "metadata": {},
   "outputs": [
    {
     "name": "stdout",
     "output_type": "stream",
     "text": [
      "WARNING:tensorflow:Layer lstm_3 will not use cuDNN kernels since it doesn't meet the criteria. It will use a generic GPU kernel as fallback when running on GPU.\n"
     ]
    }
   ],
   "source": [
    "# 디코더 설계\n",
    "decoder_inputs = Input(shape=(None,))\n",
    "\n",
    "# 디코더의 임베딩 층\n",
    "dec_emb_layer = Embedding(tar_vocab, embedding_dim)\n",
    "dec_emb = dec_emb_layer(decoder_inputs)\n",
    "\n",
    "# 디코더의 LSTM\n",
    "decoder_lstm = LSTM(hidden_size, return_sequences=True, return_state=True, dropout=0.4, recurrent_dropout=0.2)\n",
    "decoder_outputs, _, _ = decoder_lstm(dec_emb, initial_state=[state_h, state_c])"
   ]
  },
  {
   "cell_type": "code",
   "execution_count": 37,
   "id": "596a008c",
   "metadata": {},
   "outputs": [
    {
     "name": "stdout",
     "output_type": "stream",
     "text": [
      "Model: \"model\"\n",
      "__________________________________________________________________________________________________\n",
      "Layer (type)                    Output Shape         Param #     Connected to                     \n",
      "==================================================================================================\n",
      "input_1 (InputLayer)            [(None, 60)]         0                                            \n",
      "__________________________________________________________________________________________________\n",
      "embedding (Embedding)           (None, 60, 128)      2816000     input_1[0][0]                    \n",
      "__________________________________________________________________________________________________\n",
      "lstm (LSTM)                     [(None, 60, 256), (N 394240      embedding[0][0]                  \n",
      "__________________________________________________________________________________________________\n",
      "input_2 (InputLayer)            [(None, None)]       0                                            \n",
      "__________________________________________________________________________________________________\n",
      "lstm_1 (LSTM)                   [(None, 60, 256), (N 525312      lstm[0][0]                       \n",
      "__________________________________________________________________________________________________\n",
      "embedding_1 (Embedding)         (None, None, 128)    1408000     input_2[0][0]                    \n",
      "__________________________________________________________________________________________________\n",
      "lstm_2 (LSTM)                   [(None, 60, 256), (N 525312      lstm_1[0][0]                     \n",
      "__________________________________________________________________________________________________\n",
      "lstm_3 (LSTM)                   [(None, None, 256),  394240      embedding_1[0][0]                \n",
      "                                                                 lstm_2[0][1]                     \n",
      "                                                                 lstm_2[0][2]                     \n",
      "__________________________________________________________________________________________________\n",
      "dense (Dense)                   (None, None, 11000)  2827000     lstm_3[0][0]                     \n",
      "==================================================================================================\n",
      "Total params: 8,890,104\n",
      "Trainable params: 8,890,104\n",
      "Non-trainable params: 0\n",
      "__________________________________________________________________________________________________\n"
     ]
    }
   ],
   "source": [
    "# 디코더의 출력층\n",
    "decoder_softmax_layer = Dense(tar_vocab, activation='softmax')\n",
    "decoder_softmax_outputs = decoder_softmax_layer(decoder_outputs) \n",
    "\n",
    "# 모델 정의\n",
    "model = Model([encoder_inputs, decoder_inputs], decoder_softmax_outputs)\n",
    "model.summary()"
   ]
  },
  {
   "cell_type": "markdown",
   "id": "89e380aa",
   "metadata": {},
   "source": [
    "### 어텐션 메커니즘 - 디코더의 출력층 설계를 바꿈으로써 성능을 높일 수 있는 방법"
   ]
  },
  {
   "cell_type": "code",
   "execution_count": 38,
   "id": "4f2510d2",
   "metadata": {},
   "outputs": [
    {
     "name": "stdout",
     "output_type": "stream",
     "text": [
      "Model: \"model_1\"\n",
      "__________________________________________________________________________________________________\n",
      "Layer (type)                    Output Shape         Param #     Connected to                     \n",
      "==================================================================================================\n",
      "input_1 (InputLayer)            [(None, 60)]         0                                            \n",
      "__________________________________________________________________________________________________\n",
      "embedding (Embedding)           (None, 60, 128)      2816000     input_1[0][0]                    \n",
      "__________________________________________________________________________________________________\n",
      "lstm (LSTM)                     [(None, 60, 256), (N 394240      embedding[0][0]                  \n",
      "__________________________________________________________________________________________________\n",
      "input_2 (InputLayer)            [(None, None)]       0                                            \n",
      "__________________________________________________________________________________________________\n",
      "lstm_1 (LSTM)                   [(None, 60, 256), (N 525312      lstm[0][0]                       \n",
      "__________________________________________________________________________________________________\n",
      "embedding_1 (Embedding)         (None, None, 128)    1408000     input_2[0][0]                    \n",
      "__________________________________________________________________________________________________\n",
      "lstm_2 (LSTM)                   [(None, 60, 256), (N 525312      lstm_1[0][0]                     \n",
      "__________________________________________________________________________________________________\n",
      "lstm_3 (LSTM)                   [(None, None, 256),  394240      embedding_1[0][0]                \n",
      "                                                                 lstm_2[0][1]                     \n",
      "                                                                 lstm_2[0][2]                     \n",
      "__________________________________________________________________________________________________\n",
      "attention_layer (AdditiveAttent (None, None, 256)    256         lstm_3[0][0]                     \n",
      "                                                                 lstm_2[0][0]                     \n",
      "__________________________________________________________________________________________________\n",
      "concat_layer (Concatenate)      (None, None, 512)    0           lstm_3[0][0]                     \n",
      "                                                                 attention_layer[0][0]            \n",
      "__________________________________________________________________________________________________\n",
      "dense_1 (Dense)                 (None, None, 11000)  5643000     concat_layer[0][0]               \n",
      "==================================================================================================\n",
      "Total params: 11,706,360\n",
      "Trainable params: 11,706,360\n",
      "Non-trainable params: 0\n",
      "__________________________________________________________________________________________________\n"
     ]
    }
   ],
   "source": [
    "#바다나우 스타일 어텐션 사용\n",
    "from tensorflow.keras.layers import AdditiveAttention\n",
    "\n",
    "# 어텐션 층(어텐션 함수)\n",
    "attn_layer = AdditiveAttention(name='attention_layer')\n",
    "\n",
    "# 인코더와 디코더의 모든 time step의 hidden state를 어텐션 층에 전달하고 결과를 리턴\n",
    "attn_out = attn_layer([decoder_outputs, encoder_outputs])\n",
    "\n",
    "\n",
    "# 어텐션의 결과와 디코더의 hidden state들을 연결\n",
    "decoder_concat_input = Concatenate(axis=-1, name='concat_layer')([decoder_outputs, attn_out])\n",
    "\n",
    "# 디코더의 출력층\n",
    "decoder_softmax_layer = Dense(tar_vocab, activation='softmax')\n",
    "decoder_softmax_outputs = decoder_softmax_layer(decoder_concat_input)\n",
    "\n",
    "# 모델 정의\n",
    "model = Model([encoder_inputs, decoder_inputs], decoder_softmax_outputs)\n",
    "model.summary()"
   ]
  },
  {
   "cell_type": "code",
   "execution_count": 39,
   "id": "adf5ada3",
   "metadata": {},
   "outputs": [
    {
     "name": "stdout",
     "output_type": "stream",
     "text": [
      "Epoch 1/50\n",
      "304/304 [==============================] - 269s 832ms/step - loss: 5.6925 - val_loss: 5.2331\n",
      "Epoch 2/50\n",
      "304/304 [==============================] - 253s 831ms/step - loss: 5.0957 - val_loss: 4.8777\n",
      "Epoch 3/50\n",
      "304/304 [==============================] - 248s 816ms/step - loss: 4.7633 - val_loss: 4.5996\n",
      "Epoch 4/50\n",
      "304/304 [==============================] - 247s 812ms/step - loss: 4.5122 - val_loss: 4.4185\n",
      "Epoch 5/50\n",
      "304/304 [==============================] - 249s 819ms/step - loss: 4.3138 - val_loss: 4.2805\n",
      "Epoch 6/50\n",
      "304/304 [==============================] - 248s 817ms/step - loss: 4.1478 - val_loss: 4.1734\n",
      "Epoch 7/50\n",
      "304/304 [==============================] - 245s 806ms/step - loss: 4.0044 - val_loss: 4.1014\n",
      "Epoch 8/50\n",
      "304/304 [==============================] - 249s 820ms/step - loss: 3.8831 - val_loss: 4.0158\n",
      "Epoch 9/50\n",
      "304/304 [==============================] - 247s 812ms/step - loss: 3.7727 - val_loss: 3.9632\n",
      "Epoch 10/50\n",
      "304/304 [==============================] - 248s 815ms/step - loss: 3.6732 - val_loss: 3.9111\n",
      "Epoch 11/50\n",
      "304/304 [==============================] - 250s 824ms/step - loss: 3.5878 - val_loss: 3.8710\n",
      "Epoch 12/50\n",
      "304/304 [==============================] - 250s 821ms/step - loss: 3.5089 - val_loss: 3.8297\n",
      "Epoch 13/50\n",
      "304/304 [==============================] - 248s 816ms/step - loss: 3.4363 - val_loss: 3.7960\n",
      "Epoch 14/50\n",
      "304/304 [==============================] - 248s 816ms/step - loss: 3.3711 - val_loss: 3.7739\n",
      "Epoch 15/50\n",
      "304/304 [==============================] - 248s 816ms/step - loss: 3.3118 - val_loss: 3.7516\n",
      "Epoch 16/50\n",
      "304/304 [==============================] - 248s 816ms/step - loss: 3.2573 - val_loss: 3.7492\n",
      "Epoch 17/50\n",
      "304/304 [==============================] - 247s 813ms/step - loss: 3.2043 - val_loss: 3.7219\n",
      "Epoch 18/50\n",
      "304/304 [==============================] - 248s 815ms/step - loss: 3.1563 - val_loss: 3.7148\n",
      "Epoch 19/50\n",
      "304/304 [==============================] - 248s 814ms/step - loss: 3.1092 - val_loss: 3.6945\n",
      "Epoch 20/50\n",
      "304/304 [==============================] - 246s 808ms/step - loss: 3.0633 - val_loss: 3.6855\n",
      "Epoch 21/50\n",
      "304/304 [==============================] - 246s 808ms/step - loss: 3.0187 - val_loss: 3.6719\n",
      "Epoch 22/50\n",
      "304/304 [==============================] - 248s 816ms/step - loss: 2.9777 - val_loss: 3.6663\n",
      "Epoch 23/50\n",
      "304/304 [==============================] - 247s 812ms/step - loss: 2.9417 - val_loss: 3.6558\n",
      "Epoch 24/50\n",
      "304/304 [==============================] - 249s 820ms/step - loss: 2.9073 - val_loss: 3.6496\n",
      "Epoch 25/50\n",
      "304/304 [==============================] - 246s 809ms/step - loss: 2.8726 - val_loss: 3.6446\n",
      "Epoch 26/50\n",
      "304/304 [==============================] - 248s 815ms/step - loss: 2.8408 - val_loss: 3.6458\n",
      "Epoch 27/50\n",
      "304/304 [==============================] - 245s 805ms/step - loss: 2.8108 - val_loss: 3.6440\n",
      "Epoch 28/50\n",
      "304/304 [==============================] - 247s 814ms/step - loss: 2.7790 - val_loss: 3.6547\n",
      "Epoch 29/50\n",
      "304/304 [==============================] - 247s 812ms/step - loss: 2.7477 - val_loss: 3.6579\n",
      "Epoch 00029: early stopping\n"
     ]
    }
   ],
   "source": [
    "#모델 훈련\n",
    "model.compile(optimizer='rmsprop', loss='sparse_categorical_crossentropy')\n",
    "es = EarlyStopping(monitor='val_loss', patience=2, verbose=1)\n",
    "history = model.fit(x=[encoder_input_train, decoder_input_train], y=decoder_target_train, \\\n",
    "          validation_data=([encoder_input_test, decoder_input_test], decoder_target_test), \\\n",
    "          batch_size=256, callbacks=[es], epochs=50)"
   ]
  },
  {
   "cell_type": "markdown",
   "id": "4d8ee9e6",
   "metadata": {},
   "source": [
    "EarlyStopping메서드를 사용하여 patience=2 >>> loss가 증가하는 상황이 2이상 발생시 종료"
   ]
  },
  {
   "cell_type": "code",
   "execution_count": 40,
   "id": "9d0b0656",
   "metadata": {},
   "outputs": [
    {
     "data": {
      "image/png": "[encoded data removed]",
      "text/plain": [
       "<Figure size 432x288 with 1 Axes>"
      ]
     },
     "metadata": {
      "needs_background": "light"
     },
     "output_type": "display_data"
    }
   ],
   "source": [
    "#시각화\n",
    "plt.plot(history.history['loss'], label='train')\n",
    "plt.plot(history.history['val_loss'], label='test')\n",
    "plt.legend()\n",
    "plt.show()"
   ]
  },
  {
   "cell_type": "code",
   "execution_count": 41,
   "id": "8c947c23",
   "metadata": {},
   "outputs": [],
   "source": [
    "#테스트 종료 >>> 실제 데이터로 복원해야함\n",
    "src_index_to_word = src_tokenizer.index_word # 원문 단어 집합에서 정수 -> 단어를 얻음\n",
    "tar_word_to_index = tar_tokenizer.word_index # 헤드라인 단어 집합에서 단어 -> 정수를 얻음\n",
    "tar_index_to_word = tar_tokenizer.index_word # 헤드라인 단어 집합에서 정수 -> 단어를 얻음"
   ]
  },
  {
   "cell_type": "code",
   "execution_count": 42,
   "id": "6acccb7b",
   "metadata": {},
   "outputs": [],
   "source": [
    "# 인코더 설계\n",
    "encoder_model = Model(inputs=encoder_inputs, outputs=[encoder_outputs, state_h, state_c])\n",
    "\n",
    "# 이전 시점의 상태들을 저장하는 텐서\n",
    "decoder_state_input_h = Input(shape=(hidden_size,))\n",
    "decoder_state_input_c = Input(shape=(hidden_size,))\n",
    "\n",
    "dec_emb2 = dec_emb_layer(decoder_inputs)\n",
    "\n",
    "# 문장의 다음 단어를 예측하기 위해서 초기 상태(initial_state)를 이전 시점의 상태로 사용. 이는 뒤의 함수 decode_sequence()에 구현\n",
    "# 훈련 과정에서와 달리 LSTM의 리턴하는 은닉 상태와 셀 상태인 state_h와 state_c를 버리지 않음.\n",
    "decoder_outputs2, state_h2, state_c2 = decoder_lstm(dec_emb2, initial_state=[decoder_state_input_h, decoder_state_input_c])"
   ]
  },
  {
   "cell_type": "code",
   "execution_count": 43,
   "id": "85120495",
   "metadata": {},
   "outputs": [],
   "source": [
    "#어텐션 메커니즘을 사용하는 출력층 설계\n",
    "# 어텐션 함수\n",
    "decoder_hidden_state_input = Input(shape=(text_max_len, hidden_size))\n",
    "attn_out_inf = attn_layer([decoder_outputs2, decoder_hidden_state_input])\n",
    "decoder_inf_concat = Concatenate(axis=-1, name='concat')([decoder_outputs2, attn_out_inf])\n",
    "\n",
    "# 디코더의 출력층\n",
    "decoder_outputs2 = decoder_softmax_layer(decoder_inf_concat) \n",
    "\n",
    "# 최종 디코더 모델\n",
    "decoder_model = Model(\n",
    "    [decoder_inputs] + [decoder_hidden_state_input,decoder_state_input_h, decoder_state_input_c],\n",
    "    [decoder_outputs2] + [state_h2, state_c2])"
   ]
  },
  {
   "cell_type": "code",
   "execution_count": 48,
   "id": "ca743d9d",
   "metadata": {},
   "outputs": [],
   "source": [
    "#단어 시퀀스를 완성하는 함수\n",
    "def decode_sequence(input_seq):\n",
    "    # 입력으로부터 인코더의 상태를 얻음\n",
    "    e_out, e_h, e_c = encoder_model.predict(input_seq)\n",
    "\n",
    "     # <SOS>에 해당하는 토큰 생성\n",
    "    target_seq = np.zeros((1,1))\n",
    "    target_seq[0, 0] = tar_word_to_index['sostoken']\n",
    "\n",
    "    stop_condition = False\n",
    "    decoded_sentence = ''\n",
    "    while not stop_condition: # stop_condition이 True가 될 때까지 루프 반복\n",
    "\n",
    "        output_tokens, h, c = decoder_model.predict([target_seq] + [e_out, e_h, e_c])\n",
    "        sampled_token_index = np.argmax(output_tokens[0, -1, :])\n",
    "        sampled_token = tar_index_to_word[sampled_token_index]\n",
    "\n",
    "        if (sampled_token!='eostoken'):\n",
    "            decoded_sentence += ' '+sampled_token\n",
    "\n",
    "        #  <eos>에 도달하거나 최대 길이를 넘으면 중단.\n",
    "        if (sampled_token == 'eostoken'  or len(decoded_sentence.split()) >= (headlines_max_len-1)):\n",
    "            stop_condition = True\n",
    "\n",
    "        # 길이가 1인 타겟 시퀀스를 업데이트\n",
    "        target_seq = np.zeros((1,1))\n",
    "        target_seq[0, 0] = sampled_token_index\n",
    "\n",
    "        # 상태를 업데이트\n",
    "        e_h, e_c = h, c\n",
    "\n",
    "    return decoded_sentence"
   ]
  },
  {
   "cell_type": "markdown",
   "id": "cb3227c9",
   "metadata": {},
   "source": [
    "# 테스트하기 = 실제결과와 뉴스기사 차이 확인"
   ]
  },
  {
   "cell_type": "code",
   "execution_count": 49,
   "id": "f766b5fa",
   "metadata": {},
   "outputs": [],
   "source": [
    "# 원문의 정수 시퀀스를 텍스트 시퀀스로 변환\n",
    "def seq2text(input_seq):\n",
    "    temp=''\n",
    "    for i in input_seq:\n",
    "        if (i!=0):\n",
    "            temp = temp + src_index_to_word[i]+' '\n",
    "    return temp\n",
    "\n",
    "# 헤드라인 문의 정수 시퀀스를 텍스트 시퀀스로 변환\n",
    "def seq2summary(input_seq):\n",
    "    temp=''\n",
    "    for i in input_seq:\n",
    "        if ((i!=0 and i!=tar_word_to_index['sostoken']) and i!=tar_word_to_index['eostoken']):\n",
    "            temp = temp + tar_index_to_word[i] + ' '\n",
    "    return temp"
   ]
  },
  {
   "cell_type": "code",
   "execution_count": 50,
   "id": "6e2741ba",
   "metadata": {},
   "outputs": [
    {
     "name": "stdout",
     "output_type": "stream",
     "text": [
      "원문 : least three people killed others injured thursday suicide car bomber attacked police headquarters iran port city chabahar iranian state media said claim responsibility attack notably india developing chabahar port operate years following iran \n",
      "실제 헤드라인 : killed injured in suicide bombing in iran chabahar \n",
      "예측 헤드라인 :  killed injured in twin suicide attack in somalia\n",
      "\n",
      "\n",
      "원문 : warren buffett berkshire hathaway reported rare net loss billion march quarter marking first loss since due new accounting rule changes require berkshire report gains losses equity investments net income berkshire cash pile fell billion record billion last fiscal end \n",
      "실제 헤드라인 : buffett berkshire hathaway reports first loss in years \n",
      "예측 헤드라인 :  world richest person lose billion in day\n",
      "\n",
      "\n",
      "원문 : rbi tuesday said cautioned banks possible abuse swift messaging system least thrice since august pnb officials issued fake guarantees via swift overseas banks behalf nirav modi mehul choksi firms rbi also constituted expert committee curb rising incidence frauds banking system \n",
      "실제 헤드라인 : rbi had warned banks about tech misused in pnb scam \n",
      "예측 헤드라인 :  rbi asks rbi to probe rbi accounts on fraud\n",
      "\n",
      "\n",
      "원문 : actor ranveer singh said wants best family man possible adding also wants raise two children think make great dad added ranveer rumoured dating deepika padukone said believe one person another heart soul \n",
      "실제 헤드라인 : want to raise kids be the best family man ranveer singh \n",
      "예측 헤드라인 :  want to see my life ranveer on being planning to work\n",
      "\n",
      "\n",
      "원문 : motto indian air force nabha taken eleventh chapter bhagavad gita implies iaf aim adversaries aerospace power manner similar lord krishna showed divine form arjuna war kurukshetra \n",
      "실제 헤드라인 : indian air force is from th chapter of gita \n",
      "예측 헤드라인 :  iaf aircraft to be held in indonesia air force iaf chief\n",
      "\n",
      "\n",
      "원문 : north korea sunday warned us pushing peninsula tipping point nuclear war would lead another world war north korea described us world biggest comes us staged live fire drill show force north korea recent intercontinental ballistic missile test \n",
      "실제 헤드라인 : us can lead to another world war north korea \n",
      "예측 헤드라인 :  north korea threatens to us missile tests after trump\n",
      "\n",
      "\n",
      "원문 : bjp spokesperson sambit patra thursday claimed businessman robert vadra acting de facto president congress patra said press conference bjp asked rahul gandhi questions rafale based facts robert vadra offering explanation vadra brother law congress president rahul gandhi \n",
      "실제 헤드라인 : robert vadra acting as de congress president says bjp \n",
      "예측 헤드라인 :  bjp leaders quit bjp leaders to quit over rafale deal\n",
      "\n",
      "\n",
      "원문 : commerce ministry thursday said india plans export million tonnes raw sugar china next year indian sugar mills association chinese state owned company signed initial deal tonnes sugar ministry said move reduce billion trade deficit india china \n",
      "실제 헤드라인 : india to export million tonnes of sugar to china from next year \n",
      "예측 헤드라인 :  govt to build india own projects in china reports\n",
      "\n",
      "\n",
      "원문 : ian starred men lord rings series said actresses offered sleep directors roles revealed early director working showed photographs got aspiring actresses words directors rights respected bottom photos \n",
      "실제 헤드라인 : women offered to sleep with directors for roles \n",
      "예측 헤드라인 :  was once told to quit after being fired in\n",
      "\n",
      "\n",
      "원문 : virender sehwag trolled new zealand ross taylor tweet congratulating latter knock first odi calling ji sehwag joked taylor played great knock handling pressure diwali orders baar apna order time pe dena mai diwali ke pehle deliver taylor replied \n",
      "실제 헤드라인 : taylor trolls sehwag in hindi after being called ji \n",
      "예측 헤드라인 :  sehwag mocks rishabh pant for tweet on his own odi\n",
      "\n",
      "\n",
      "원문 : saudi arabia air defence forces successfully intercepted ballistic missile launched yemen based houthi rebels targeting holy city mecca saudi led coalition said statement coalition added missile shot kilometres away holy city said clearly desperate attempt disrupt haj season \n",
      "실제 헤드라인 : saudi arabia intercepts houthi missile targeting mecca \n",
      "예측 헤드라인 :  saudi arabia intercepts missile missiles\n",
      "\n",
      "\n",
      "원문 : budget speech finance minister arun jaitley revealed crore salaried individuals paid average tax added crore individual business taxpayers paid average pointed effective taxpayer base increased nearly crore crore \n",
      "실제 헤드라인 : people paid tax on avg biz people paid \n",
      "예측 헤드라인 :  crore tax collection of demonetisation fm jaitley\n",
      "\n",
      "\n",
      "원문 : narayana murthy co founder giant infosys commented recent reports companies sacking employees part cost cutting strategies saying sad earlier infosys announced could lay mid senior level employees bi annual performance review comes amid peers including wipro taking similar measures control costs \n",
      "실제 헤드라인 : it is sad says infosys narayana murthy about it layoffs \n",
      "예측 헤드라인 :  infosys board to hire murthy for infosys employees\n",
      "\n",
      "\n",
      "원문 : us based researchers found pacific marshall islands us conducted nuclear tests three islands bikini bombed existence team reported levels times higher waters compared surrounding ocean levels also twice normal \n",
      "실제 헤드라인 : detected from year old nuclear tests by us \n",
      "예측 헤드라인 :  us nuclear submarine found in years ago study\n",
      "\n",
      "\n",
      "원문 : punjab cm captain amarinder singh ordered inquiry alleged disappearance walker scotch bottles punjab state drug food chemical testing laboratory bottles deposited lab samples liquor seized state police incident came light raid carried following complaints irregularities lab \n",
      "실제 헤드라인 : walker bottles disappear from punjab govt lab \n",
      "예측 헤드라인 :  punjab cm orders to punjab cm for taking action\n",
      "\n",
      "\n",
      "원문 : kartik aaryan speaking five minute long pyaar ka punchnama said afraid make anti hero image among girls got lucky portrayed character became voice youngsters added kartik said feels great huge fan following guys girls \n",
      "실제 헤드라인 : thought girls would hate me after pyaar ka kartik \n",
      "예측 헤드라인 :  do not want to get the songs in my career tiger\n",
      "\n",
      "\n",
      "원문 : seen failure part police far extremely helpful said varnika kundu allegedly stalked haryana bjp chief son vikas barala whether win know raised awareness win may next one may one added \n",
      "실제 헤드라인 : no failure on part of police chandigarh stalking victim \n",
      "예측 헤드라인 :  bjp youth wing chief shows chandigarh stalking victim\n",
      "\n",
      "\n",
      "원문 : special investigation team probing murder journalist gauri lankesh tuesday arrested year old suspect total six suspects arrested murder occurred outside lankesh bengaluru residence september earlier accused case claimed asked arrange bullets another accused lankesh anti hindu \n",
      "실제 헤드라인 : police arrest th suspect in journo gauri murder case \n",
      "예측 헤드라인 :  gauri lankesh murder accused arrested in gauri lankesh murder\n",
      "\n",
      "\n",
      "원문 : iran appointed first female ceo lead national carrier iran air since airline inception forty four year old also holds phd aerospace engineering first woman head iran air years appointed president hassan rouhani administration chosen women lead several managerial posts \n",
      "실제 헤드라인 : iran appoints st female ceo of national carrier in history \n",
      "예측 헤드라인 :  iran ceo iran ceo pay for iran st time\n",
      "\n",
      "\n",
      "원문 : vietnam national university students spouses indian embassy staff sang yeh hum nahi president ram nath kovind wife kovind president vietnam part two nation tour indian community vietnam plays important part promoting bilateral ties creating opportunities local economy president kovind said \n",
      "실제 헤드라인 : vietnam students sing yeh hum nahi for prez kovind \n",
      "예측 헤드라인 :  ftii students president kovind visit to visit india oscars\n",
      "\n",
      "\n",
      "원문 : developer named matt posted video twitter shows controlling iphone eyes using apple augmented reality framework called shows looking button click press button commenting technology said improve lives people disabilities \n",
      "실제 헤드라인 : man posts video of him controlling an iphone with his eyes \n",
      "예측 헤드라인 :  iphone clip shows apple iphone using iphone\n",
      "\n",
      "\n",
      "원문 : us president donald trump tuesday said sent three world largest aircraft carriers nuclear submarine korean peninsula conduct exercise coming days show force comes trump landed south korea part day asia trip amid tensions north korea nuclear programme \n",
      "실제 헤드라인 : trump sends us warships near korea as he lands in korea \n",
      "예측 헤드라인 :  trump korea korea fires north korea\n",
      "\n",
      "\n",
      "원문 : us president donald trump retweeted meme former president barack obama user wrote anymore obsessed obama never level users wrote great thing eclipse last long rare orange man gone soon \n",
      "실제 헤드라인 : twitter reacts to trump anti obama eclipse \n",
      "예측 헤드라인 :  trump mocks obama for calling his most liked obama\n",
      "\n",
      "\n",
      "원문 : hindustan unilever filed cases almost one every week year prevent usage identical trademarks logos save brand hul reportedly accepted court settlements many cases also sought damages lakh notably indore based ice cream seller paid hul lakh damages selling brand \n",
      "실제 헤드라인 : hindustan unilever filed trademark case every week in \n",
      "예측 헤드라인 :  chrome to be held for selling data breach\n",
      "\n",
      "\n",
      "원문 : bjp mlas rajasthan thursday chanted jai shri ram house celebrate landslide victory party recently held uttar pradesh assembly polls started rajasthan minister rajendra rathore asked opposition congratulate party victory led verbal altercation bjp mlas opposition mlas \n",
      "실제 헤드라인 : bjp mlas chant jai shri ram in raj assembly over up win \n",
      "예측 헤드라인 :  bjp workers perform from hanuman office in up\n",
      "\n",
      "\n",
      "원문 : union power minister rk singh said central government considering providing subsidy buying electric vehicles december ministry issued guidelines setting charging infrastructure across country major corridors move came backdrop centre target achieving full electric mobility \n",
      "실제 헤드라인 : centre considering subsidy on electric vehicles rk singh \n",
      "예측 헤드라인 :  govt plans to scrap electric vehicles in india\n",
      "\n",
      "\n",
      "원문 : asia first upper arm double hand transplant conducted kochi based amrita institute medical sciences shreya year old student lost hands road mishap last year took surgeons member team hours complete transplantation meanwhile donor year old student declared brain dead \n",
      "실제 헤드라인 : asia first upper arm double hand transplant done in kerala \n",
      "예측 헤드라인 :  yr old djokovic scores from depression\n",
      "\n",
      "\n",
      "원문 : blaming indian security agencies journalist shujaat bukhari murder militant group ul mujahideen claimed killing time un human rights commission released report human rights abuses indian forces kashmir raises many questions meanwhile lashkar taiba said conspiracy indian agencies keen killing people vocal india atrocities \n",
      "실제 헤드라인 : hizbul let blame india for journo shujaat bukhari murder \n",
      "예측 헤드라인 :  osama bin laden killed in gauri lankesh murder report\n",
      "\n",
      "\n",
      "원문 : kerala health department said highly dangerous phase nipah virus outbreak reportedly one infected virus since may second phase likely take place may occurred health minister kk said vigilance disease continue till june \n",
      "실제 헤드라인 : highly dangerous phase of nipah outbreak over kerala govt \n",
      "예측 헤드라인 :  kerala to nipah virus after nipah virus\n",
      "\n",
      "\n",
      "원문 : bengaluru woman accused furniture startup firing channel claimed married another woman showing blurred pictures facebook profile allegedly told ousted hr knew making rounds media legal action wrongful termination initiated startup \n",
      "실제 헤드라인 : woman claims startup fired her on reports of lesbian wedding \n",
      "예측 헤드라인 :  woman accuses woman of luru woman gets love her for her\n",
      "\n",
      "\n",
      "원문 : delhi deputy cm manish sisodia friday told traders contact directly whatsapp number officer conducts raid tries extract money name festivals claiming let go said officers given instructions conduct raids traders offices residences till diwali \n",
      "실제 헤드라인 : whatsapp me if officers extract cash delhi dy cm to traders \n",
      "예측 헤드라인 :  delhi govt asks aap to stop kejriwal over corruption\n",
      "\n",
      "\n",
      "원문 : team india opener shikhar dhawan recent interview revealed takes home every thursday whenever visits wife aesha melbourne australia aesha revealed dhawan cooked fish daughters home returned whole house like fish dhawan got married aesha \n",
      "실제 헤드라인 : take out from home every in aus dhawan \n",
      "예측 헤드라인 :  dhawan shares video of him with his family\n",
      "\n",
      "\n",
      "원문 : england women cricket team player danielle wyatt called afghanistan rounder rashid khan latter scored ball afghanistan premier league rashid captaining kabul side tournament hit three fours five sixes innings rashid also hit ravi runs \n",
      "실제 헤드라인 : calls rashid after his ball \n",
      "예측 헤드라인 :  year old rashid khan gets hit by runs in australia\n",
      "\n",
      "\n",
      "원문 : five time congress mla haque saturday decided join tmc taking permission supporters public rally west bengal mla cited lack development area reason cannot explain anyone feeling decision quitting congress like quitting religion added \n",
      "실제 헤드라인 : cong mla takes supporters permission at rally to join tmc \n",
      "예측 헤드라인 :  bjp mla joins bjp mla for killing\n",
      "\n",
      "\n",
      "원문 : tamil nadu minister kp friday said rain come sudden adding people must understand nature fury worked crore master plan work various ways drain water said meanwhile schools colleges chennai shut due rains \n",
      "실제 헤드라인 : rains came all of sudden it is nature fury tn minister \n",
      "예측 헤드라인 :  tn cm directs tn to release in amritsar floods\n",
      "\n",
      "\n",
      "원문 : gujarat purohit topped year india institute medical sciences mbbs entrance test held may lakh candidates given exam seats aiims across country total candidates qualified examination top spread states union territories \n",
      "실제 헤드라인 : gujarat girl tops aiims mbbs exam \n",
      "예측 헤드라인 :  cbse tops jee advanced results\n",
      "\n",
      "\n",
      "원문 : following heavy rainfall city monday portion road marg mumbai caved rains also led waterlogging several areas including east matunga sion colaba chembur east santacruz compound wall construction building also collapsed around cars stuck debris \n",
      "실제 헤드라인 : of road in mumbai caves in due to heavy rainfall \n",
      "예측 헤드라인 :  heavy rainfall in mumbai after heavy rains\n",
      "\n",
      "\n",
      "원문 : people iraqi city mosul celebrated first muslim eid holiday without islamic state since sunday militants ejected much city however expressed sadness destruction year old grand al mosque leaning notably eid prayers allowed islamic state festivities \n",
      "실제 헤드라인 : mosul celebrates first eid without islamic state in years \n",
      "예측 헤드라인 :  isis to be celebrated as army islamic state\n",
      "\n",
      "\n",
      "원문 : rss sunday bjp mla raja singh remarks ram temple asserting never backed actions intend incite violence statement intends use violence added notably raja singh recently asserted would behead traitors oppose construction ram temple ayodhya \n",
      "실제 헤드라인 : rss itself from bjp mla remark on ram temple \n",
      "예측 헤드라인 :  rjd mla calls rjd mla for ram mandir\n",
      "\n",
      "\n",
      "원문 : third visit gujarat month prime minister narendra modi launching india first roll roll ro ro ferry service october ferry service costs crore reduce eight hour distance one hour foundation laid cm modi \n",
      "실제 헤드라인 : pm modi to launch india first ferry service in guj \n",
      "예측 헤드라인 :  pm modi unveils projects worth crore in india\n",
      "\n",
      "\n",
      "원문 : bjp president amit shah reportedly told party workers bjp enter alliance shiv sena lok sabha maharashtra assembly elections comes shiv sena voting confidence motion bjp led nda government shiv sena earlier announced contest elections alone \n",
      "실제 헤드라인 : no alliance with shiv sena in poll shah to bjp workers \n",
      "예측 헤드라인 :  bjp will not contest alliance with amit shah\n",
      "\n",
      "\n",
      "원문 : year old woman allegedly committed suicide hanging ceiling fan strangled mentally challenged seven year old twin sons death maharashtra thane saturday woman left behind note saying depressed several years unable cope condition sons police said \n",
      "실제 헤드라인 : woman commits suicide after killing mentally challenged sons \n",
      "예측 헤드라인 :  year old kills self after being raped by friend in maha\n",
      "\n",
      "\n",
      "원문 : twitter user asked kxip owner preity zinta thinks virat kohli question answer session actress said awesome talking ab de villiers leaping catch zinta said related superman saw catch wow end day also human said disappointed kxip exit \n",
      "실제 헤드라인 : virat kohli is says kxip owner preity zinta \n",
      "예측 헤드라인 :  twitter reacts to dhoni troll kohli in ipl\n",
      "\n",
      "\n",
      "원문 : food beverage giant pepsico named succeed indra nooyi ceo steps october year pepsico veteran promoted president last year overseeing global operations corporate strategy public policy government affairs barcelona native worked spanish maker joining pepsico \n",
      "실제 헤드라인 : who is indra nooyi successor at pepsico \n",
      "예측 헤드라인 :  pepsico appoints pepsico ceo nooyi as chairman of pepsico ceo\n",
      "\n",
      "\n",
      "원문 : ola driver arrested bengaluru allegedly attempting kidnap woman passenger way kempegowda international airport thursday nearing airport driver suddenly changed lanes drove car hyderabad route abused asked keep quiet held raised alarm toll plaza \n",
      "실제 헤드라인 : ola driver arrested for attempting to kidnap woman passenger \n",
      "예측 헤드라인 :  uber driver arrested for molesting woman in delhi\n",
      "\n",
      "\n",
      "원문 : nawazuddin siddiqui paid featuring pepsi sachin ad campaign played role talking kind roles used get early career said either thief beggar people felt yeh hai ke roles nawazuddin turned today \n",
      "실제 헤드라인 : nawazuddin was paid for playing in pepsi ad \n",
      "예측 헤드라인 :  nawazuddin siddiqui to play in web series\n",
      "\n",
      "\n",
      "원문 : class action lawsuit filed us business software maker oracle alleged company systematically underpaid thousands women said analysis oracle payroll data revealed women paid average less per year men similar jobs strongest statistics ever seen powerful numbers plaintiffs lawyer said \n",
      "실제 헤드라인 : oracle paid women less per year than men lawsuit \n",
      "예측 헤드라인 :  ibm hires ex employees claim mn data scandal\n",
      "\n",
      "\n",
      "원문 : federation indian export organisations written rbi finance ministry seeking letters undertakings rbi banned lous billion pnb fraud nirav modi mehul choksi raised overseas credit using fake lous said alternatives lous like bank guarantees increase costs making exports \n",
      "실제 헤드라인 : body writes to rbi for of lous \n",
      "예측 헤드라인 :  rbi asks rbi to ban on pnb fraud\n",
      "\n",
      "\n",
      "원문 : government planning examinations want become independent directors order strengthen corporate governance framework requirement minimum reasonable qualifications certification course also considered government also planning allow indian institute corporate affairs create data bank independent directors \n",
      "실제 헤드라인 : government plans exam for independent director aspirants \n",
      "예측 헤드라인 :  govt to hire students for boards in schools\n",
      "\n",
      "\n",
      "원문 : least ten people killed west bengal twin storms lashed kolkata suburbs tuesday night mobile internet services disrupted storms also affected rail road air traffic kolkata metro railway services also disrupted passengers got stuck tunnel nn \n",
      "실제 헤드라인 : storm in west bengal kills traffic \n",
      "예측 헤드라인 :  dead after death in bengal\n",
      "\n",
      "\n"
     ]
    }
   ],
   "source": [
    "#50개 샘플 돌리기\n",
    "for i in range(50, 100):\n",
    "    print(\"원문 :\", seq2text(encoder_input_test[i]))\n",
    "    print(\"실제 헤드라인 :\", seq2summary(decoder_input_test[i]))\n",
    "    print(\"예측 헤드라인 :\", decode_sequence(encoder_input_test[i].reshape(1, text_max_len)))\n",
    "    print(\"\\n\")"
   ]
  },
  {
   "cell_type": "markdown",
   "id": "f55e9221",
   "metadata": {},
   "source": [
    "# 실제 헤드라인과 예측값의 차이\n",
    "예상했던 것보다는 훨씬 좋은 결과를 얻었다. 사건 장소를 전혀 관련없는 곳으로 적었거나 의미가 통하지 않는 것들도 종종 있으나, 대체적으로 문맥에 맞는 것들이 많이 보인다. \n",
    "헤드라인이 유사하다고 보기에는 아직 갈 길이 멀지만, 스스로 학습을 한 것을 바탕으로 결과를 예측한 것을 봤을 때, 시간과 더 많은 자료로 성능을 더 개선시킬 수 있을 것으로 보인다."
   ]
  },
  {
   "cell_type": "markdown",
   "id": "916db8e9",
   "metadata": {},
   "source": [
    "# 추출적 요약과 추상적 요약의 차이"
   ]
  },
  {
   "cell_type": "code",
   "execution_count": 51,
   "id": "9a86fa66",
   "metadata": {},
   "outputs": [],
   "source": [
    "import requests\n",
    "from summa.summarizer import summarize"
   ]
  },
  {
   "cell_type": "code",
   "execution_count": 70,
   "id": "bb1dc004",
   "metadata": {},
   "outputs": [],
   "source": [
    "urllib.request.urlretrieve(\"https://raw.githubusercontent.com/sunnysai12345/News_Summary/master/news_summary_more.csv\", filename=\"news_summary_more.csv\")\n",
    "data = pd.read_csv('news_summary_more.csv', encoding='iso-8859-1')"
   ]
  },
  {
   "cell_type": "code",
   "execution_count": 72,
   "id": "22f708c7",
   "metadata": {},
   "outputs": [
    {
     "name": "stdout",
     "output_type": "stream",
     "text": [
      "원문 : Saurav Kant, an alumnus of upGrad and IIIT-B's PG Program in Machine learning and Artificial Intelligence, was a Sr Systems Engineer at Infosys with almost 5 years of work experience. The program and upGrad's 360-degree career support helped him transition to a Data Scientist at Tech Mahindra with 90% salary hike. upGrad's Online Power Learning has powered 3 lakh+ careers.\n",
      "실제 요약 : upGrad learner switches to career in ML & Al with 90% salary hike\n",
      "예측 요약 : upGrad's Online Power Learning has powered 3 lakh+ careers.\n",
      "\n",
      "\n",
      "원문 : Kunal Shah's credit card bill payment platform, CRED, gave users a chance to win free food from Swiggy for one year. Pranav Kaushik, a Delhi techie, bagged this reward after spending 2000 CRED coins. Users get one CRED coin per rupee of bill paid, which can be used to avail rewards from brands like Ixigo, BookMyShow, UberEats, Cult.Fit and more.\n",
      "실제 요약 : Delhi techie wins free food from Swiggy for one year on CRED\n",
      "예측 요약 : Users get one CRED coin per rupee of bill paid, which can be used to avail rewards from brands like Ixigo, BookMyShow, UberEats, Cult.Fit and more.\n",
      "\n",
      "\n",
      "원문 : New Zealand defeated India by 8 wickets in the fourth ODI at Hamilton on Thursday to win their first match of the five-match ODI series. India lost an international match under Rohit Sharma's captaincy after 12 consecutive victories dating back to March 2018. The match witnessed India getting all out for 92, their seventh lowest total in ODI cricket history.\n",
      "실제 요약 : New Zealand end Rohit Sharma-led India's 12-match winning streak\n",
      "예측 요약 : The match witnessed India getting all out for 92, their seventh lowest total in ODI cricket history.\n",
      "\n",
      "\n",
      "원문 : With Aegon Life iTerm Insurance plan, customers can enjoy tax benefits on your premiums paid and save up to Ã¢ÂÂ¹46,800^ on taxes. The plan provides life cover up to the age of 100 years. Also, customers have options to insure against Critical Illnesses, Disability and Accidental Death Benefit Rider with a life cover up to the age of 80 years.\n",
      "실제 요약 : Aegon life iTerm insurance plan helps customers save tax\n",
      "예측 요약 : Also, customers have options to insure against Critical Illnesses, Disability and Accidental Death Benefit Rider with a life cover up to the age of 80 years.\n",
      "\n",
      "\n",
      "원문 : Speaking about the sexual harassment allegations against Rajkumar Hirani, Sonam Kapoor said, \"I've known Hirani for many years...What if it's not true, the [#MeToo] movement will get derailed.\" \"In the #MeToo movement, I always believe a woman. But in this case, we need to reserve our judgment,\" she added. Hirani has been accused by an assistant who worked in 'Sanju'.\n",
      "실제 요약 : Have known Hirani for yrs, what if MeToo claims are not true: Sonam\n",
      "예측 요약 : Speaking about the sexual harassment allegations against Rajkumar Hirani, Sonam Kapoor said, \"I've known Hirani for many years...What if it's not true, the [#MeToo] movement will get derailed.\" \"In the #MeToo movement, I always believe a woman.\n",
      "\n",
      "\n",
      "원문 : Pakistani singer Rahat Fateh Ali Khan has denied receiving any notice from the Enforcement Directorate over allegedly smuggling foreign currency out of India. \"It would have been better if the authorities would have served the notice first if any and then publicised this,\" reads a press release issued on behalf of Rahat. The statement further called the allegation \"bizarre\".\n",
      "실제 요약 : Rahat Fateh Ali Khan denies getting notice for smuggling currency\n",
      "예측 요약 : Pakistani singer Rahat Fateh Ali Khan has denied receiving any notice from the Enforcement Directorate over allegedly smuggling foreign currency out of India.\n",
      "\n",
      "\n",
      "원문 : India recorded their lowest ODI total in New Zealand after getting all out for 92 runs in 30.5 overs in the fourth ODI at Hamilton on Thursday. Seven of India's batsmen were dismissed for single-digit scores, while their number ten batsman Yuzvendra Chahal top-scored with 18*(37). India's previous lowest ODI total in New Zealand was 108.\n",
      "실제 요약 : India get all out for 92, their lowest ODI total in New Zealand\n",
      "예측 요약 : India's previous lowest ODI total in New Zealand was 108.\n",
      "\n",
      "\n",
      "원문 : Weeks after ex-CBI Director Alok Verma told the Department of Personnel and Training to consider him retired, the Home Ministry asked him to join work on the last day of his fixed tenure as Director on Thursday. The ministry directed him to immediately join as DG, Fire Services, the post he was transferred to after his removal as CBI chief.\n",
      "실제 요약 : Govt directs Alok Verma to join work 1 day before his retirement\n",
      "예측 요약 : \n",
      "\n",
      "\n",
      "원문 : Andhra Pradesh CM N Chandrababu Naidu has said, \"When I met then US President Bill Clinton, I addressed him as Mr Clinton, not as 'sir'. (PM Narendra) Modi is my junior in politics...I addressed him as sir 10 times.\" \"I did this...to satisfy his ego in the hope that he will do justice to the state,\" he added.\n",
      "실제 요약 : Called PM Modi 'sir' 10 times to satisfy his ego: Andhra CM\n",
      "예측 요약 : \n",
      "\n",
      "\n",
      "원문 : Congress candidate Shafia Zubair won the Ramgarh Assembly seat in Rajasthan, by defeating BJP's Sukhwant Singh with a margin of 12,228 votes in the bypoll. With this victory, Congress has taken its total to 100 seats in the 200-member assembly. The election to the Ramgarh seat was delayed due to the death of sitting MLA and BSP candidate Laxman Singh.\n",
      "실제 요약 : Cong wins Ramgarh bypoll in Rajasthan, takes total to 100 seats\n",
      "예측 요약 : Congress candidate Shafia Zubair won the Ramgarh Assembly seat in Rajasthan, by defeating BJP's Sukhwant Singh with a margin of 12,228 votes in the bypoll.\n",
      "\n",
      "\n",
      "원문 : Two minor cousins in Uttar Pradesh's Gorakhpur were allegedly repeatedly burnt with tongs and forced to eat human excreta by their family for being friends with two boys from the same school. The cousins revealed their ordeal to the police and Child Welfare Committee after being brought back to Gorakhpur from Nepal, where they had fled to escape the torture.\n",
      "실제 요약 : UP cousins fed human excreta for friendship with boys\n",
      "예측 요약 : \n",
      "\n",
      "\n",
      "원문 : Isha Ghosh, an 81-year-old member of Bharat Scouts and Guides (BSG), has been imparting physical and mental training to schoolchildren in Jharkhand for several decades. Chaibasa-based Ghosh reportedly walks seven kilometres daily and spends eight hours conducting physical training, apart from climbing and yoga sessions. She says, \"One should do something for society till one's last breath.\"\n",
      "실제 요약 : 81-yr-old woman conducts physical training in J'khand schools\n",
      "예측 요약 : Isha Ghosh, an 81-year-old member of Bharat Scouts and Guides (BSG), has been imparting physical and mental training to schoolchildren in Jharkhand for several decades.\n",
      "\n",
      "\n",
      "원문 : Urging saints and seers at the Kumbh Mela to quit smoking, Yoga guru Ramdev said, \"We follow Ram and Krishna who never smoked in their life then why should we?\" Making them take a pledge to quit tobacco, he collected chillum (clay pipe) from several sadhus. He said he will deposit the chillums for display at a museum he'll build.\n",
      "실제 요약 : Ram, Krishna didn't smoke, why should we: Ramdev to sadhus at Kumbh\n",
      "예측 요약 : \n",
      "\n",
      "\n",
      "원문 : Former stripper and regional sales director of a pharmaceutical company, Sunrise Lee, gave a doctor a lap dance in a nightclub to persuade him to prescribe an addictive fentanyl spray in 2012, the company's sales representative told a US court. She said she saw Lee \"sitting on [doctor's] lap, kind of bouncing around.\" Lee has been accused of bribing doctors.\n",
      "실제 요약 : Pharma exec gave doctor a lap dance to sell medicine in US: Witness\n",
      "예측 요약 : \n",
      "\n",
      "\n",
      "원문 : Reliance Industries' Chairman Mukesh Ambani's daughter Isha Ambani, who got married last month, said she only cried at her 'bidaai' because she felt peer pressure as everyone was crying, especially her parents. \"I was emotional too but everyone around me would cry all the time,\" she added. \"It was a very emotional affair for everyone in my family,\" said Isha.\n",
      "실제 요약 :  I only cried at my 'bidaai' as I felt peer pressure: Isha Ambani\n",
      "예측 요약 : \"It was a very emotional affair for everyone in my family,\" said Isha.\n",
      "\n",
      "\n",
      "원문 : Louis Vuitton owner LVMH, which makes high-end beverages like MoÃÂ«t & Chandon champagne and Hennessy cognac, said it's stockpiling four months' worth of wine and spirits in UK in preparation for Brexit. \"We're ready for worst case scenario if there are difficulties with deliveries,\" the French luxury giant said. The UK is scheduled to leave the EU on March 29.\n",
      "실제 요약 : Louis Vuitton owner to stockpile 4 months of wine, spirits in UK\n",
      "예측 요약 : Louis Vuitton owner LVMH, which makes high-end beverages like MoÃÂ«t & Chandon champagne and Hennessy cognac, said it's stockpiling four months' worth of wine and spirits in UK in preparation for Brexit.\n",
      "\n",
      "\n",
      "원문 : Filmmaker Karan Johar and actress Tabu turned showstoppers for Gaurav Gupta on the opening night of LakmÃÂ© Fashion Week Summer/ Resort 2019. While Johar wore a red sequinned jacket with black pants, Tabu walked the ramp in a grey embellished gown. The fashion show, which began on January 29, will continue till February 3.\n",
      "실제 요약 : Karan Johar, Tabu turn showstoppers on opening night of LFW\n",
      "예측 요약 : Filmmaker Karan Johar and actress Tabu turned showstoppers for Gaurav Gupta on the opening night of LakmÃÂ© Fashion Week Summer/ Resort 2019.\n",
      "\n",
      "\n",
      "원문 : In a jibe at Congress President Rahul Gandhi, PM Narendra Modi on Wednesday said those on \"bail will have to go to jail.\" PM Modi added, \"He is out on bail and his associates too are facing charges...I know they will be convicted one day.\" The PM claimed he'd waged a war on corruption because he's from a common household. \n",
      "실제 요약 : Those on bail will go to jail: PM Modi takes jibe at Rahul\n",
      "예측 요약 : \n",
      "\n",
      "\n",
      "원문 : Days after he threatened to step down from his post if Congress MLAs continue \"crossing the line,\" Karnataka Chief Minister HD Kumaraswamy accused them of taking potshots and asked, \"How many more days can I tolerate such stuff?\" Kumaraswamy, who made the statements after a Congress MLA demanded that Siddaramaiah be made CM again, said, \"Power is ephemeral.\"\n",
      "실제 요약 : How long can I tolerate Congress leaders' potshots: K'taka CM\n",
      "예측 요약 : \n",
      "\n",
      "\n",
      "원문 : Union Minister Dharmendra Pradhan on Wednesday claimed the illegal mining mafia in Odisha operates under the control of CM Naveen Patnaik and state Congress chief Niranjan Patnaik. He added, \"The time has come for the people of Odisha to put a full stop to their activities...The time has come for us to ask for an explanation from this corrupt government.\"\n",
      "실제 요약 : Odisha CM Patnaik controls mining mafia: Union Minister\n",
      "예측 요약 : \n",
      "\n",
      "\n"
     ]
    }
   ],
   "source": [
    "for idx, (head, text) in enumerate(zip(data['headlines'], data['text'])):\n",
    "    if idx == 20:\n",
    "        break\n",
    "    print(\"원문 :\", text)\n",
    "    print(\"실제 요약 :\", head)\n",
    "    print(\"예측 요약 :\", summarize(text, ratio=0.35))\n",
    "    print(\"\\n\")"
   ]
  },
  {
   "cell_type": "markdown",
   "id": "3f01a599",
   "metadata": {},
   "source": [
    "추출적 요약 : 핵심 단어가 포함된 정도는 추상적 요약보다 높지만, 문법 완성도가 낮은 편이다.\n",
    "\n",
    "추상적 요약 : 핵심 단어가 포함된 범위는 낮은 편이지만, 실제 기사 헤드라인과 비교했을 때 문법적인 완성도가 추출적 요약에 비해 높은 편이다. 부족하지만, 추출적요약보다 더 발전할 가능성이 보인다."
   ]
  },
  {
   "cell_type": "markdown",
   "id": "abc42dc7",
   "metadata": {},
   "source": [
    "회고 -\n",
    "오늘은 완성이 늦었다. 대부분이 모델 훈련을 시키는 과정이었는데, 다른 분들에 비해 더 오랜 시간이 걸렸다. \n",
    "왜인지 고민해보니 빈도가 낮은 단어들을 삭제하지 않은 것이 원인인 듯 하다. 높은 결과를 도출해내기 위하여 빈도가 낮아도 무시하고 진행했는데, 시간만 오래걸렸고 좋은 결과를 도출하지 못하였다.\n",
    "이러한 결과가 나올 것을 알았더라면 모든 결과를 포함시키려는 시도는 하지 않았을텐데... 라는 생각이 든다.\n",
    "다음에도 비슷한 것을 할 기회가 생길텐데, 그때는 과감하게 잘라내서 높은 성능을 기대해보아야 할 것 같다."
   ]
  },
  {
   "cell_type": "code",
   "execution_count": null,
   "id": "42a57be7",
   "metadata": {},
   "outputs": [],
   "source": []
  }
 ],
 "metadata": {
  "kernelspec": {
   "display_name": "Python 3 (ipykernel)",
   "language": "python",
   "name": "python3"
  },
  "language_info": {
   "codemirror_mode": {
    "name": "ipython",
    "version": 3
   },
   "file_extension": ".py",
   "mimetype": "text/x-python",
   "name": "python",
   "nbconvert_exporter": "python",
   "pygments_lexer": "ipython3",
   "version": "3.9.7"
  }
 },
 "nbformat": 4,
 "nbformat_minor": 5
}
